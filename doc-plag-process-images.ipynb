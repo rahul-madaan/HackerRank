{
 "cells": [
  {
   "cell_type": "code",
   "execution_count": 5,
   "outputs": [],
   "source": [
    "import os\n",
    "import glob\n",
    "import docx2txt\n",
    "import pandas as pd"
   ],
   "metadata": {
    "collapsed": false,
    "pycharm": {
     "name": "#%%\n"
    }
   }
  },
  {
   "cell_type": "code",
   "execution_count": 4,
   "outputs": [
    {
     "name": "stdout",
     "output_type": "stream",
     "text": [
      "['Graded Lab1_pm470_attempt_2022-10-20-13-40-03_2010111106_GL#1.docx', 'Graded Lab1_pj542_attempt_2022-10-20-13-19-26_DBMS GL1_Palak Jain_2010110453.docx', 'Graded Lab1_st234_attempt_2022-10-20-13-32-29_2010110770_GL#1.docx', 'Graded Lab1_aa324_attempt_2022-10-20-13-55-48_2010110096_GL#1.docx', 'Graded Lab1_bs404_attempt_2022-10-20-13-41-26_2010110193_GL#1.docx', 'Graded Lab1_gv653_attempt_2022-10-20-13-55-04_2010110262_GL#1.docx', 'Graded Lab1_ag247_attempt_2022-10-20-13-34-56_2010110742_GL#1.docx', 'Graded Lab1_hd207_attempt_2022-10-20-13-23-58_2010110278_GL#1.docx', 'Graded Lab1_sg927_attempt_2022-10-20-13-43-11_2010110618_GL#1.docx', 'Graded Lab1_cb943_attempt_2022-10-20-13-55-49_2010110196_GL#1.docx', 'Graded Lab1_ay958_attempt_2022-10-20-13-49-18_GL1_2010110048.docx', 'Graded Lab1_dr895_attempt_2022-10-20-13-56-59_2010111200_GL#1.docx', 'Graded Lab1_vg152_attempt_2022-10-20-13-59-16_2010110715_lab_exam.docx', 'Graded Lab1_an828_attempt_2022-10-20-13-04-19_1910110020_GL1.docx', 'Graded Lab1_ag960_attempt_2022-10-20-13-33-10_2010110152_GL#1.docx', 'Graded Lab1_gs617_attempt_2022-10-20-13-50-32_2010110255_GL#1.docx', 'Graded Lab1_rr556_attempt_2022-10-20-13-44-02_2010110524_GL#1.docx', 'Graded Lab1_ms139_attempt_2022-10-20-13-42-20_2010110399_GL#1.docx', 'Graded Lab1_as106_attempt_2022-10-20-13-53-39_1910110080_GL#1.docx', 'Graded Lab1_tn995_attempt_2022-10-20-13-55-03_GLA1.docx', 'Graded Lab1_mt816_attempt_2022-10-20-13-53-06_2010110404_GL#1.docx', 'Graded Lab1_ma646_attempt_2022-10-20-13-17-03_GradedLab#1_2010110406.docx', 'Graded Lab1_ms279_attempt_2022-10-20-13-52-04_2010110374_Gl#1.docx', 'Graded Lab1_dg136_attempt_2022-10-20-13-47-37_2010110213_gla#1.docx', 'Graded Lab1_ia813_attempt_2022-10-20-13-48-49_2010110291_GL#1.docx', 'Graded Lab1_ss195_attempt_2022-10-20-13-25-08_2010110623_GL#1.docx', 'Graded Lab1_tg982_attempt_2022-10-20-13-42-32_2010110674_GL#1.docx', 'Graded Lab1_ps283_attempt_2022-10-20-13-36-42_2010110479_GL#1.docx', 'Graded Lab1_ag565_attempt_2022-10-20-13-59-23_2010110069_GL#1.docx', 'Graded Lab1_at250_attempt_2022-10-20-13-25-31_2010110113_GL#1.docx', 'Graded Lab1_ls927_attempt_2022-10-20-13-52-17_2010110952_GL#1.docx', 'Graded Lab1_mg107_attempt_2022-10-20-13-54-56_1910110223_GL#1.docx', 'Graded Lab1_am238_attempt_2022-10-20-13-57-54_2010110790_GL#1.docx', 'Graded Lab1_ss838_attempt_2022-10-20-13-45-14_SGokulSharan_GLA1.docx', 'Graded Lab1_ps929_attempt_2022-10-20-13-53-34_1910110285_GL#1.docx', 'Graded Lab1_pg682_attempt_2022-10-20-13-06-57_2010110483_GL#1.docx', 'Graded Lab1_sj442_attempt_2022-10-20-13-45-54_2010110763_GL#1.docx', 'Graded Lab1_cv948_attempt_2022-10-20-13-43-57_2010111244_GL#1.docx', 'Graded Lab1_ss989_attempt_2022-10-20-13-51-22_2010110600_GL#1.docx', 'Graded Lab1_bj995_attempt_2022-10-20-13-41-47_1910110112_GL#1.docx', 'Graded Lab1_cp352_attempt_2022-10-20-13-51-44_2010110200_GL#1.docx', 'Graded Lab1_os583_attempt_2022-10-20-13-17-20_2010110445_GL#1.docx', 'Graded Lab1_bj810_attempt_2022-10-20-14-00-31_2010110811_GL#1.docx', 'Graded Lab1_pj579_attempt_2022-10-20-13-23-08_Prateek_Jain_2010110477_GL1.docx', 'Graded Lab1_tc589_attempt_2022-10-20-13-41-34_2010110686_GL#1.docx', 'Graded Lab1_ks165_attempt_2022-10-20-13-59-29_2010110833-GL#1.docx', 'Graded Lab1_aj232_attempt_2022-10-20-13-49-44_2010110067_GL#1.docx', 'Graded Lab1_ep710_attempt_2022-10-20-13-24-51_2010110238_GL#1.docx', 'Graded Lab1_cb567_attempt_2022-10-20-13-02-06_2010110206_GL#1.docx', 'Graded Lab1_kk345_attempt_2022-10-20-13-37-20_2010110351_GL#1.docx', 'Graded Lab1_da334_attempt_2022-10-20-13-57-50_2010110220_#GL1.docx', 'Graded Lab1_aj157_attempt_2022-10-20-13-47-13_2010110128_GL#1.docx', 'Graded Lab1_av555_attempt_2022-10-20-13-14-24_2010110064_GL#1.docx', 'Graded Lab1_dr366_attempt_2022-10-20-13-28-47_2010110236_GL#1.docx', 'Graded Lab1_mc801_attempt_2022-10-20-13-46-38_2010110378_GL#1.docx', 'Graded Lab1_sb875_attempt_2022-10-20-13-20-14_2010110565_GL#1.docx', 'Graded Lab1_am795_attempt_2022-10-20-13-58-45_2010110072_GL#1.docx', 'Graded Lab1_dr134_attempt_2022-10-20-13-52-04_2010110235_GL#1.docx', 'Graded Lab1_vs269_attempt_2022-10-20-13-02-30_2010110943_GL#1.docx', 'Graded Lab1_mr867_attempt_2022-10-20-13-10-02_2010110393_GL#1.docx', 'Graded Lab1_sp155_attempt_2022-10-20-13-39-35_2010111108_GL#1.docx', 'Graded Lab1_yt734_attempt_2022-10-20-13-05-32_2010110725_GL#1.docx', 'Graded Lab1_an834_attempt_2022-10-20-14-01-40_2010110966_labquiz.docx', 'Graded Lab1_rb618_attempt_2022-10-20-13-02-28_2010110883_GL#1.docx', 'Graded Lab1_am730_attempt_2022-10-20-13-22-16_2010110003_GL#1.docx', 'Graded Lab1_vs883_attempt_2022-10-20-13-01-11_1910110440_GL#1.docx', 'Graded Lab1_gs462_attempt_2022-10-20-14-04-38_2010110256_GL#1.docx', 'Graded Lab1_sg302_attempt_2022-10-20-13-48-43_2010110622_GL#1.docx', 'Graded Lab1_ak970_attempt_2022-10-20-14-05-10_2010110012_GL#1.docx', 'Graded Lab1_rs327_attempt_2022-10-20-13-09-12_2010110526_GL#1.docx', 'Graded Lab1_ng702_attempt_2022-10-20-13-50-18_2010110421_GL#1.docx', 'Graded Lab1_as649_attempt_2022-10-20-13-30-03_1910110026_GL#1.docx', 'Graded Lab1_sk552_attempt_2022-10-20-13-02-06_2010110769_GL1.docx', 'Graded Lab1_sa930_attempt_2022-10-20-13-58-21_2010111246.docx', 'Graded Lab1_rg371_attempt_2022-10-20-13-59-31_Graded Lab 1.docx', 'Graded Lab1_ms790_attempt_2022-10-20-13-13-20_2010110383 GL-1.docx', 'Graded Lab1_is143_attempt_2022-10-20-13-55-16_2010110303_GL#1.docx', 'Graded Lab1_mp936_attempt_2022-10-20-13-55-21_2010111030_GL#1.docx', 'Graded Lab1_gs272_attempt_2022-10-20-13-45-07_Geetham_Surapaneni_LabExam1.docx', 'Graded Lab1_sa292_attempt_2022-10-20-13-43-33_2010110902_GL#1.docx', 'Graded Lab1_sk630_attempt_2022-10-20-13-43-34_2010110646_GL#1.docx', 'Graded Lab1_ks691_attempt_2022-10-20-13-20-53_2010110331_GL#1.docx', 'Graded Lab1_pa283_attempt_2022-10-20-13-36-35_2010110475_GL#1.docx', 'Graded Lab1_ac686_attempt_2022-10-20-13-27-12_2010110108_GL#1.docx', 'Graded Lab1_rs723_attempt_2022-10-20-14-01-51_2010110506_GL#1.docx', 'Graded Lab1_ak325_attempt_2022-10-20-13-40-22_2010110175_GL#1.docx', 'Graded Lab1_ag774_attempt_2022-10-20-13-36-30_2010111155_GL#1.docx', 'Graded Lab1_hs283_attempt_2022-10-20-13-45-06_2010110277_GL#1.docx', 'Graded Lab1_mk197_attempt_2022-10-20-13-50-26_2010110394_GL#1.docx', 'Graded Lab1_as547_attempt_2022-10-20-13-47-50_2010110089_GL#1.docx', 'Graded Lab1_mb631_attempt_2022-10-20-13-59-49_2010110377_gl.docx', 'Graded Lab1_ss115_attempt_2022-10-20-13-58-50_2010111003_GL#1.docx', 'Graded Lab1_as146_attempt_2022-10-20-13-59-12_2010110087_GL#1.docx', 'Graded Lab1_la118_attempt_2022-10-20-13-47-02_2010110364_GL#1.docx', 'Graded Lab1_ms616_attempt_2022-10-20-13-43-00_2010110380_GL#1.docx', 'Graded Lab1_cs100_attempt_2022-10-20-13-58-37_2010111021_GL#1.docx', 'Graded Lab1_ar794_attempt_2022-10-20-13-03-04_2010110111_GL#1.docx', 'Graded Lab1_fk736_attempt_2022-10-20-13-55-46_GL1_2010110245.docx', 'Graded Lab1_ps470_attempt_2022-10-20-13-45-37_Graded Lab.docx', 'Graded Lab1_ps617_attempt_2022-10-20-13-23-33_2010110488_GL#1.docx', 'Graded Lab1_mr644_attempt_2022-10-20-13-44-41_2010110382_GL#1.docx', 'Graded Lab1_jb584_attempt_2022-10-20-13-57-26_jennicab_2010110318_gl1.docx', 'Graded Lab1_kt945_attempt_2022-10-20-13-39-36_2010110835_GL#1.docx', 'Graded Lab1_pa749_attempt_2022-10-20-13-01-06_GLA1 Pratham Aggarwal.docx', 'Graded Lab1_tm217_attempt_2022-10-20-13-00-42_2010110688_GL#1.docx', 'Graded Lab1_km607_attempt_2022-10-20-13-53-32_2010110357_GL#1.docx', 'Graded Lab1_ms991_attempt_2022-10-20-13-49-15_1910110231_GL#1.docx', 'Graded Lab1_aa255_attempt_2022-10-20-14-02-59_2010110140_GL#1.docx', 'Graded Lab1_dg325_attempt_2022-10-20-13-11-53_2010110218_GL#1.docx', 'Graded Lab1_kc294_attempt_2022-10-20-13-23-18_2010110327_GL#1.docx', 'Graded Lab1_ph232_attempt_2022-10-20-13-31-55_2010111245_GL#1.docx', 'Graded Lab1_ak943_attempt_2022-10-20-14-01-11_2010110161_GL#1.docx', 'Graded Lab1_aa760_attempt_2022-10-20-13-48-18_2010110121_GL#1.docx', 'Graded Lab1_hb268_attempt_2022-10-20-13-57-34_2010110980_GL#1.docx', 'Graded Lab1_mc744_attempt_2022-10-20-13-52-31_2010110402_GL1.docx', 'Graded Lab1_ab575_attempt_2022-10-20-13-52-58_2010110798_GL#1.docx', 'Graded Lab1_pt992_attempt_2022-10-20-13-37-09_2010110482_GL#1.docx', 'Graded Lab1_am649_attempt_2022-10-20-13-52-48_GLA1_anoushka_mishra_2010110106.docx', 'Graded Lab1_st289_attempt_2022-10-20-13-06-31_2010111038_GL#1.docx', 'Graded Lab1_ss865_attempt_2022-10-20-13-41-17_2010110643_GL#1.docx', 'Graded Lab1_sn701_attempt_2022-10-20-13-38-08_2010110574_GL1.docx', 'Graded Lab1_vp433_attempt_2022-10-20-13-58-02_2010110710_GL#1.docx', 'Graded Lab1_kr268_attempt_2022-10-20-13-55-47_katakam saideep reddy_gla1.docx', 'Graded Lab1_pi467_attempt_2022-10-20-13-52-01_2010110472_GLA1.docx', 'Graded Lab1_jk577_attempt_2022-10-20-13-48-15_2010110308_GL#1.docx', 'Graded Lab1_ay636_attempt_2022-10-20-13-57-36_2010110174_GL#1.docx', 'Graded Lab1_sb355_attempt_2022-10-20-13-47-02_2010110640_GL#1.docx', 'Graded Lab1_pd597_attempt_2022-10-20-13-45-41_Paritosh_Dutta_2010110458_gla1.docx', 'Graded Lab1_ak707_attempt_2022-10-20-13-41-24_2010110020_GL#1.docx', 'Graded Lab1_ay795_attempt_2022-10-20-14-08-29_20101100047.docx', 'Graded Lab1_kr521_attempt_2022-10-20-13-48-19_2010110354_GL#1.docx', 'Graded Lab1_ss878_attempt_2022-10-20-13-00-44_2010110898_GL#1.docx', 'Graded Lab1_an229_attempt_2022-10-20-13-52-15_Aarush Narang_Graded Lab 1_2010110009.docx', 'Graded Lab1_ps738_attempt_2022-10-20-13-34-46_2010110478_GL#1.docx', 'Graded Lab1_sk132_attempt_2022-10-20-13-58-56_2010110649_GL#1.docx', 'Graded Lab1_sr576_attempt_2022-10-20-14-04-45_2010110638_GL1.docx', 'Graded Lab1_ji206_attempt_2022-10-20-13-50-47_2010110319_GL#1.docx', 'Graded Lab1_ab983_attempt_2022-10-20-13-47-20_GLA1_DBMS_2010110083_AnanyaBarakoti.docx', 'Graded Lab1_pc627_attempt_2022-10-20-13-53-08_2010110485_GL#1.docx', 'Graded Lab1_py448_attempt_2022-10-20-14-02-27_GL1_2010110466_POSAM YESWANTH REDDY.docx', 'Graded Lab1_ap315_attempt_2022-10-20-13-42-23_2010110074_GL#1.docx', 'Graded Lab1_nn667_attempt_2022-10-20-13-47-27_2010110861_GL#1.docx', 'Graded Lab1_ns322_attempt_2022-10-20-13-59-12_2010110443_GL#1.docx', 'Graded Lab1_vg293_attempt_2022-10-20-13-59-40_2010111043_GL#1.docx', 'Graded Lab1_cb283_attempt_2022-10-20-13-56-15_2010110204_GL#1.docx', 'Graded Lab1_js968_attempt_2022-10-20-14-00-07_2010110310_GL#1.docx', 'Graded Lab1_rc166_attempt_2022-10-20-13-56-20_2010110759_GL#1.docx', 'Graded Lab1_ag640_attempt_2022-10-20-13-01-14_2010110065_GL#1.docx', 'Graded Lab1_aj534_attempt_2022-10-20-13-57-28_1910110085_GL#1.docx', 'Graded Lab1_dm411_attempt_2022-10-20-13-13-14_2010110234_GL#1.docx', 'Graded Lab1_am492_attempt_2022-10-20-13-27-41_2010110042_GL#1.docx', 'Graded Lab1_ag213_attempt_2022-10-20-13-52-59_2010110126_GL#1.docx']\n"
     ]
    }
   ],
   "source": [
    "docx_file_list = glob.glob(\"submissions/*.docx\")\n",
    "\n",
    "docx_file_list = [i[12:] for i in docx_file_list]\n",
    "\n",
    "\n",
    "print(docx_file_list)\n",
    "\n",
    "\n",
    "\n"
   ],
   "metadata": {
    "collapsed": false,
    "pycharm": {
     "name": "#%%\n"
    }
   }
  },
  {
   "cell_type": "code",
   "execution_count": 5,
   "outputs": [],
   "source": [
    "# full name to netid\n",
    "for i in docx_file_list:\n",
    "    os.rename(\"submissions/\"+i,\"submissions/\"+i[15:20]+\".docx\")"
   ],
   "metadata": {
    "collapsed": false,
    "pycharm": {
     "name": "#%%\n"
    }
   }
  },
  {
   "cell_type": "code",
   "execution_count": 6,
   "outputs": [],
   "source": [
    "\n",
    "\n",
    "docx_file_list = glob.glob(\"submissions/*.docx\")\n",
    "\n",
    "docx_file_list = [i[12:] for i in docx_file_list]\n"
   ],
   "metadata": {
    "collapsed": false,
    "pycharm": {
     "name": "#%%\n"
    }
   }
  },
  {
   "cell_type": "code",
   "execution_count": 7,
   "outputs": [
    {
     "name": "stdout",
     "output_type": "stream",
     "text": [
      "['ak943', 'ag960', 'tg982', 'ps470', 'kt945', 'ks691', 'sb355', 'ss838', 'ss195', 'gs462', 'cp352', 'ab575', 'gs272', 'mc744', 'kr521', 'as146', 'ia813', 'nn667', 'dg325', 'ls927', 'is143', 'hb268', 'sg927', 'ps738', 'kk345', 'ng702', 'ar794', 'ps283', 'am730', 'vg293', 'cb567', 'vs883', 'sk552', 'av555', 'ph232', 'at250', 'mp936', 'as106', 'ak325', 'ss989', 'aj534', 'mk197', 'tn995', 'pt992', 'ji206', 'as649', 'kc294', 'yt734', 'ss878', 'an828', 'mc801', 'ma646', 'ps929', 'ss865', 'dm411', 'as547', 'am649', 'ag213', 'hs283', 'sr576', 'la118', 'dr134', 'ay795', 'rr556', 'mg107', 'aa324', 'an229', 'mr644', 'dr895', 'kr268', 'ns322', 'sa292', 'ms279', 'am795', 'mt816', 'am238', 'sk630', 'sk132', 'vg152', 'st289', 'sn701', 'rs327', 'pd597', 'mb631', 'pm470', 'rg371', 'pg682', 'bj995', 'an834', 'hd207', 'ps617', 'rs723', 'fk736', 'aa255', 'pa283', 'mr867', 'bj810', 'dg136', 'pi467', 'py448', 'sa930', 'aj157', 'ak707', 'jb584', 'aa760', 'cb283', 'bs404', 'cb943', 'am492', 'ag565', 'sp155', 'js968', 'ay958', 'tc589', 'tm217', 'ag247', 'ag640', 'km607', 'aj232', 'ak970', 'gv653', 'rc166', 'ss115', 'pj579', 'ms790', 'jk577', 'ms616', 'pc627', 'ms991', 'cs100', 'pa749', 'ac686', 'da334', 'st234', 'sb875', 'dr366', 'sj442', 'vs269', 'rb618', 'gs617', 'ay636', 'os583', 'ab983', 'ks165', 'cv948', 'ap315', 'ep710', 'ms139', 'pj542', 'sg302', 'ag774', 'vp433']\n"
     ]
    }
   ],
   "source": [
    "present_list = [i[:5] for i in docx_file_list]\n",
    "print(present_list)"
   ],
   "metadata": {
    "collapsed": false,
    "pycharm": {
     "name": "#%%\n"
    }
   }
  },
  {
   "cell_type": "code",
   "execution_count": 8,
   "outputs": [],
   "source": [
    "\n",
    "for i in docx_file_list:\n",
    "    os.mkdir(\"/Users/rahul.madan/PycharmProjects/HackerRank-and-leetcode/submissions/img/\"+i[:5])\n",
    "    _ = docx2txt.process(\"/Users/rahul.madan/PycharmProjects/HackerRank-and-leetcode/submissions/\"+i,\n",
    "                            '/Users/rahul.madan/PycharmProjects/HackerRank-and-leetcode/submissions/img/'+i[:5])"
   ],
   "metadata": {
    "collapsed": false,
    "pycharm": {
     "name": "#%%\n"
    }
   }
  },
  {
   "cell_type": "code",
   "execution_count": 9,
   "outputs": [],
   "source": [
    "import cv2\n",
    "from collections import Counter\n"
   ],
   "metadata": {
    "collapsed": false,
    "pycharm": {
     "name": "#%%\n"
    }
   }
  },
  {
   "cell_type": "code",
   "execution_count": 10,
   "metadata": {
    "collapsed": true
   },
   "outputs": [
    {
     "name": "stdout",
     "output_type": "stream",
     "text": [
      "['tg982', 'da334', 'sr576', 'tm217', 'mr644', 'cp352', 'as547', 'ng702', 'pj579', 'as146', 'st289', 'ms790', 'ss838', 'sk630', 'ak943', 'mg107', 'ss865', 'ms991', 'tc589', 'am730', 'ab575', 'ps929', 'aa760', 'dg325', 'pd597', 'km607', 'rg371', 'pa283', 'ab983', 'bs404', 'kt945', 'ms616', 'ss115', 'ji206', 'gv653', 'ay958', 'la118', 'vg293', 'ay795', 'ss989', 'rs327', 'pm470', 'sb875', 'kr268', 'vs883', 'rc166', 'av555', 'bj995', 'as649', 'rb618', 'sj442', 'at250', 'cb567', 'sk552', 'tn995', 'ar794', 'ac686', 'mc801', 'is143', 'jb584', 'ps283', 'sb355', 'dr366', 'nn667', 'pc627', 'ph232', 'kr521', 'mb631', 'ss878', 'mc744', 'ap315', 'cs100', 'yt734', 'mr867', 'aa255', 'ay636', 'as106', 'st234', 'ns322', 'hs283', 'am649', 'pj542', 'ms139', 'ak970', 'mk197', 'hd207', 'sa930', 'ak325', 'aj232', 'an834', 'ag774', 'gs462', 'dr895', 'sp155', 'rs723', 'dm411', 'cb943', 'am795', 'ms279', 'vs269', 'ks165', 'py448', 'pt992', 'sg927', 'js968', 'cv948', 'aa324', 'mt816', 'ag640', 'jk577', 'sg302', 'hb268', 'vp433', 'dg136', 'ep710', 'kk345', 'aj534', 'ag213', 'aj157', 'fk736', 'ag247', 'sk132', 'ss195', 'pi467', 'ps738', 'sa292', 'ia813', 'pg682', 'ma646', 'ks691', 'pa749', 'ps617', 'gs617', 'am238', 'an229', 'rr556', 'ps470', 'mp936', 'ag565', 'ak707', 'dr134', 'sn701', 'cb283', 'os583', 'ag960', 'kc294', 'am492', 'ls927', 'an828', 'bj810', 'gs272', 'vg152']\n"
     ]
    }
   ],
   "source": [
    "import glob\n",
    "\n",
    "docx_file_list = glob.glob(\"submissions/img/*\")\n",
    "docx_file_list = [i[16:] for i in docx_file_list]\n",
    "print(docx_file_list)"
   ]
  },
  {
   "cell_type": "code",
   "execution_count": 11,
   "outputs": [
    {
     "name": "stdout",
     "output_type": "stream",
     "text": [
      "{'tg982': ['image8.png', 'image9.png', 'image11.png', 'image10.png', 'image7.png', 'image6.png', 'image4.png', 'image5.png', 'image1.png', 'image2.png', 'image3.png'], 'da334': ['image8.png', 'image9.png', 'image11.png', 'image10.png', 'image7.png', 'image6.png', 'image4.png', 'image5.png', 'image1.png', 'image2.png', 'image3.png'], 'sr576': ['image8.png', 'image9.png', 'image14.png', 'image15.png', 'image12.png', 'image13.png', 'image11.png', 'image10.png', 'image7.png', 'image6.png', 'image4.png', 'image5.png', 'image1.png', 'image2.png', 'image3.png'], 'tm217': ['image8.png', 'image9.png', 'image14.png', 'image15.png', 'image17.png', 'image16.png', 'image12.png', 'image13.png', 'image11.png', 'image10.png', 'image7.png', 'image6.png', 'image4.png', 'image5.png', 'image1.png', 'image2.png', 'image3.png'], 'mr644': ['image8.png', 'image9.png', 'image14.png', 'image15.png', 'image17.png', 'image16.png', 'image12.png', 'image13.png', 'image11.png', 'image10.png', 'image18.png', 'image7.png', 'image6.png', 'image4.png', 'image5.png', 'image1.png', 'image2.png', 'image3.png'], 'cp352': ['image8.png', 'image9.png', 'image14.png', 'image15.png', 'image17.png', 'image16.png', 'image12.png', 'image13.png', 'image11.png', 'image10.png', 'image18.png', 'image7.png', 'image6.png', 'image4.png', 'image5.png', 'image1.png', 'image2.png', 'image3.png'], 'as547': ['image8.png', 'image9.png', 'image12.png', 'image13.png', 'image11.png', 'image10.png', 'image7.png', 'image6.png', 'image4.png', 'image5.png', 'image1.png', 'image2.png', 'image3.png'], 'ng702': ['image8.png', 'image9.png', 'image14.png', 'image15.png', 'image17.png', 'image16.png', 'image12.png', 'image13.png', 'image11.png', 'image10.png', 'image7.png', 'image6.png', 'image4.png', 'image5.png', 'image1.png', 'image2.png', 'image3.png'], 'pj579': ['image8.png', 'image9.png', 'image14.png', 'image15.png', 'image16.png', 'image12.png', 'image13.png', 'image11.png', 'image10.png', 'image7.png', 'image6.png', 'image4.png', 'image5.png', 'image1.png', 'image2.png', 'image3.png'], 'as146': ['image8.png', 'image9.png', 'image14.png', 'image15.png', 'image16.png', 'image12.png', 'image13.png', 'image11.png', 'image10.png', 'image7.png', 'image6.png', 'image4.png', 'image5.png', 'image1.png', 'image2.png', 'image3.png'], 'st289': ['image8.png', 'image9.png', 'image14.png', 'image15.png', 'image17.png', 'image16.png', 'image12.png', 'image13.png', 'image11.png', 'image10.png', 'image7.png', 'image6.png', 'image4.png', 'image5.png', 'image1.png', 'image2.png', 'image3.png'], 'ms790': ['image8.png', 'image9.png', 'image14.png', 'image15.png', 'image17.png', 'image16.png', 'image12.png', 'image13.png', 'image11.png', 'image10.png', 'image7.png', 'image6.png', 'image4.png', 'image5.png', 'image1.png', 'image2.png', 'image3.png'], 'ss838': ['image8.png', 'image9.png', 'image14.png', 'image15.png', 'image17.png', 'image16.png', 'image12.png', 'image13.png', 'image11.png', 'image10.png', 'image7.png', 'image6.png', 'image4.png', 'image5.png', 'image1.png', 'image2.png', 'image3.png'], 'sk630': ['image8.png', 'image9.png', 'image14.png', 'image15.png', 'image17.png', 'image16.png', 'image12.png', 'image13.png', 'image11.png', 'image10.png', 'image20.png', 'image18.png', 'image19.png', 'image7.png', 'image6.png', 'image4.png', 'image5.png', 'image1.png', 'image2.png', 'image3.png'], 'ak943': ['image8.png', 'image9.png', 'image12.png', 'image13.png', 'image11.png', 'image10.png', 'image7.png', 'image6.png', 'image4.png', 'image5.png', 'image1.png', 'image2.png', 'image3.png'], 'mg107': ['image8.png', 'image9.png', 'image14.png', 'image15.png', 'image12.png', 'image13.png', 'image11.png', 'image10.png', 'image7.png', 'image6.png', 'image4.png', 'image5.png', 'image1.png', 'image2.png', 'image3.png'], 'ss865': ['image8.png', 'image9.png', 'image11.png', 'image10.png', 'image7.png', 'image6.png', 'image4.png', 'image5.png', 'image1.png', 'image2.png', 'image3.png'], 'ms991': ['image8.png', 'image9.png', 'image14.png', 'image12.png', 'image13.png', 'image11.png', 'image10.png', 'image7.png', 'image6.png', 'image4.png', 'image5.png', 'image1.png', 'image2.png', 'image3.png'], 'tc589': ['image8.png', 'image9.png', 'image14.png', 'image15.png', 'image17.png', 'image16.png', 'image12.png', 'image13.png', 'image11.png', 'image10.png', 'image20.png', 'image18.png', 'image19.png', 'image7.png', 'image6.png', 'image4.png', 'image5.png', 'image1.png', 'image2.png', 'image3.png'], 'am730': ['image8.png', 'image9.png', 'image10.png', 'image7.png', 'image6.png', 'image4.png', 'image5.png', 'image1.png', 'image2.png', 'image3.png'], 'ab575': ['image8.png', 'image9.png', 'image14.png', 'image15.png', 'image17.png', 'image16.png', 'image12.png', 'image13.png', 'image11.png', 'image10.png', 'image7.png', 'image6.png', 'image4.png', 'image5.png', 'image1.png', 'image2.png', 'image3.png'], 'ps929': ['image8.png', 'image9.png', 'image12.png', 'image13.png', 'image11.png', 'image10.png', 'image7.png', 'image6.png', 'image4.png', 'image5.png', 'image1.png', 'image2.png', 'image3.png'], 'aa760': ['image8.png', 'image9.png', 'image14.png', 'image15.png', 'image17.png', 'image16.png', 'image12.png', 'image13.png', 'image11.png', 'image10.png', 'image7.png', 'image6.png', 'image4.png', 'image5.png', 'image1.png', 'image2.png', 'image3.png'], 'dg325': ['image8.png', 'image9.png', 'image14.png', 'image15.png', 'image17.png', 'image16.png', 'image12.png', 'image13.png', 'image11.png', 'image10.png', 'image18.png', 'image7.png', 'image6.png', 'image4.png', 'image5.png', 'image1.png', 'image2.png', 'image3.png'], 'pd597': ['image8.png', 'image9.png', 'image12.png', 'image11.png', 'image10.png', 'image7.png', 'image6.png', 'image4.png', 'image5.png', 'image1.png', 'image2.png', 'image3.png'], 'km607': ['image8.png', 'image9.png', 'image14.png', 'image15.png', 'image17.png', 'image16.png', 'image12.png', 'image13.png', 'image11.png', 'image10.png', 'image18.png', 'image7.png', 'image6.png', 'image4.png', 'image5.png', 'image1.png', 'image2.png', 'image3.png'], 'rg371': ['image8.png', 'image9.png', 'image14.png', 'image15.png', 'image17.png', 'image16.png', 'image12.png', 'image13.png', 'image11.png', 'image10.png', 'image21.png', 'image20.png', 'image18.png', 'image19.png', 'image7.png', 'image6.png', 'image4.png', 'image5.png', 'image1.png', 'image2.png', 'image3.png'], 'pa283': ['image8.png', 'image9.png', 'image14.png', 'image15.png', 'image17.png', 'image16.png', 'image12.png', 'image13.png', 'image11.png', 'image10.png', 'image18.png', 'image19.png', 'image7.png', 'image6.png', 'image4.png', 'image5.png', 'image1.png', 'image2.png', 'image3.png'], 'ab983': ['image8.png', 'image9.png', 'image14.png', 'image15.png', 'image17.png', 'image16.png', 'image12.png', 'image13.png', 'image11.png', 'image10.png', 'image7.png', 'image6.png', 'image4.png', 'image5.png', 'image1.png', 'image2.png', 'image3.png'], 'bs404': ['image8.png', 'image9.png', 'image14.png', 'image15.png', 'image16.png', 'image12.png', 'image13.png', 'image11.png', 'image10.png', 'image7.png', 'image6.png', 'image4.png', 'image5.png', 'image1.png', 'image2.png', 'image3.png'], 'kt945': ['image8.png', 'image9.png', 'image12.png', 'image13.png', 'image11.png', 'image10.png', 'image7.png', 'image6.png', 'image4.png', 'image5.png', 'image1.png', 'image2.png', 'image3.png'], 'ms616': ['image8.png', 'image9.png', 'image14.png', 'image15.png', 'image17.png', 'image16.png', 'image12.png', 'image13.png', 'image11.png', 'image10.png', 'image18.png', 'image7.png', 'image6.png', 'image4.png', 'image5.png', 'image1.png', 'image2.png', 'image3.png'], 'ss115': ['image8.png', 'image9.png', 'image11.png', 'image10.png', 'image7.png', 'image6.png', 'image4.png', 'image5.png', 'image1.png', 'image2.png', 'image3.png'], 'ji206': ['image8.png', 'image9.png', 'image14.png', 'image15.png', 'image17.png', 'image16.png', 'image12.png', 'image13.png', 'image11.png', 'image10.png', 'image18.png', 'image7.png', 'image6.png', 'image4.png', 'image5.png', 'image1.png', 'image2.png', 'image3.png'], 'gv653': ['image8.png', 'image9.png', 'image14.png', 'image15.png', 'image17.png', 'image16.png', 'image12.png', 'image13.png', 'image11.png', 'image10.png', 'image7.png', 'image6.png', 'image4.png', 'image5.png', 'image1.png', 'image2.png', 'image3.png'], 'ay958': ['image8.png', 'image9.png', 'image14.png', 'image15.png', 'image12.png', 'image13.png', 'image11.png', 'image10.png', 'image7.png', 'image6.png', 'image4.png', 'image5.png', 'image1.png', 'image2.png', 'image3.png'], 'la118': ['image8.png', 'image9.png', 'image14.png', 'image15.png', 'image12.png', 'image13.png', 'image11.png', 'image10.png', 'image7.png', 'image6.png', 'image4.png', 'image5.png', 'image1.png', 'image2.png', 'image3.png'], 'vg293': ['image8.png', 'image9.png', 'image11.png', 'image10.png', 'image7.png', 'image6.png', 'image4.png', 'image5.png', 'image1.png', 'image2.png', 'image3.png'], 'ay795': ['image8.png', 'image9.png', 'image14.png', 'image15.png', 'image12.png', 'image13.png', 'image11.png', 'image10.png', 'image7.png', 'image6.png', 'image4.png', 'image5.png', 'image1.png', 'image2.png', 'image3.png'], 'ss989': ['image8.png', 'image9.png', 'image14.png', 'image15.png', 'image17.png', 'image16.png', 'image12.png', 'image13.png', 'image11.png', 'image10.png', 'image7.png', 'image6.png', 'image4.png', 'image5.png', 'image1.png', 'image2.png', 'image3.png'], 'rs327': ['image8.png', 'image9.png', 'image14.png', 'image15.png', 'image16.png', 'image12.png', 'image13.png', 'image11.png', 'image10.png', 'image7.png', 'image6.png', 'image4.png', 'image5.png', 'image1.png', 'image2.png', 'image3.png'], 'pm470': ['image8.png', 'image9.png', 'image14.png', 'image15.png', 'image17.png', 'image16.png', 'image12.png', 'image13.png', 'image11.png', 'image10.png', 'image7.png', 'image6.png', 'image4.png', 'image5.png', 'image1.png', 'image2.png', 'image3.png'], 'sb875': ['image8.png', 'image9.png', 'image14.png', 'image15.png', 'image17.png', 'image16.png', 'image12.png', 'image13.png', 'image11.png', 'image10.png', 'image7.png', 'image6.png', 'image4.png', 'image5.png', 'image1.png', 'image2.png', 'image3.png'], 'kr268': ['image8.png', 'image9.png', 'image14.png', 'image15.png', 'image16.png', 'image12.png', 'image13.png', 'image11.png', 'image10.png', 'image7.png', 'image6.png', 'image4.png', 'image5.png', 'image1.png', 'image2.png', 'image3.png'], 'vs883': ['image8.png', 'image9.png', 'image14.png', 'image15.png', 'image16.png', 'image12.png', 'image13.png', 'image11.png', 'image10.png', 'image7.png', 'image6.png', 'image4.png', 'image5.png', 'image1.png', 'image2.png', 'image3.png'], 'rc166': ['image8.png', 'image9.png', 'image14.png', 'image15.png', 'image17.png', 'image16.png', 'image12.png', 'image13.png', 'image11.png', 'image10.png', 'image7.png', 'image6.png', 'image4.png', 'image5.png', 'image1.png', 'image2.png', 'image3.png'], 'av555': ['image8.png', 'image9.png', 'image14.png', 'image15.png', 'image17.png', 'image16.png', 'image12.png', 'image13.png', 'image11.png', 'image10.png', 'image7.png', 'image6.png', 'image4.png', 'image5.png', 'image1.png', 'image2.png', 'image3.png'], 'bj995': ['image8.png', 'image9.png', 'image14.png', 'image15.png', 'image17.png', 'image16.png', 'image12.png', 'image13.png', 'image11.png', 'image10.png', 'image21.png', 'image20.png', 'image22.png', 'image23.png', 'image18.png', 'image24.png', 'image19.png', 'image7.png', 'image6.png', 'image4.png', 'image5.png', 'image1.png', 'image2.png', 'image3.png'], 'as649': ['image8.png', 'image9.png', 'image14.png', 'image15.png', 'image17.png', 'image16.png', 'image12.png', 'image13.png', 'image11.png', 'image10.png', 'image7.png', 'image6.png', 'image4.png', 'image5.png', 'image1.png', 'image2.png', 'image3.png'], 'rb618': ['image8.png', 'image9.png', 'image14.png', 'image15.png', 'image12.png', 'image13.png', 'image11.png', 'image10.png', 'image7.png', 'image6.png', 'image4.png', 'image5.png', 'image1.png', 'image2.png', 'image3.png'], 'sj442': ['image8.png', 'image9.png', 'image14.png', 'image15.png', 'image12.png', 'image13.png', 'image11.png', 'image10.png', 'image7.png', 'image6.png', 'image4.png', 'image5.png', 'image1.png', 'image2.png', 'image3.png'], 'at250': ['image8.png', 'image9.png', 'image14.png', 'image12.png', 'image13.png', 'image11.png', 'image10.png', 'image7.png', 'image6.png', 'image4.png', 'image5.png', 'image1.png', 'image2.png', 'image3.png'], 'cb567': ['image8.png', 'image9.png', 'image14.png', 'image15.png', 'image17.png', 'image16.png', 'image12.png', 'image13.png', 'image11.png', 'image10.png', 'image7.png', 'image6.png', 'image4.png', 'image5.png', 'image1.png', 'image2.png', 'image3.png'], 'sk552': ['image4.png', 'image1.png', 'image2.png', 'image3.png'], 'tn995': ['image8.png', 'image9.png', 'image12.png', 'image13.png', 'image11.png', 'image10.png', 'image7.png', 'image6.png', 'image4.png', 'image5.png', 'image1.png', 'image2.png', 'image3.png'], 'ar794': ['image8.png', 'image9.png', 'image14.png', 'image15.png', 'image17.png', 'image16.png', 'image12.png', 'image13.png', 'image11.png', 'image10.png', 'image20.png', 'image18.png', 'image19.png', 'image7.png', 'image6.png', 'image4.png', 'image5.png', 'image1.png', 'image2.png', 'image3.png'], 'ac686': ['image8.png', 'image9.png', 'image14.png', 'image15.png', 'image12.png', 'image13.png', 'image11.png', 'image10.png', 'image7.png', 'image6.png', 'image4.png', 'image5.png', 'image1.png', 'image2.png', 'image3.png'], 'mc801': ['image8.png', 'image9.png', 'image14.png', 'image15.png', 'image17.png', 'image16.png', 'image12.png', 'image13.png', 'image11.png', 'image10.png', 'image18.png', 'image7.png', 'image6.png', 'image4.png', 'image5.png', 'image1.png', 'image2.png', 'image3.png'], 'is143': ['image8.png', 'image9.png', 'image11.png', 'image10.png', 'image7.png', 'image6.png', 'image4.png', 'image5.png', 'image1.png', 'image2.png', 'image3.png'], 'jb584': ['image8.png', 'image9.png', 'image14.png', 'image15.png', 'image16.png', 'image12.png', 'image13.png', 'image11.png', 'image10.png', 'image7.png', 'image6.png', 'image4.png', 'image5.png', 'image1.png', 'image2.png', 'image3.png'], 'ps283': ['image8.png', 'image9.png', 'image14.png', 'image15.png', 'image17.png', 'image16.png', 'image12.png', 'image13.png', 'image11.png', 'image10.png', 'image7.png', 'image6.png', 'image4.png', 'image5.png', 'image1.png', 'image2.png', 'image3.png'], 'sb355': ['image8.png', 'image9.png', 'image14.png', 'image15.png', 'image12.png', 'image13.png', 'image11.png', 'image10.png', 'image7.png', 'image6.png', 'image4.png', 'image5.png', 'image1.png', 'image2.png', 'image3.png'], 'dr366': ['image8.png', 'image9.png', 'image14.png', 'image15.png', 'image12.png', 'image13.png', 'image11.png', 'image10.png', 'image7.png', 'image6.png', 'image4.png', 'image5.png', 'image1.png', 'image2.png', 'image3.png'], 'nn667': ['image8.png', 'image9.png', 'image14.png', 'image15.png', 'image17.png', 'image16.png', 'image12.png', 'image13.png', 'image11.png', 'image10.png', 'image18.png', 'image7.png', 'image6.png', 'image4.png', 'image5.png', 'image1.png', 'image2.png', 'image3.png'], 'pc627': ['image8.png', 'image9.png', 'image14.png', 'image15.png', 'image17.png', 'image16.png', 'image12.png', 'image13.png', 'image11.png', 'image10.png', 'image7.png', 'image6.png', 'image4.png', 'image5.png', 'image1.png', 'image2.png', 'image3.png'], 'ph232': ['image1.png', 'image2.png', 'image3.png'], 'kr521': ['image8.png', 'image9.png', 'image14.png', 'image15.png', 'image16.png', 'image12.png', 'image13.png', 'image11.png', 'image10.png', 'image7.png', 'image6.png', 'image4.png', 'image5.png', 'image1.png', 'image2.png', 'image3.png'], 'mb631': ['image8.png', 'image9.png', 'image12.png', 'image13.png', 'image11.png', 'image10.png', 'image7.png', 'image6.png', 'image4.png', 'image5.png', 'image1.png', 'image2.png', 'image3.png'], 'ss878': ['image8.png', 'image9.png', 'image14.png', 'image15.png', 'image17.png', 'image16.png', 'image12.png', 'image13.png', 'image11.png', 'image10.png', 'image7.png', 'image6.png', 'image4.png', 'image5.png', 'image1.png', 'image2.png', 'image3.png'], 'mc744': ['image8.png', 'image9.png', 'image14.png', 'image15.png', 'image17.png', 'image16.png', 'image12.png', 'image13.png', 'image11.png', 'image10.png', 'image18.png', 'image7.png', 'image6.png', 'image4.png', 'image5.png', 'image1.png', 'image2.png', 'image3.png'], 'ap315': ['image8.png', 'image9.png', 'image12.png', 'image11.png', 'image10.png', 'image7.png', 'image6.png', 'image4.png', 'image5.png', 'image1.png', 'image2.png', 'image3.png'], 'cs100': ['image8.png', 'image9.png', 'image14.png', 'image15.png', 'image17.png', 'image16.png', 'image12.png', 'image13.png', 'image11.png', 'image10.png', 'image18.png', 'image7.png', 'image6.png', 'image4.png', 'image5.png', 'image1.png', 'image2.png', 'image3.png'], 'yt734': [], 'mr867': ['image8.png', 'image9.png', 'image14.png', 'image15.png', 'image17.png', 'image16.png', 'image12.png', 'image13.png', 'image11.png', 'image10.png', 'image7.png', 'image6.png', 'image4.png', 'image5.png', 'image1.png', 'image2.png', 'image3.png'], 'aa255': ['image8.png', 'image9.png', 'image11.png', 'image10.png', 'image7.png', 'image6.png', 'image4.png', 'image5.png', 'image1.png', 'image2.png', 'image3.png'], 'ay636': ['image8.png', 'image9.png', 'image14.png', 'image12.png', 'image13.png', 'image11.png', 'image10.png', 'image7.png', 'image6.png', 'image4.png', 'image5.png', 'image1.png', 'image2.png', 'image3.png'], 'as106': [], 'st234': ['image8.png', 'image9.png', 'image14.png', 'image12.png', 'image13.png', 'image11.png', 'image10.png', 'image7.png', 'image6.png', 'image4.png', 'image5.png', 'image1.png', 'image2.png', 'image3.png'], 'ns322': ['image8.png', 'image9.png', 'image14.png', 'image15.png', 'image17.png', 'image16.png', 'image12.png', 'image13.png', 'image11.png', 'image10.png', 'image18.png', 'image7.png', 'image6.png', 'image4.png', 'image5.png', 'image1.png', 'image2.png', 'image3.png'], 'hs283': ['image8.png', 'image9.png', 'image14.png', 'image12.png', 'image13.png', 'image11.png', 'image10.png', 'image7.png', 'image6.png', 'image4.png', 'image5.png', 'image1.png', 'image2.png', 'image3.png'], 'am649': ['image6.png', 'image4.png', 'image5.png', 'image1.png', 'image2.png', 'image3.png'], 'pj542': ['image8.png', 'image9.png', 'image12.png', 'image13.png', 'image11.png', 'image10.png', 'image7.png', 'image6.png', 'image4.png', 'image5.png', 'image1.png', 'image2.png', 'image3.png'], 'ms139': ['image8.png', 'image9.png', 'image14.png', 'image15.png', 'image16.png', 'image12.png', 'image13.png', 'image11.png', 'image10.png', 'image7.png', 'image6.png', 'image4.png', 'image5.png', 'image1.png', 'image2.png', 'image3.png'], 'ak970': ['image8.png', 'image9.png', 'image7.png', 'image6.png', 'image4.png', 'image5.png', 'image1.png', 'image2.png', 'image3.png'], 'mk197': ['image8.png', 'image9.png', 'image14.png', 'image15.png', 'image16.png', 'image12.png', 'image13.png', 'image11.png', 'image10.png', 'image7.png', 'image6.png', 'image4.png', 'image5.png', 'image1.png', 'image2.png', 'image3.png'], 'hd207': ['image8.png', 'image9.png', 'image14.png', 'image15.png', 'image17.png', 'image16.png', 'image12.png', 'image13.png', 'image11.png', 'image10.png', 'image7.png', 'image6.png', 'image4.png', 'image5.png', 'image1.png', 'image2.png', 'image3.png'], 'sa930': ['image1.png'], 'ak325': ['image8.png', 'image9.png', 'image14.png', 'image12.png', 'image13.png', 'image11.png', 'image10.png', 'image7.png', 'image6.png', 'image4.png', 'image5.png', 'image1.png', 'image2.png', 'image3.png'], 'aj232': ['image8.png', 'image9.png', 'image14.png', 'image15.png', 'image17.png', 'image16.png', 'image12.png', 'image13.png', 'image11.png', 'image10.png', 'image7.png', 'image6.png', 'image4.png', 'image5.png', 'image1.png', 'image2.png', 'image3.png'], 'an834': ['image8.png', 'image9.png', 'image12.png', 'image13.png', 'image11.png', 'image10.png', 'image7.png', 'image6.png', 'image4.png', 'image5.png', 'image1.png', 'image2.png', 'image3.png'], 'ag774': ['image8.png', 'image9.png', 'image14.png', 'image12.png', 'image13.png', 'image11.png', 'image10.png', 'image7.png', 'image6.png', 'image4.png', 'image5.png', 'image1.png', 'image2.png', 'image3.png'], 'gs462': ['image8.png', 'image9.png', 'image14.png', 'image15.png', 'image16.png', 'image12.png', 'image13.png', 'image11.png', 'image10.png', 'image7.png', 'image6.png', 'image4.png', 'image5.png', 'image1.png', 'image2.png', 'image3.png'], 'dr895': ['image8.png', 'image9.png', 'image11.png', 'image10.png', 'image7.png', 'image6.png', 'image4.png', 'image5.png', 'image1.png', 'image2.png', 'image3.png'], 'sp155': ['image8.png', 'image9.png', 'image14.png', 'image15.png', 'image17.png', 'image16.png', 'image12.png', 'image13.png', 'image11.png', 'image10.png', 'image18.png', 'image7.png', 'image6.png', 'image4.png', 'image5.png', 'image1.png', 'image2.png', 'image3.png'], 'rs723': ['image8.png', 'image9.png', 'image14.png', 'image15.png', 'image17.png', 'image16.png', 'image12.png', 'image13.png', 'image11.png', 'image10.png', 'image18.png', 'image19.png', 'image7.png', 'image6.png', 'image4.png', 'image5.png', 'image1.png', 'image2.png', 'image3.png'], 'dm411': ['image8.png', 'image9.png', 'image14.png', 'image15.png', 'image17.png', 'image16.png', 'image12.png', 'image13.png', 'image11.png', 'image10.png', 'image20.png', 'image18.png', 'image19.png', 'image7.png', 'image6.png', 'image4.png', 'image5.png', 'image1.png', 'image2.png', 'image3.png'], 'cb943': ['image8.png', 'image9.png', 'image14.png', 'image15.png', 'image16.png', 'image12.png', 'image13.png', 'image11.png', 'image10.png', 'image7.png', 'image6.png', 'image4.png', 'image5.png', 'image1.png', 'image2.png', 'image3.png'], 'am795': ['image8.png', 'image9.png', 'image14.png', 'image12.png', 'image13.png', 'image11.png', 'image10.png', 'image7.png', 'image6.png', 'image4.png', 'image5.png', 'image1.png', 'image2.png', 'image3.png'], 'ms279': ['image8.png', 'image9.png', 'image14.png', 'image15.png', 'image17.png', 'image16.png', 'image12.png', 'image13.png', 'image11.png', 'image10.png', 'image7.png', 'image6.png', 'image4.png', 'image5.png', 'image1.png', 'image2.png', 'image3.png'], 'vs269': ['image8.png', 'image9.png', 'image12.png', 'image11.png', 'image10.png', 'image7.png', 'image6.png', 'image4.png', 'image5.png', 'image1.png', 'image2.png', 'image3.png'], 'ks165': ['image8.png', 'image9.png', 'image14.png', 'image15.png', 'image17.png', 'image16.png', 'image12.png', 'image13.png', 'image11.png', 'image10.png', 'image7.png', 'image6.png', 'image4.png', 'image5.png', 'image1.png', 'image2.png', 'image3.png'], 'py448': ['image8.png', 'image9.png', 'image14.png', 'image15.png', 'image17.png', 'image16.png', 'image12.png', 'image13.png', 'image11.png', 'image10.png', 'image21.png', 'image20.png', 'image22.png', 'image23.png', 'image18.png', 'image19.png', 'image7.png', 'image6.png', 'image4.png', 'image5.png', 'image1.png', 'image2.png', 'image3.png'], 'pt992': ['image8.png', 'image9.png', 'image14.png', 'image15.png', 'image17.png', 'image16.png', 'image12.png', 'image13.png', 'image11.png', 'image10.png', 'image7.png', 'image6.png', 'image4.png', 'image5.png', 'image1.png', 'image2.png', 'image3.png'], 'sg927': ['image8.png', 'image9.png', 'image14.png', 'image15.png', 'image17.png', 'image16.png', 'image12.png', 'image13.png', 'image11.png', 'image10.png', 'image7.png', 'image6.png', 'image4.png', 'image5.png', 'image1.png', 'image2.png', 'image3.png'], 'js968': ['image8.png', 'image9.png', 'image14.png', 'image15.png', 'image12.png', 'image13.png', 'image11.png', 'image10.png', 'image7.png', 'image6.png', 'image4.png', 'image5.png', 'image1.png', 'image2.png', 'image3.png'], 'cv948': ['image14.jpeg', 'image9.png', 'image1.jpeg', 'image12.jpeg', 'image6.jpeg', 'image7.jpeg', 'image13.jpeg', 'image11.png', 'image10.jpeg', 'image8.jpeg', 'image5.jpeg', 'image4.png', 'image2.png', 'image3.jpeg'], 'aa324': ['image8.png', 'image9.png', 'image14.png', 'image15.png', 'image16.png', 'image12.png', 'image13.png', 'image11.png', 'image10.png', 'image7.png', 'image6.png', 'image4.png', 'image5.png', 'image1.png', 'image2.png', 'image3.png'], 'mt816': ['image8.png', 'image9.png', 'image14.png', 'image15.png', 'image12.png', 'image13.png', 'image11.png', 'image10.png', 'image7.png', 'image6.png', 'image4.png', 'image5.png', 'image1.png', 'image2.png', 'image3.png'], 'ag640': ['image8.png', 'image9.png', 'image14.png', 'image15.png', 'image17.png', 'image16.png', 'image12.png', 'image13.png', 'image11.png', 'image10.png', 'image7.png', 'image6.png', 'image4.png', 'image5.png', 'image1.png', 'image2.png', 'image3.png'], 'jk577': ['image8.png', 'image9.png', 'image14.png', 'image15.png', 'image17.png', 'image16.png', 'image12.png', 'image13.png', 'image11.png', 'image10.png', 'image18.png', 'image7.png', 'image6.png', 'image4.png', 'image5.png', 'image1.png', 'image2.png', 'image3.png'], 'sg302': ['image8.png', 'image9.png', 'image12.png', 'image13.png', 'image11.png', 'image10.png', 'image7.png', 'image6.png', 'image4.png', 'image5.png', 'image1.png', 'image2.png', 'image3.png'], 'hb268': ['image8.png', 'image9.png', 'image14.png', 'image15.png', 'image16.png', 'image12.png', 'image13.png', 'image11.png', 'image10.png', 'image7.png', 'image6.png', 'image4.png', 'image5.png', 'image1.png', 'image2.png', 'image3.png'], 'vp433': ['image8.png', 'image9.png', 'image14.png', 'image12.png', 'image13.png', 'image11.png', 'image10.png', 'image7.png', 'image6.png', 'image4.png', 'image5.png', 'image1.png', 'image2.png', 'image3.png'], 'dg136': ['image8.png', 'image9.png', 'image14.png', 'image15.png', 'image17.png', 'image16.png', 'image12.png', 'image13.png', 'image11.png', 'image10.png', 'image21.png', 'image20.png', 'image22.png', 'image23.png', 'image18.png', 'image19.png', 'image7.png', 'image6.png', 'image4.png', 'image5.png', 'image1.png', 'image2.png', 'image3.png'], 'ep710': ['image8.png', 'image9.png', 'image14.png', 'image15.png', 'image16.png', 'image12.png', 'image13.png', 'image11.png', 'image10.png', 'image7.png', 'image6.png', 'image4.png', 'image5.png', 'image1.png', 'image2.png', 'image3.png'], 'kk345': ['image8.png', 'image9.png', 'image14.png', 'image15.png', 'image17.png', 'image16.png', 'image12.png', 'image13.png', 'image11.png', 'image10.png', 'image18.png', 'image19.png', 'image7.png', 'image6.png', 'image4.png', 'image5.png', 'image1.png', 'image2.png', 'image3.png'], 'aj534': ['image8.png', 'image9.png', 'image12.png', 'image13.png', 'image11.png', 'image10.png', 'image7.png', 'image6.png', 'image4.png', 'image5.png', 'image1.png', 'image2.png', 'image3.png'], 'ag213': ['image8.png', 'image9.png', 'image14.png', 'image15.png', 'image17.png', 'image16.png', 'image12.png', 'image13.png', 'image11.png', 'image10.png', 'image18.png', 'image7.png', 'image6.png', 'image4.png', 'image5.png', 'image1.png', 'image2.png', 'image3.png'], 'aj157': ['image8.png', 'image9.png', 'image14.png', 'image15.png', 'image17.png', 'image16.png', 'image12.png', 'image13.png', 'image11.png', 'image10.png', 'image20.png', 'image18.png', 'image19.png', 'image7.png', 'image6.png', 'image4.png', 'image5.png', 'image1.png', 'image2.png', 'image3.png'], 'fk736': ['image8.png', 'image9.png', 'image14.png', 'image15.png', 'image17.png', 'image16.png', 'image12.png', 'image13.png', 'image11.png', 'image10.png', 'image7.png', 'image6.png', 'image4.png', 'image5.png', 'image1.png', 'image2.png', 'image3.png'], 'ag247': ['image8.png', 'image9.png', 'image11.png', 'image10.png', 'image7.png', 'image6.png', 'image4.png', 'image5.png', 'image1.png', 'image2.png', 'image3.png'], 'sk132': ['image8.png', 'image9.png', 'image14.png', 'image15.png', 'image16.png', 'image12.png', 'image13.png', 'image11.png', 'image10.png', 'image7.png', 'image6.png', 'image4.png', 'image5.png', 'image1.png', 'image2.png', 'image3.png'], 'ss195': ['image8.png', 'image9.png', 'image14.png', 'image12.png', 'image13.png', 'image11.png', 'image10.png', 'image7.png', 'image6.png', 'image4.png', 'image5.png', 'image1.png', 'image2.png', 'image3.png'], 'pi467': ['image14.jpg', 'image15.jpg', 'image17.jpg', 'image16.jpg', 'image7.jpeg', 'image12.jpg', 'image13.jpg', 'image11.jpg', 'image10.jpg', 'image8.jpeg', 'image21.jpg', 'image20.jpg', 'image22.jpg', 'image18.jpg', 'image19.jpg', 'image9.jpeg', 'image6.jpg', 'image4.jpg', 'image5.jpg', 'image1.jpg', 'image2.jpg', 'image3.jpg'], 'ps738': ['image8.png', 'image9.png', 'image14.png', 'image15.png', 'image17.png', 'image16.png', 'image12.png', 'image13.png', 'image11.png', 'image10.png', 'image7.png', 'image6.png', 'image4.png', 'image5.png', 'image1.png', 'image2.png', 'image3.png'], 'sa292': ['image4.png', 'image1.png', 'image2.png', 'image3.png'], 'ia813': ['image8.png', 'image9.png', 'image14.png', 'image15.png', 'image17.png', 'image16.png', 'image12.png', 'image13.png', 'image11.png', 'image10.png', 'image18.png', 'image7.png', 'image6.png', 'image4.png', 'image5.png', 'image1.png', 'image2.png', 'image3.png'], 'pg682': ['image8.png', 'image9.png', 'image14.png', 'image15.png', 'image17.png', 'image16.png', 'image12.png', 'image13.png', 'image11.png', 'image10.png', 'image7.png', 'image6.png', 'image4.png', 'image5.png', 'image1.png', 'image2.png', 'image3.png'], 'ma646': ['image8.png', 'image9.png', 'image14.png', 'image15.png', 'image17.png', 'image16.png', 'image12.png', 'image13.png', 'image11.png', 'image10.png', 'image7.png', 'image6.png', 'image4.png', 'image5.png', 'image1.png', 'image2.png', 'image3.png'], 'ks691': ['image8.png', 'image9.png', 'image12.png', 'image13.png', 'image11.png', 'image10.png', 'image7.png', 'image6.png', 'image4.png', 'image5.png', 'image1.png', 'image2.png', 'image3.png'], 'pa749': [], 'ps617': ['image8.png', 'image9.png', 'image14.png', 'image15.png', 'image16.png', 'image12.png', 'image13.png', 'image11.png', 'image10.png', 'image7.png', 'image6.png', 'image4.png', 'image5.png', 'image1.png', 'image2.png', 'image3.png'], 'gs617': ['image8.png', 'image9.png', 'image14.png', 'image15.png', 'image12.png', 'image13.png', 'image11.png', 'image10.png', 'image7.png', 'image6.png', 'image4.png', 'image5.png', 'image1.png', 'image2.png', 'image3.png'], 'am238': ['image8.png', 'image9.png', 'image14.png', 'image15.png', 'image17.png', 'image16.png', 'image12.png', 'image13.png', 'image11.png', 'image10.png', 'image18.png', 'image19.png', 'image7.png', 'image6.png', 'image4.png', 'image5.png', 'image1.png', 'image2.png', 'image3.png'], 'an229': ['image8.png', 'image9.png', 'image14.png', 'image15.png', 'image12.png', 'image13.png', 'image11.png', 'image10.png', 'image7.png', 'image6.png', 'image4.png', 'image5.png', 'image1.png', 'image2.png', 'image3.png'], 'rr556': ['image8.png', 'image9.png', 'image14.png', 'image15.png', 'image17.png', 'image16.png', 'image12.png', 'image13.png', 'image11.png', 'image10.png', 'image7.png', 'image6.png', 'image4.png', 'image5.png', 'image1.png', 'image2.png', 'image3.png'], 'ps470': ['image8.png', 'image9.png', 'image14.png', 'image15.png', 'image16.png', 'image12.png', 'image13.png', 'image11.png', 'image10.png', 'image7.png', 'image6.png', 'image4.png', 'image5.png', 'image1.png', 'image2.png', 'image3.png'], 'mp936': [], 'ag565': ['image8.png', 'image9.png', 'image14.png', 'image15.png', 'image12.png', 'image13.png', 'image11.png', 'image10.png', 'image7.png', 'image6.png', 'image4.png', 'image5.png', 'image1.png', 'image2.png', 'image3.png'], 'ak707': ['image8.png', 'image9.png', 'image11.png', 'image10.png', 'image7.png', 'image6.png', 'image4.png', 'image5.png', 'image1.png', 'image2.png', 'image3.png'], 'dr134': ['image8.png', 'image9.png', 'image10.png', 'image7.png', 'image6.png', 'image4.png', 'image5.png', 'image1.png', 'image2.png', 'image3.png'], 'sn701': ['image8.png', 'image9.png', 'image12.png', 'image13.png', 'image11.png', 'image10.png', 'image7.png', 'image6.png', 'image4.png', 'image5.png', 'image1.png', 'image2.png', 'image3.png'], 'cb283': ['image8.png', 'image9.png', 'image14.png', 'image15.png', 'image17.png', 'image16.png', 'image12.png', 'image13.png', 'image11.png', 'image10.png', 'image7.png', 'image6.png', 'image4.png', 'image5.png', 'image1.png', 'image2.png', 'image3.png'], 'os583': ['image8.png', 'image9.png', 'image12.png', 'image13.png', 'image11.png', 'image10.png', 'image7.png', 'image6.png', 'image4.png', 'image5.png', 'image1.png', 'image2.png', 'image3.png'], 'ag960': ['image8.png', 'image9.png', 'image14.png', 'image12.png', 'image13.png', 'image11.png', 'image10.png', 'image7.png', 'image6.png', 'image4.png', 'image5.png', 'image1.png', 'image2.png', 'image3.png'], 'kc294': ['image8.png', 'image9.png', 'image14.png', 'image15.png', 'image17.png', 'image16.png', 'image12.png', 'image13.png', 'image11.png', 'image10.png', 'image21.png', 'image20.png', 'image22.png', 'image18.png', 'image19.png', 'image7.png', 'image6.png', 'image4.png', 'image5.png', 'image1.png', 'image2.png', 'image3.png'], 'am492': ['image8.png', 'image9.png', 'image14.png', 'image15.png', 'image17.png', 'image16.png', 'image12.png', 'image13.png', 'image11.png', 'image10.png', 'image7.png', 'image6.png', 'image4.png', 'image5.png', 'image1.png', 'image2.png', 'image3.png'], 'ls927': ['image8.png', 'image9.png', 'image12.png', 'image11.png', 'image10.png', 'image7.png', 'image6.png', 'image4.png', 'image5.png', 'image1.png', 'image2.png', 'image3.png'], 'an828': ['image8.png', 'image9.png', 'image11.png', 'image10.png', 'image7.png', 'image6.png', 'image4.png', 'image5.png', 'image1.png', 'image2.png', 'image3.png'], 'bj810': ['image8.png', 'image9.png', 'image14.png', 'image15.png', 'image16.png', 'image12.png', 'image13.png', 'image11.png', 'image10.png', 'image7.png', 'image6.png', 'image4.png', 'image5.png', 'image1.png', 'image2.png', 'image3.png'], 'gs272': ['image8.png', 'image9.png', 'image14.png', 'image15.png', 'image17.png', 'image16.png', 'image12.png', 'image13.png', 'image11.png', 'image10.png', 'image18.png', 'image7.png', 'image6.png', 'image4.png', 'image5.png', 'image1.png', 'image2.png', 'image3.png'], 'vg152': ['image8.png', 'image9.png', 'image14.png', 'image15.png', 'image16.png', 'image12.png', 'image13.png', 'image11.png', 'image10.png', 'image7.png', 'image6.png', 'image4.png', 'image5.png', 'image1.png', 'image2.png', 'image3.png']}\n"
     ]
    }
   ],
   "source": [
    "image_names_dict={}\n",
    "for netID in docx_file_list:\n",
    "    image_names = glob.glob(\"submissions/img/\"+netID+\"/*\")\n",
    "    image_names = [i[22:] for i in image_names]\n",
    "    image_names_dict[netID] = image_names\n",
    "\n",
    "print(image_names_dict)"
   ],
   "metadata": {
    "collapsed": false,
    "pycharm": {
     "name": "#%%\n"
    }
   }
  },
  {
   "cell_type": "code",
   "execution_count": 12,
   "outputs": [
    {
     "name": "stdout",
     "output_type": "stream",
     "text": [
      "{'tg982': [(125, 411, 3), (118, 368, 3), (48, 337, 3), (175, 533, 3), (129, 422, 3), (172, 358, 3), (180, 284, 3), (192, 362, 3), (216, 838, 3), (212, 876, 3), (206, 821, 3)], 'da334': [(1080, 1920, 3), (1080, 1920, 3), (1080, 1920, 3), (1080, 1920, 3), (1080, 1920, 3), (1080, 1920, 3), (1080, 1920, 3), (1080, 1920, 3), (1080, 1920, 3), (1080, 1920, 3), (1080, 1920, 3)], 'sr576': [(136, 796, 3), (125, 671, 3), (98, 661, 3), (224, 492, 3), (266, 1050, 3), (40, 758, 3), (173, 716, 3), (185, 799, 3), (146, 700, 3), (304, 669, 3), (404, 734, 3), (298, 802, 3), (131, 807, 3), (331, 704, 3), (242, 977, 3)], 'tm217': [(149, 744, 3), (182, 906, 3), (204, 961, 3), (201, 1496, 3), (139, 417, 3), (178, 1038, 3), (182, 1061, 3), (209, 1755, 3), (188, 960, 3), (257, 868, 3), (182, 941, 3), (539, 858, 3), (374, 1711, 3), (353, 1461, 3), (285, 1890, 3), (722, 706, 3), (211, 534, 3)], 'mr644': [(130, 326, 3), (129, 302, 3), (163, 951, 3), (143, 743, 3), (148, 947, 3), (157, 931, 3), (307, 534, 3), (131, 962, 3), (176, 491, 3), (121, 654, 3), (58, 303, 3), (267, 419, 3), (269, 456, 3), (236, 720, 3), (338, 315, 3), (93, 287, 3), (217, 727, 3), (208, 691, 3)], 'cp352': [(205, 551, 3), (142, 390, 3), (132, 1783, 3), (148, 854, 3), (124, 867, 3), (140, 1754, 3), (116, 725, 3), (111, 770, 3), (179, 582, 3), (127, 672, 3), (62, 387, 3), (242, 1039, 3), (230, 1071, 3), (361, 1581, 3), (245, 1265, 3), (50, 332, 3), (119, 777, 3), (419, 512, 3)], 'as547': [(122, 819, 3), (184, 1089, 3), (135, 912, 3), (47, 295, 3), (201, 1352, 3), (374, 1090, 3), (362, 1478, 3), (165, 485, 3), (122, 299, 3), (95, 626, 3), (823, 1574, 3), (1014, 1422, 3), (131, 336, 3)], 'ng702': [(136, 544, 3), (115, 722, 3), (140, 848, 3), (173, 963, 3), (55, 339, 3), (129, 892, 3), (149, 966, 3), (150, 969, 3), (170, 848, 3), (178, 708, 3), (132, 658, 3), (238, 966, 3), (265, 966, 3), (264, 961, 3), (314, 791, 3), (215, 708, 3), (236, 961, 3)], 'pj579': [(129, 422, 3), (128, 677, 3), (152, 1605, 3), (139, 1164, 3), (127, 1014, 3), (137, 907, 3), (340, 1223, 3), (129, 790, 3), (173, 612, 3), (134, 415, 3), (177, 279, 3), (196, 292, 3), (177, 250, 3), (214, 798, 3), (205, 732, 3), (537, 1655, 3)], 'as146': [(122, 428, 3), (132, 322, 3), (153, 1097, 3), (123, 864, 3), (105, 327, 3), (121, 729, 3), (143, 1019, 3), (181, 549, 3), (122, 652, 3), (411, 522, 3), (368, 585, 3), (496, 491, 3), (437, 501, 3), (48, 733, 3), (43, 693, 3), (69, 1245, 3)], 'st289': [(122, 431, 3), (98, 425, 3), (173, 560, 3), (120, 617, 3), (121, 723, 3), (116, 1440, 3), (123, 687, 3), (144, 1195, 3), (84, 744, 3), (153, 591, 3), (94, 345, 3), (305, 988, 3), (249, 1053, 3), (249, 1025, 3), (117, 704, 3), (51, 939, 3), (496, 785, 3)], 'ms790': [(124, 360, 3), (178, 418, 3), (171, 598, 3), (150, 1452, 3), (52, 347, 3), (136, 852, 3), (133, 895, 3), (146, 1181, 3), (134, 831, 3), (182, 608, 3), (129, 395, 3), (375, 744, 3), (437, 498, 3), (376, 603, 3), (46, 741, 3), (43, 700, 3), (127, 489, 3)], 'ss838': [(121, 457, 3), (151, 524, 3), (181, 635, 3), (202, 428, 3), (305, 328, 3), (167, 505, 3), (165, 537, 3), (201, 592, 3), (129, 918, 3), (176, 735, 3), (132, 745, 3), (196, 307, 3), (262, 1190, 3), (236, 1147, 3), (223, 796, 3), (203, 735, 3), (217, 1600, 3)], 'sk630': [(129, 418, 3), (123, 669, 3), (169, 298, 3), (197, 548, 3), (245, 856, 3), (175, 456, 3), (158, 693, 3), (65, 864, 3), (129, 589, 3), (170, 522, 3), (64, 372, 3), (187, 520, 3), (158, 430, 3), (122, 426, 3), (255, 1018, 3), (274, 1023, 3), (263, 1023, 3), (215, 802, 3), (204, 730, 3), (216, 970, 3)], 'ak943': [(135, 574, 3), (171, 504, 3), (156, 1063, 3), (124, 787, 3), (252, 925, 3), (122, 857, 3), (120, 662, 3), (130, 330, 3), (260, 1920, 3), (180, 410, 3), (114, 1920, 3), (215, 1920, 3), (245, 1920, 3)], 'mg107': [(181, 516, 3), (122, 705, 3), (127, 828, 3), (58, 320, 3), (144, 763, 3), (178, 833, 3), (158, 938, 3), (119, 693, 3), (122, 667, 3), (128, 317, 3), (555, 263, 3), (122, 398, 3), (205, 326, 3), (144, 437, 3), (499, 331, 3)], 'ss865': [(124, 383, 3), (180, 705, 3), (52, 318, 3), (135, 1229, 3), (118, 433, 3), (130, 531, 3), (337, 1054, 3), (324, 1402, 3), (54, 361, 3), (131, 852, 3), (318, 536, 3)], 'ms991': [(202, 321, 3), (164, 474, 3), (263, 368, 3), (183, 702, 3), (167, 307, 3), (189, 387, 3), (164, 747, 3), (151, 419, 3), (167, 364, 3), (546, 343, 3), (135, 241, 3), (596, 648, 3), (490, 471, 3), (440, 351, 3)], 'tc589': [(51, 989, 3), (545, 305, 3), (170, 548, 3), (132, 1020, 3), (119, 1059, 3), (207, 524, 3), (115, 364, 3), (171, 480, 3), (125, 417, 3), (123, 583, 3), (44, 293, 3), (184, 517, 3), (151, 443, 3), (51, 1014, 3), (30, 1055, 3), (167, 896, 3), (159, 419, 3), (86, 300, 3), (212, 710, 3), (209, 713, 3)], 'am730': [(116, 412, 3), (214, 710, 3), (40, 309, 3), (116, 293, 3), (126, 326, 3), (153, 321, 3), (542, 285, 3), (688, 1631, 3), (495, 451, 3), (325, 310, 3)], 'ab575': [(122, 301, 3), (151, 491, 3), (160, 252, 3), (181, 483, 3), (56, 310, 3), (150, 496, 3), (155, 491, 3), (187, 513, 3), (185, 372, 3), (174, 388, 3), (117, 407, 3), (308, 319, 3), (337, 326, 3), (307, 324, 3), (280, 457, 3), (255, 467, 3), (228, 942, 3)], 'ps929': [(188, 422, 3), (152, 416, 3), (134, 675, 3), (44, 302, 3), (123, 780, 3), (136, 637, 3), (137, 377, 3), (122, 327, 3), (428, 399, 3), (204, 446, 3), (439, 339, 3), (218, 509, 3), (167, 270, 3)], 'aa760': [(169, 349, 3), (172, 699, 3), (131, 852, 3), (160, 932, 3), (109, 322, 3), (161, 905, 3), (126, 838, 3), (153, 923, 3), (126, 884, 3), (199, 590, 3), (185, 600, 3), (316, 863, 3), (296, 859, 3), (309, 643, 3), (302, 895, 3), (218, 777, 3), (261, 865, 3)], 'dg325': [(128, 667, 3), (176, 610, 3), (346, 699, 3), (150, 1230, 3), (43, 312, 3), (126, 803, 3), (55, 553, 3), (152, 1252, 3), (123, 699, 3), (370, 1048, 3), (88, 319, 3), (129, 400, 3), (125, 587, 3), (365, 495, 3), (371, 511, 3), (158, 961, 3), (495, 487, 3), (432, 476, 3)], 'pd597': [(137, 1546, 3), (105, 942, 3), (66, 320, 3), (123, 892, 3), (145, 1618, 3), (136, 958, 3), (16, 638, 3), (125, 638, 3), (670, 1839, 3), (385, 936, 3), (495, 1146, 3), (446, 1771, 3)], 'km607': [(171, 514, 3), (233, 858, 3), (134, 853, 3), (161, 941, 3), (128, 841, 3), (140, 467, 3), (82, 941, 3), (145, 726, 3), (116, 745, 3), (129, 570, 3), (46, 307, 3), (118, 635, 3), (133, 337, 3), (241, 959, 3), (114, 356, 3), (47, 306, 3), (90, 725, 3), (52, 943, 3)], 'rg371': [(125, 481, 3), (197, 289, 3), (128, 694, 3), (186, 497, 3), (169, 963, 3), (145, 975, 3), (136, 407, 3), (131, 315, 3), (176, 277, 3), (185, 248, 3), (63, 350, 3), (127, 793, 3), (285, 922, 3), (231, 747, 3), (124, 468, 3), (161, 437, 3), (474, 455, 3), (161, 437, 3), (94, 293, 3), (85, 756, 3), (83, 706, 3)], 'pa283': [(151, 384, 3), (129, 407, 3), (168, 1629, 3), (161, 490, 3), (150, 774, 3), (138, 752, 3), (125, 798, 3), (676, 1631, 3), (158, 639, 3), (209, 497, 3), (165, 915, 3), (95, 293, 3), (140, 401, 3), (237, 1067, 3), (256, 1195, 3), (243, 1085, 3), (401, 411, 3), (335, 463, 3), (476, 669, 3)], 'ab983': [(157, 347, 3), (171, 420, 3), (172, 596, 3), (167, 1348, 3), (61, 323, 3), (134, 773, 3), (150, 737, 3), (166, 1045, 3), (121, 773, 3), (191, 669, 3), (218, 649, 3), (331, 1163, 3), (281, 1135, 3), (288, 1111, 3), (219, 893, 3), (165, 497, 3), (201, 487, 3)], 'bs404': [(125, 589, 3), (167, 505, 3), (153, 902, 3), (127, 798, 3), (49, 302, 3), (159, 909, 3), (160, 901, 3), (139, 906, 3), (137, 875, 3), (125, 329, 3), (114, 415, 3), (183, 241, 3), (251, 982, 3), (227, 887, 3), (306, 957, 3), (266, 948, 3)], 'kt945': [(163, 500, 3), (120, 807, 3), (119, 869, 3), (48, 323, 3), (136, 1073, 3), (143, 924, 3), (120, 647, 3), (101, 293, 3), (232, 980, 3), (120, 327, 3), (264, 1893, 3), (246, 1047, 3), (231, 1013, 3)], 'ms616': [(130, 450, 3), (130, 724, 3), (140, 1150, 3), (141, 755, 3), (128, 788, 3), (149, 1202, 3), (121, 774, 3), (238, 1157, 3), (109, 241, 3), (180, 605, 3), (46, 318, 3), (130, 416, 3), (231, 1085, 3), (258, 1219, 3), (238, 1105, 3), (302, 749, 3), (207, 717, 3), (226, 1205, 3)], 'ss115': [(127, 364, 3), (124, 741, 3), (535, 515, 3), (513, 433, 3), (126, 480, 3), (248, 987, 3), (219, 992, 3), (535, 993, 3), (249, 337, 3), (252, 771, 3), (208, 716, 3)], 'ji206': [(131, 417, 3), (128, 429, 3), (173, 944, 3), (141, 663, 3), (132, 676, 3), (160, 775, 3), (113, 677, 3), (129, 636, 3), (170, 547, 3), (127, 421, 3), (393, 303, 3), (459, 432, 3), (302, 315, 3), (288, 429, 3), (333, 318, 3), (277, 527, 3), (99, 306, 3), (157, 447, 3)], 'gv653': [(384, 553, 3), (373, 528, 3), (134, 960, 3), (152, 828, 3), (60, 326, 3), (136, 820, 3), (135, 684, 3), (182, 534, 3), (148, 460, 3), (126, 300, 3), (431, 513, 3), (178, 462, 3), (175, 486, 3), (67, 968, 3), (77, 741, 3), (171, 487, 3), (58, 703, 3)], 'ay958': [(169, 509, 3), (120, 672, 3), (119, 820, 3), (59, 317, 3), (148, 786, 3), (142, 941, 3), (152, 943, 3), (136, 948, 3), (117, 515, 3), (123, 343, 3), (175, 281, 3), (128, 423, 3), (50, 745, 3), (38, 719, 3), (363, 288, 3)], 'la118': [(127, 486, 3), (129, 342, 3), (121, 1168, 3), (361, 402, 3), (141, 1100, 3), (150, 1167, 3), (130, 1172, 3), (115, 759, 3), (234, 1105, 3), (242, 1117, 3), (39, 989, 3), (304, 1141, 3), (113, 590, 3), (38, 752, 3), (46, 735, 3)], 'vg293': [(130, 477, 3), (176, 605, 3), (49, 295, 3), (133, 351, 3), (120, 364, 3), (118, 502, 3), (829, 992, 3), (129, 543, 3), (493, 751, 3), (123, 725, 3), (499, 461, 3)], 'ay795': [(169, 509, 3), (120, 672, 3), (119, 820, 3), (59, 317, 3), (148, 786, 3), (142, 941, 3), (152, 943, 3), (136, 948, 3), (117, 515, 3), (123, 343, 3), (175, 281, 3), (128, 423, 3), (50, 745, 3), (38, 719, 3), (363, 288, 3)], 'ss989': [(129, 371, 3), (130, 491, 3), (184, 645, 3), (217, 1038, 3), (128, 851, 3), (506, 1024, 3), (125, 1039, 3), (138, 785, 3), (131, 481, 3), (189, 524, 3), (134, 427, 3), (169, 254, 3), (489, 490, 3), (233, 1031, 3), (345, 1040, 3), (77, 1035, 3), (186, 322, 3)], 'rs327': [(123, 534, 3), (177, 595, 3), (325, 960, 3), (134, 935, 3), (97, 396, 3), (167, 964, 3), (156, 963, 3), (145, 961, 3), (134, 743, 3), (133, 349, 3), (130, 447, 3), (258, 961, 3), (270, 961, 3), (197, 964, 3), (76, 966, 3), (272, 966, 3)], 'pm470': [(139, 453, 3), (132, 669, 3), (246, 561, 3), (288, 445, 3), (71, 348, 3), (210, 358, 3), (186, 509, 3), (251, 472, 3), (188, 472, 3), (191, 583, 3), (134, 453, 3), (276, 735, 3), (293, 612, 3), (275, 676, 3), (338, 620, 3), (226, 717, 3), (280, 764, 3)], 'sb875': [(118, 322, 3), (130, 387, 3), (219, 495, 3), (229, 495, 3), (102, 330, 3), (189, 472, 3), (203, 484, 3), (251, 481, 3), (168, 478, 3), (172, 520, 3), (124, 420, 3), (177, 245, 3), (170, 232, 3), (145, 320, 3), (150, 310, 3), (183, 290, 3), (139, 317, 3)], 'kr268': [(137, 390, 3), (204, 514, 3), (156, 770, 3), (192, 470, 3), (38, 662, 3), (172, 785, 3), (208, 518, 3), (147, 584, 3), (169, 503, 3), (143, 406, 3), (135, 483, 3), (167, 976, 3), (69, 1094, 3), (46, 831, 3), (39, 980, 3), (166, 964, 3)], 'vs883': [(124, 423, 3), (116, 413, 3), (152, 948, 3), (124, 903, 3), (51, 380, 3), (151, 956, 3), (142, 658, 3), (121, 841, 3), (166, 536, 3), (122, 536, 3), (176, 280, 3), (184, 265, 3), (170, 277, 3), (109, 325, 3), (84, 770, 3), (213, 962, 3)], 'rc166': [(261, 941, 3), (131, 553, 3), (147, 937, 3), (234, 942, 3), (50, 302, 3), (140, 942, 3), (137, 936, 3), (160, 939, 3), (130, 651, 3), (130, 402, 3), (186, 228, 3), (66, 941, 3), (92, 670, 3), (337, 661, 3), (90, 791, 3), (211, 939, 3), (333, 469, 3)], 'av555': [(115, 439, 3), (140, 603, 3), (138, 965, 3), (158, 978, 3), (44, 813, 3), (121, 941, 3), (124, 902, 3), (151, 977, 3), (134, 921, 3), (176, 680, 3), (124, 627, 3), (235, 942, 3), (266, 943, 3), (253, 941, 3), (33, 876, 3), (43, 856, 3), (35, 863, 3)], 'bj995': [(45, 486, 3), (170, 281, 3), (128, 427, 3), (101, 295, 3), (169, 488, 3), (121, 667, 3), (134, 313, 3), (179, 234, 3), (155, 229, 3), (145, 343, 3), (143, 760, 3), (156, 1013, 3), (154, 875, 3), (128, 704, 3), (129, 711, 3), (47, 309, 3), (133, 1008, 3), (84, 689, 3), (33, 462, 3), (62, 1010, 3), (52, 291, 3), (49, 310, 3), (77, 847, 3), (53, 756, 3)], 'as649': [(119, 367, 3), (119, 417, 3), (149, 960, 3), (148, 959, 3), (47, 367, 3), (124, 904, 3), (131, 960, 3), (164, 958, 3), (140, 959, 3), (171, 548, 3), (122, 457, 3), (123, 361, 3), (146, 360, 3), (126, 382, 3), (35, 758, 3), (42, 730, 3), (145, 412, 3)], 'rb618': [(182, 516, 3), (147, 960, 3), (132, 751, 3), (57, 307, 3), (150, 702, 3), (165, 953, 3), (174, 960, 3), (134, 710, 3), (130, 534, 3), (141, 314, 3), (812, 951, 3), (138, 423, 3), (460, 765, 3), (78, 952, 3), (287, 662, 3)], 'sj442': [(119, 350, 3), (184, 484, 3), (116, 717, 3), (92, 305, 3), (139, 681, 3), (156, 938, 3), (125, 684, 3), (174, 657, 3), (119, 291, 3), (118, 399, 3), (248, 1095, 3), (242, 1069, 3), (176, 801, 3), (46, 1397, 3), (246, 1198, 3)], 'at250': [(118, 802, 3), (123, 715, 3), (54, 322, 3), (164, 851, 3), (103, 792, 3), (109, 1074, 3), (158, 851, 3), (170, 497, 3), (122, 577, 3), (190, 723, 3), (117, 487, 3), (398, 765, 3), (206, 961, 3), (733, 1058, 3)], 'cb567': [(136, 374, 3), (165, 231, 3), (164, 375, 3), (227, 513, 3), (43, 306, 3), (147, 357, 3), (151, 370, 3), (183, 491, 3), (168, 254, 3), (200, 251, 3), (140, 328, 3), (117, 322, 3), (136, 320, 3), (121, 325, 3), (103, 293, 3), (92, 300, 3), (133, 424, 3)], 'sk552': [(50, 512, 3), (52, 895, 3), (19, 803, 3), (20, 785, 3)], 'tn995': [(151, 904, 3), (210, 1081, 3), (167, 942, 3), (63, 344, 3), (431, 782, 3), (177, 723, 3), (159, 388, 3), (157, 337, 3), (216, 346, 3), (154, 464, 3), (109, 821, 3), (79, 1072, 3), (441, 308, 3)], 'ar794': [(118, 962, 3), (541, 960, 3), (115, 962, 3), (129, 965, 3), (147, 962, 3), (148, 964, 3), (114, 964, 3), (162, 963, 3), (110, 965, 3), (119, 960, 3), (47, 961, 3), (171, 963, 3), (119, 963, 3), (112, 964, 3), (135, 960, 3), (137, 961, 3), (493, 961, 3), (330, 963, 3), (100, 939, 3), (95, 938, 3)], 'ac686': [(167, 703, 3), (148, 687, 3), (141, 929, 3), (49, 357, 3), (168, 910, 3), (184, 941, 3), (199, 956, 3), (130, 829, 3), (108, 599, 3), (118, 624, 3), (154, 401, 3), (128, 636, 3), (427, 937, 3), (387, 650, 3), (397, 701, 3)], 'mc801': [(140, 586, 3), (131, 692, 3), (233, 972, 3), (197, 451, 3), (194, 431, 3), (309, 978, 3), (187, 367, 3), (219, 974, 3), (195, 744, 3), (172, 539, 3), (97, 377, 3), (126, 645, 3), (289, 627, 3), (316, 690, 3), (282, 649, 3), (123, 329, 3), (110, 330, 3), (166, 454, 3)], 'is143': [(136, 459, 3), (184, 769, 3), (51, 437, 3), (163, 958, 3), (137, 772, 3), (299, 609, 3), (335, 598, 3), (307, 548, 3), (180, 949, 3), (56, 955, 3), (486, 726, 3)], 'jb584': [(130, 314, 3), (136, 652, 3), (146, 941, 3), (114, 926, 3), (43, 344, 3), (273, 939, 3), (136, 711, 3), (116, 754, 3), (180, 448, 3), (124, 368, 3), (321, 732, 3), (272, 941, 3), (252, 941, 3), (217, 723, 3), (196, 696, 3), (205, 781, 3)], 'ps283': [(128, 295, 3), (126, 615, 3), (131, 1001, 3), (156, 1325, 3), (51, 371, 3), (137, 846, 3), (119, 1166, 3), (137, 1252, 3), (120, 564, 3), (174, 421, 3), (182, 451, 3), (173, 287, 3), (74, 960, 3), (362, 312, 3), (161, 761, 3), (45, 1522, 3), (166, 966, 3)], 'sb355': [(182, 616, 3), (125, 589, 3), (126, 920, 3), (261, 439, 3), (151, 803, 3), (160, 985, 3), (165, 1034, 3), (147, 963, 3), (138, 625, 3), (131, 314, 3), (549, 494, 3), (191, 610, 3), (166, 804, 3), (133, 965, 3), (150, 962, 3)], 'dr366': [(240, 933, 3), (116, 1379, 3), (134, 812, 3), (51, 344, 3), (147, 1100, 3), (385, 1357, 3), (351, 1298, 3), (106, 731, 3), (176, 561, 3), (131, 652, 3), (131, 542, 3), (122, 423, 3), (684, 1342, 3), (441, 1116, 3), (169, 346, 3)], 'nn667': [(121, 319, 3), (131, 497, 3), (137, 888, 3), (146, 746, 3), (122, 707, 3), (153, 941, 3), (129, 951, 3), (233, 848, 3), (359, 911, 3), (165, 493, 3), (62, 336, 3), (191, 475, 3), (80, 938, 3), (72, 944, 3), (79, 949, 3), (63, 708, 3), (122, 942, 3), (66, 942, 3)], 'pc627': [(128, 502, 3), (131, 670, 3), (185, 463, 3), (162, 950, 3), (91, 350, 3), (191, 345, 3), (181, 614, 3), (455, 924, 3), (148, 450, 3), (186, 558, 3), (128, 419, 3), (259, 982, 3), (319, 974, 3), (262, 990, 3), (221, 784, 3), (212, 839, 3), (222, 961, 3)], 'ph232': [(68, 740, 3), (46, 711, 3), (40, 353, 3)], 'kr521': [(129, 650, 3), (185, 505, 3), (156, 1902, 3), (116, 954, 3), (58, 299, 3), (140, 1375, 3), (148, 1097, 3), (136, 1207, 3), (226, 1361, 3), (129, 309, 3), (129, 504, 3), (543, 1121, 3), (286, 883, 3), (86, 531, 3), (84, 745, 3), (38, 1456, 3)], 'mb631': [(247, 978, 3), (136, 374, 3), (181, 781, 3), (131, 830, 3), (115, 792, 3), (124, 323, 3), (241, 1037, 3), (253, 1080, 3), (161, 470, 3), (207, 1374, 3), (39, 714, 3), (170, 477, 3), (43, 688, 3)], 'ss878': [(122, 317, 3), (117, 644, 3), (137, 822, 3), (160, 1134, 3), (47, 296, 3), (127, 680, 3), (120, 629, 3), (139, 1117, 3), (128, 640, 3), (170, 507, 3), (111, 402, 3), (120, 329, 3), (58, 1063, 3), (120, 458, 3), (101, 301, 3), (89, 300, 3), (135, 556, 3)], 'mc744': [(127, 436, 3), (119, 489, 3), (163, 992, 3), (186, 627, 3), (129, 756, 3), (167, 989, 3), (117, 697, 3), (125, 864, 3), (179, 439, 3), (117, 631, 3), (50, 310, 3), (251, 960, 3), (242, 1099, 3), (504, 600, 3), (257, 1114, 3), (35, 768, 3), (41, 676, 3), (73, 1210, 3)], 'ap315': [(109, 629, 3), (130, 1162, 3), (109, 655, 3), (126, 1335, 3), (110, 649, 3), (112, 784, 3), (132, 422, 3), (87, 260, 3), (94, 571, 3), (370, 961, 3), (505, 227, 3), (116, 283, 3)], 'cs100': [(121, 560, 3), (119, 547, 3), (164, 962, 3), (171, 656, 3), (123, 884, 3), (178, 961, 3), (212, 811, 3), (114, 771, 3), (164, 489, 3), (122, 564, 3), (38, 300, 3), (118, 414, 3), (119, 517, 3), (111, 310, 3), (123, 311, 3), (396, 334, 3), (133, 389, 3), (138, 330, 3)], 'yt734': [], 'mr867': [(133, 487, 3), (128, 682, 3), (139, 643, 3), (176, 694, 3), (247, 419, 3), (121, 658, 3), (118, 862, 3), (154, 960, 3), (136, 818, 3), (176, 725, 3), (141, 496, 3), (258, 864, 3), (249, 1257, 3), (250, 915, 3), (216, 806, 3), (198, 753, 3), (602, 1419, 3)], 'aa255': [(149, 1416, 3), (159, 1334, 3), (59, 333, 3), (126, 1247, 3), (127, 1132, 3), (506, 578, 3), (143, 397, 3), (113, 709, 3), (454, 1309, 3), (203, 1070, 3), (116, 470, 3)], 'ay636': [(136, 1067, 3), (118, 758, 3), (51, 325, 3), (164, 1141, 3), (112, 839, 3), (132, 698, 3), (152, 1115, 3), (167, 500, 3), (112, 484, 3), (117, 426, 3), (120, 312, 3), (201, 408, 3), (127, 388, 3), (388, 319, 3)], 'as106': [], 'st234': [(179, 496, 3), (168, 474, 3), (85, 313, 3), (160, 552, 3), (122, 804, 3), (182, 631, 3), (161, 939, 3), (122, 365, 3), (130, 311, 3), (395, 553, 3), (125, 419, 3), (218, 792, 3), (423, 474, 3), (345, 517, 3)], 'ns322': [(128, 428, 3), (124, 479, 3), (213, 751, 3), (193, 519, 3), (174, 758, 3), (191, 1065, 3), (126, 708, 3), (173, 736, 3), (173, 569, 3), (119, 676, 3), (48, 371, 3), (304, 338, 3), (307, 371, 3), (264, 584, 3), (327, 366, 3), (86, 291, 3), (290, 462, 3), (271, 467, 3)], 'hs283': [(129, 859, 3), (138, 692, 3), (52, 346, 3), (165, 943, 3), (132, 775, 3), (144, 720, 3), (170, 943, 3), (185, 632, 3), (124, 578, 3), (133, 419, 3), (158, 458, 3), (156, 772, 3), (592, 943, 3), (304, 943, 3)], 'am649': [(1080, 1920, 3), (1080, 1920, 3), (1080, 1920, 3), (1080, 1920, 3), (1080, 1920, 3), (1080, 1920, 3)], 'pj542': [(137, 1238, 3), (159, 1416, 3), (156, 1276, 3), (106, 324, 3), (172, 1479, 3), (196, 1202, 3), (144, 845, 3), (204, 503, 3), (151, 341, 3), (156, 502, 3), (292, 1810, 3), (899, 1073, 3), (216, 725, 3)], 'ms139': [(123, 632, 3), (164, 484, 3), (146, 960, 3), (114, 759, 3), (50, 330, 3), (152, 964, 3), (133, 729, 3), (119, 761, 3), (134, 958, 3), (123, 311, 3), (111, 392, 3), (122, 312, 3), (80, 959, 3), (91, 701, 3), (78, 662, 3), (134, 349, 3)], 'ak970': [(129, 1267, 3), (105, 293, 3), (137, 729, 3), (579, 429, 3), (129, 329, 3), (121, 638, 3), (480, 1348, 3), (297, 1177, 3), (120, 424, 3)], 'mk197': [(130, 436, 3), (137, 322, 3), (152, 889, 3), (133, 876, 3), (58, 336, 3), (136, 800, 3), (135, 806, 3), (187, 509, 3), (129, 672, 3), (447, 675, 3), (49, 467, 3), (290, 940, 3), (312, 415, 3), (68, 303, 3), (37, 149, 3), (656, 940, 3)], 'hd207': [(130, 297, 3), (122, 650, 3), (156, 448, 3), (218, 474, 3), (74, 375, 3), (159, 441, 3), (151, 567, 3), (236, 410, 3), (182, 671, 3), (175, 595, 3), (128, 419, 3), (188, 254, 3), (256, 1055, 3), (250, 1016, 3), (258, 753, 3), (229, 693, 3), (203, 1558, 3)], 'sa930': [(217, 750, 3)], 'ak325': [(107, 298, 3), (511, 472, 3), (47, 308, 3), (100, 806, 3), (127, 635, 3), (117, 817, 3), (137, 799, 3), (96, 347, 3), (554, 303, 3), (154, 880, 3), (126, 762, 3), (105, 740, 3), (470, 786, 3), (127, 934, 3)], 'aj232': [(126, 942, 3), (179, 933, 3), (151, 937, 3), (169, 945, 3), (49, 925, 3), (154, 939, 3), (178, 936, 3), (148, 946, 3), (150, 943, 3), (124, 929, 3), (127, 940, 3), (125, 936, 3), (257, 940, 3), (249, 940, 3), (185, 929, 3), (62, 942, 3), (271, 942, 3)], 'an834': [(119, 330, 3), (128, 421, 3), (49, 458, 3), (42, 426, 3), (188, 321, 3), (145, 319, 3), (115, 340, 3), (240, 889, 3), (257, 883, 3), (251, 879, 3), (256, 756, 3), (194, 715, 3), (213, 720, 3)], 'ag774': [(133, 643, 3), (181, 480, 3), (66, 330, 3), (170, 961, 3), (131, 774, 3), (147, 923, 3), (131, 813, 3), (134, 310, 3), (124, 625, 3), (71, 962, 3), (88, 961, 3), (129, 712, 3), (79, 963, 3), (78, 960, 3)], 'gs462': [(132, 321, 3), (129, 542, 3), (159, 811, 3), (253, 551, 3), (139, 447, 3), (140, 499, 3), (174, 623, 3), (127, 781, 3), (180, 454, 3), (134, 417, 3), (251, 719, 3), (199, 280, 3), (250, 704, 3), (43, 787, 3), (41, 759, 3), (99, 325, 3)], 'dr895': [(141, 457, 3), (100, 969, 3), (147, 864, 3), (129, 746, 3), (105, 362, 3), (100, 321, 3), (646, 939, 3), (109, 434, 3), (76, 930, 3), (428, 968, 3), (194, 1187, 3)], 'sp155': [(143, 979, 3), (155, 977, 3), (174, 1920, 3), (180, 1920, 3), (159, 1920, 3), (184, 1920, 3), (158, 980, 3), (149, 985, 3), (206, 980, 3), (157, 981, 3), (82, 402, 3), (401, 1920, 3), (210, 980, 3), (209, 979, 3), (218, 976, 3), (107, 977, 3), (114, 1405, 3), (266, 981, 3)], 'rs723': [(161, 294, 3), (326, 510, 3), (203, 679, 3), (142, 1055, 3), (436, 616, 3), (242, 1689, 3), (252, 988, 3), (253, 861, 3), (220, 537, 3), (129, 427, 3), (156, 528, 3), (256, 305, 3), (56, 1022, 3), (167, 282, 3), (169, 341, 3), (52, 1079, 3), (101, 1871, 3), (214, 1579, 3), (60, 1122, 3)], 'dm411': [(124, 661, 3), (118, 541, 3), (140, 490, 3), (191, 496, 3), (376, 345, 3), (212, 485, 3), (171, 412, 3), (161, 508, 3), (189, 394, 3), (143, 439, 3), (52, 363, 3), (235, 555, 3), (169, 375, 3), (303, 346, 3), (302, 343, 3), (294, 444, 3), (338, 344, 3), (130, 310, 3), (292, 470, 3), (256, 482, 3)], 'cb943': [(177, 436, 3), (184, 484, 3), (269, 942, 3), (212, 938, 3), (80, 461, 3), (274, 940, 3), (242, 938, 3), (220, 940, 3), (268, 701, 3), (277, 622, 3), (373, 939, 3), (410, 1320, 3), (384, 1313, 3), (325, 939, 3), (322, 956, 3), (352, 941, 3)], 'am795': [(148, 942, 3), (129, 743, 3), (53, 336, 3), (178, 941, 3), (124, 803, 3), (140, 739, 3), (155, 937, 3), (169, 484, 3), (122, 469, 3), (121, 337, 3), (104, 296, 3), (693, 943, 3), (658, 942, 3), (541, 302, 3)], 'ms279': [(124, 421, 3), (123, 349, 3), (87, 507, 3), (220, 829, 3), (38, 375, 3), (206, 717, 3), (114, 468, 3), (76, 411, 3), (177, 555, 3), (120, 431, 3), (263, 1157, 3), (263, 1000, 3), (225, 1029, 3), (265, 988, 3), (194, 923, 3), (198, 503, 3), (162, 544, 3)], 'vs269': [(128, 661, 3), (119, 736, 3), (127, 789, 3), (174, 974, 3), (156, 970, 3), (169, 512, 3), (124, 517, 3), (124, 357, 3), (126, 328, 3), (266, 764, 3), (127, 626, 3), (800, 965, 3)], 'ks165': [(127, 587, 3), (121, 531, 3), (166, 739, 3), (172, 979, 3), (95, 301, 3), (96, 895, 3), (141, 976, 3), (157, 980, 3), (54, 969, 3), (175, 640, 3), (122, 561, 3), (289, 486, 3), (127, 471, 3), (479, 464, 3), (412, 320, 3), (228, 311, 3), (498, 542, 3)], 'py448': [(299, 881, 3), (158, 381, 3), (231, 744, 3), (212, 671, 3), (209, 530, 3), (279, 745, 3), (225, 644, 3), (246, 882, 3), (253, 492, 3), (187, 334, 3), (164, 442, 3), (89, 636, 3), (354, 618, 3), (93, 381, 3), (208, 461, 3), (153, 326, 3), (312, 775, 3), (325, 686, 3), (65, 1403, 3), (197, 439, 3), (200, 384, 3), (238, 567, 3), (217, 555, 3)], 'pt992': [(123, 530, 3), (153, 481, 3), (187, 445, 3), (219, 782, 3), (54, 315, 3), (190, 418, 3), (191, 669, 3), (218, 681, 3), (30, 1191, 3), (176, 624, 3), (192, 737, 3), (115, 376, 3), (520, 575, 3), (274, 359, 3), (121, 408, 3), (86, 374, 3), (142, 559, 3)], 'sg927': [(137, 296, 3), (131, 405, 3), (138, 745, 3), (159, 784, 3), (54, 295, 3), (124, 846, 3), (127, 816, 3), (63, 854, 3), (126, 647, 3), (173, 488, 3), (131, 401, 3), (258, 673, 3), (290, 625, 3), (258, 690, 3), (182, 735, 3), (81, 949, 3), (516, 463, 3)], 'js968': [(127, 422, 3), (98, 643, 3), (134, 800, 3), (58, 318, 3), (149, 1422, 3), (141, 855, 3), (122, 1000, 3), (177, 503, 3), (131, 374, 3), (62, 1073, 3), (64, 1213, 3), (55, 1117, 3), (79, 740, 3), (50, 719, 3), (57, 1568, 3)], 'cv948': [(38, 311, 3), (881, 1240, 3), (86, 301, 3), (141, 817, 3), (122, 301, 3), (121, 485, 3), (119, 876, 3), (467, 1440, 3), (119, 905, 3), (167, 495, 3), (179, 479, 3), (706, 1248, 3), (1002, 1248, 3), (257, 932, 3)], 'aa324': [(125, 301, 3), (132, 360, 3), (158, 1059, 3), (131, 921, 3), (46, 320, 3), (153, 1060, 3), (144, 909, 3), (147, 1059, 3), (179, 499, 3), (192, 466, 3), (50, 1005, 3), (258, 1061, 3), (257, 1061, 3), (245, 729, 3), (209, 686, 3), (226, 1060, 3)], 'mt816': [(130, 396, 3), (390, 510, 3), (259, 418, 3), (69, 370, 3), (134, 595, 3), (266, 634, 3), (526, 489, 3), (191, 567, 3), (128, 438, 3), (721, 524, 3), (141, 430, 3), (327, 359, 3), (96, 300, 3), (129, 399, 3), (106, 337, 3)], 'ag640': [(179, 372, 3), (157, 664, 3), (299, 378, 3), (347, 554, 3), (86, 397, 3), (309, 360, 3), (327, 367, 3), (429, 373, 3), (441, 688, 3), (238, 636, 3), (172, 550, 3), (174, 412, 3), (182, 410, 3), (172, 406, 3), (163, 385, 3), (145, 389, 3), (141, 379, 3)], 'jk577': [(118, 807, 3), (181, 771, 3), (19, 648, 3), (122, 663, 3), (100, 413, 3), (18, 409, 3), (16, 364, 3), (125, 365, 3), (120, 1144, 3), (20, 1155, 3), (509, 355, 3), (135, 434, 3), (128, 581, 3), (69, 985, 3), (550, 504, 3), (633, 808, 3), (44, 778, 3), (120, 1074, 3)], 'sg302': [(171, 486, 3), (66, 587, 3), (139, 285, 3), (83, 315, 3), (234, 282, 3), (146, 281, 3), (153, 485, 3), (161, 299, 3), (362, 460, 3), (143, 339, 3), (221, 680, 3), (467, 490, 3), (363, 457, 3)], 'hb268': [(126, 516, 3), (128, 654, 3), (170, 673, 3), (143, 673, 3), (46, 339, 3), (162, 671, 3), (191, 671, 3), (143, 650, 3), (175, 656, 3), (132, 564, 3), (545, 313, 3), (162, 744, 3), (74, 746, 3), (175, 713, 3), (52, 918, 3), (489, 540, 3)], 'vp433': [(198, 351, 3), (174, 493, 3), (38, 307, 3), (224, 422, 3), (210, 286, 3), (225, 346, 3), (237, 299, 3), (205, 255, 3), (154, 408, 3), (140, 436, 3), (140, 242, 3), (376, 409, 3), (432, 1028, 3), (231, 980, 3)], 'dg136': [(190, 1356, 3), (184, 709, 3), (23, 888, 3), (129, 390, 3), (127, 906, 3), (89, 946, 3), (123, 441, 3), (111, 842, 3), (133, 511, 3), (236, 492, 3), (149, 961, 3), (167, 542, 3), (117, 942, 3), (131, 461, 3), (62, 958, 3), (118, 229, 3), (179, 292, 3), (160, 651, 3), (47, 913, 3), (197, 761, 3), (236, 1227, 3), (478, 906, 3), (164, 599, 3)], 'ep710': [(139, 660, 3), (186, 632, 3), (176, 1062, 3), (132, 767, 3), (46, 297, 3), (116, 1178, 3), (143, 859, 3), (127, 719, 3), (173, 858, 3), (125, 557, 3), (126, 407, 3), (305, 320, 3), (301, 325, 3), (180, 719, 3), (230, 671, 3), (334, 336, 3)], 'kk345': [(170, 248, 3), (123, 366, 3), (139, 384, 3), (137, 332, 3), (155, 560, 3), (136, 306, 3), (125, 510, 3), (184, 434, 3), (129, 328, 3), (123, 495, 3), (152, 295, 3), (272, 489, 3), (201, 508, 3), (201, 287, 3), (177, 270, 3), (244, 458, 3), (233, 725, 3), (206, 718, 3), (197, 717, 3)], 'aj534': [(239, 895, 3), (124, 370, 3), (174, 543, 3), (42, 442, 3), (117, 686, 3), (130, 360, 3), (367, 310, 3), (85, 963, 3), (52, 705, 3), (77, 974, 3), (42, 301, 3), (38, 181, 3), (41, 759, 3)], 'ag213': [(117, 426, 3), (134, 549, 3), (209, 942, 3), (139, 847, 3), (142, 941, 3), (138, 930, 3), (181, 503, 3), (129, 946, 3), (175, 552, 3), (130, 711, 3), (295, 357, 3), (179, 308, 3), (253, 940, 3), (158, 478, 3), (258, 945, 3), (80, 394, 3), (289, 566, 3), (285, 525, 3)], 'aj157': [(134, 318, 3), (165, 264, 3), (272, 402, 3), (176, 489, 3), (251, 405, 3), (272, 442, 3), (147, 419, 3), (209, 263, 3), (119, 333, 3), (122, 405, 3), (52, 330, 3), (193, 398, 3), (194, 349, 3), (165, 260, 3), (134, 329, 3), (155, 327, 3), (190, 283, 3), (109, 327, 3), (91, 316, 3), (93, 325, 3)], 'fk736': [(119, 406, 3), (130, 513, 3), (160, 703, 3), (170, 742, 3), (49, 297, 3), (152, 671, 3), (139, 709, 3), (156, 669, 3), (168, 436, 3), (130, 648, 3), (268, 757, 3), (265, 647, 3), (62, 958, 3), (293, 689, 3), (37, 146, 3), (50, 735, 3), (40, 691, 3)], 'ag247': [(121, 420, 3), (129, 434, 3), (49, 321, 3), (118, 370, 3), (187, 283, 3), (431, 559, 3), (512, 638, 3), (540, 677, 3), (220, 906, 3), (205, 905, 3), (457, 910, 3)], 'sk132': [(138, 368, 3), (130, 407, 3), (426, 780, 3), (129, 468, 3), (56, 322, 3), (422, 655, 3), (377, 466, 3), (213, 913, 3), (178, 537, 3), (127, 381, 3), (305, 348, 3), (324, 381, 3), (304, 339, 3), (262, 480, 3), (238, 508, 3), (262, 423, 3)], 'ss195': [(131, 654, 3), (152, 947, 3), (65, 316, 3), (179, 939, 3), (113, 870, 3), (146, 943, 3), (153, 947, 3), (172, 491, 3), (115, 480, 3), (127, 710, 3), (133, 526, 3), (336, 453, 3), (220, 962, 3), (949, 473, 3)], 'pi467': [(129, 328, 3), (125, 510, 3), (139, 384, 3), (184, 434, 3), (177, 270, 3), (123, 366, 3), (123, 495, 3), (170, 248, 3), (201, 508, 3), (244, 458, 3), (152, 295, 3), (155, 560, 3), (272, 489, 3), (137, 332, 3), (136, 306, 3), (201, 287, 3), (201, 287, 3), (177, 270, 3), (244, 458, 3), (233, 725, 3), (206, 718, 3), (197, 717, 3)], 'ps738': [(130, 520, 3), (168, 548, 3), (143, 921, 3), (173, 948, 3), (54, 302, 3), (122, 923, 3), (55, 1205, 3), (319, 916, 3), (122, 1211, 3), (131, 631, 3), (131, 353, 3), (130, 389, 3), (133, 1173, 3), (607, 1018, 3), (169, 821, 3), (51, 1674, 3), (493, 509, 3)], 'sa292': [(513, 979, 3), (513, 984, 3), (517, 968, 3), (510, 979, 3)], 'ia813': [(124, 443, 3), (128, 749, 3), (143, 992, 3), (55, 1389, 3), (130, 1048, 3), (131, 1054, 3), (68, 1230, 3), (129, 930, 3), (128, 1315, 3), (168, 666, 3), (37, 403, 3), (127, 792, 3), (241, 1156, 3), (266, 1096, 3), (242, 1301, 3), (219, 1009, 3), (204, 809, 3), (199, 1753, 3)], 'pg682': [(130, 598, 3), (132, 541, 3), (159, 959, 3), (168, 969, 3), (259, 345, 3), (132, 866, 3), (148, 966, 3), (157, 972, 3), (130, 820, 3), (178, 598, 3), (125, 762, 3), (307, 419, 3), (359, 320, 3), (307, 326, 3), (223, 789, 3), (207, 697, 3), (227, 968, 3)], 'ma646': [(122, 449, 3), (129, 644, 3), (134, 799, 3), (154, 1910, 3), (254, 318, 3), (127, 904, 3), (124, 1146, 3), (135, 1875, 3), (117, 1367, 3), (175, 620, 3), (131, 449, 3), (266, 1012, 3), (254, 1078, 3), (234, 1019, 3), (511, 743, 3), (192, 681, 3), (202, 1377, 3)], 'ks691': [(114, 791, 3), (167, 967, 3), (126, 834, 3), (71, 295, 3), (151, 967, 3), (134, 701, 3), (132, 970, 3), (163, 662, 3), (122, 471, 3), (118, 347, 3), (248, 727, 3), (538, 281, 3), (125, 335, 3)], 'pa749': [], 'ps617': [(124, 362, 3), (165, 493, 3), (152, 1448, 3), (121, 913, 3), (58, 311, 3), (147, 1561, 3), (146, 1150, 3), (119, 1037, 3), (124, 619, 3), (129, 330, 3), (132, 421, 3), (257, 880, 3), (255, 795, 3), (253, 338, 3), (85, 416, 3), (273, 907, 3)], 'gs617': [(205, 576, 3), (549, 617, 3), (163, 980, 3), (99, 377, 3), (169, 982, 3), (273, 642, 3), (229, 770, 3), (258, 1284, 3), (218, 614, 3), (145, 679, 3), (342, 1112, 3), (429, 999, 3), (655, 1017, 3), (868, 1112, 3), (292, 981, 3)], 'am238': [(128, 455, 3), (116, 445, 3), (224, 1395, 3), (138, 469, 3), (150, 595, 3), (186, 1082, 3), (134, 756, 3), (114, 1397, 3), (164, 632, 3), (118, 490, 3), (125, 1135, 3), (39, 321, 3), (238, 1059, 3), (232, 1027, 3), (215, 1619, 3), (238, 1070, 3), (209, 849, 3), (53, 713, 3), (161, 524, 3)], 'an229': [(168, 554, 3), (124, 812, 3), (119, 813, 3), (53, 320, 3), (141, 1166, 3), (158, 1680, 3), (132, 1394, 3), (115, 807, 3), (115, 693, 3), (128, 608, 3), (728, 1264, 3), (385, 738, 3), (46, 773, 3), (39, 714, 3), (43, 1611, 3)], 'rr556': [(130, 369, 3), (115, 804, 3), (141, 811, 3), (140, 1451, 3), (58, 353, 3), (116, 817, 3), (133, 1303, 3), (138, 1291, 3), (124, 814, 3), (180, 620, 3), (182, 566, 3), (259, 1038, 3), (248, 1126, 3), (253, 872, 3), (195, 229, 3), (167, 767, 3), (49, 1606, 3)], 'ps470': [(127, 630, 3), (184, 490, 3), (142, 1378, 3), (121, 819, 3), (53, 303, 3), (140, 1071, 3), (169, 544, 3), (132, 791, 3), (125, 785, 3), (129, 312, 3), (126, 406, 3), (246, 1020, 3), (251, 959, 3), (91, 798, 3), (39, 1524, 3), (256, 1050, 3)], 'mp936': [], 'ag565': [(158, 348, 3), (151, 674, 3), (147, 869, 3), (65, 457, 3), (185, 997, 3), (197, 1005, 3), (156, 754, 3), (203, 501, 3), (172, 503, 3), (281, 1002, 3), (289, 1004, 3), (302, 1003, 3), (247, 883, 3), (230, 762, 3), (317, 1003, 3)], 'ak707': [(188, 754, 3), (141, 708, 3), (50, 310, 3), (117, 825, 3), (185, 534, 3), (115, 427, 3), (127, 454, 3), (122, 368, 3), (139, 861, 3), (56, 965, 3), (558, 410, 3)], 'dr134': [(126, 319, 3), (121, 402, 3), (176, 427, 3), (118, 318, 3), (175, 245, 3), (300, 326, 3), (124, 318, 3), (478, 291, 3), (330, 459, 3), (358, 423, 3)], 'sn701': [(220, 829, 3), (176, 637, 3), (149, 538, 3), (168, 609, 3), (173, 633, 3), (111, 918, 3), (221, 655, 3), (184, 941, 3), (403, 356, 3), (147, 818, 3), (333, 993, 3), (199, 1133, 3), (200, 356, 3)], 'cb283': [(137, 581, 3), (143, 671, 3), (168, 861, 3), (273, 582, 3), (94, 601, 3), (181, 1144, 3), (170, 1038, 3), (253, 623, 3), (220, 1120, 3), (214, 665, 3), (163, 818, 3), (426, 422, 3), (498, 432, 3), (439, 442, 3), (110, 552, 3), (85, 514, 3), (106, 505, 3)], 'os583': [(192, 967, 3), (222, 1093, 3), (200, 885, 3), (53, 1002, 3), (301, 941, 3), (175, 966, 3), (238, 752, 3), (161, 774, 3), (144, 921, 3), (164, 763, 3), (541, 1028, 3), (967, 1075, 3), (387, 816, 3)], 'ag960': [(135, 891, 3), (146, 831, 3), (60, 331, 3), (164, 1137, 3), (149, 869, 3), (159, 824, 3), (156, 1393, 3), (190, 683, 3), (135, 711, 3), (148, 447, 3), (139, 462, 3), (174, 734, 3), (36, 1547, 3), (228, 1239, 3)], 'kc294': [(250, 944, 3), (191, 513, 3), (128, 920, 3), (122, 697, 3), (143, 692, 3), (157, 973, 3), (171, 594, 3), (69, 945, 3), (132, 525, 3), (122, 484, 3), (117, 745, 3), (114, 711, 3), (61, 315, 3), (133, 763, 3), (153, 971, 3), (165, 242, 3), (73, 938, 3), (40, 799, 3), (347, 316, 3), (48, 300, 3), (45, 753, 3), (46, 732, 3)], 'am492': [(114, 369, 3), (121, 692, 3), (163, 1303, 3), (173, 1302, 3), (51, 315, 3), (128, 1012, 3), (116, 1297, 3), (166, 1306, 3), (131, 1164, 3), (174, 521, 3), (190, 456, 3), (62, 1065, 3), (60, 1094, 3), (56, 1039, 3), (42, 806, 3), (39, 699, 3), (63, 1311, 3)], 'ls927': [(139, 971, 3), (132, 973, 3), (51, 853, 3), (644, 1587, 3), (128, 953, 3), (91, 966, 3), (87, 962, 3), (78, 961, 3), (83, 966, 3), (41, 754, 3), (51, 727, 3), (52, 768, 3)], 'an828': [(632, 1049, 3), (143, 338, 3), (90, 338, 3), (185, 501, 3), (394, 476, 3), (229, 301, 3), (292, 953, 3), (399, 493, 3), (334, 663, 3), (193, 734, 3), (174, 439, 3)], 'bj810': [(159, 465, 3), (170, 536, 3), (317, 1903, 3), (277, 1898, 3), (121, 585, 3), (267, 1660, 3), (246, 1711, 3), (167, 1019, 3), (194, 605, 3), (160, 641, 3), (282, 1103, 3), (304, 1178, 3), (284, 1127, 3), (268, 822, 3), (253, 779, 3), (240, 1723, 3)], 'gs272': [(188, 378, 3), (391, 546, 3), (132, 425, 3), (182, 506, 3), (128, 396, 3), (127, 399, 3), (122, 383, 3), (124, 333, 3), (179, 273, 3), (372, 516, 3), (89, 315, 3), (37, 512, 3), (190, 581, 3), (155, 489, 3), (157, 531, 3), (89, 727, 3), (37, 698, 3), (175, 569, 3)], 'vg152': [(146, 432, 3), (125, 557, 3), (142, 1481, 3), (116, 771, 3), (99, 514, 3), (126, 1330, 3), (176, 759, 3), (167, 1079, 3), (176, 666, 3), (130, 448, 3), (255, 1141, 3), (233, 1010, 3), (196, 247, 3), (231, 779, 3), (222, 759, 3), (237, 1348, 3)]}\n"
     ]
    }
   ],
   "source": [
    "image_shape_dict = {}\n",
    "for key, value in image_names_dict.items():\n",
    "    image_shape = []\n",
    "    for i in value:\n",
    "        image = cv2.imread(\"/Users/rahul.madan/PycharmProjects/HackerRank-and-leetcode/submissions/img/\"+key+\"/\"+i)\n",
    "        image_shape.append(image.shape)\n",
    "    image_shape_dict[key] = image_shape\n",
    "print(image_shape_dict)"
   ],
   "metadata": {
    "collapsed": false,
    "pycharm": {
     "name": "#%%\n"
    }
   }
  },
  {
   "cell_type": "code",
   "execution_count": 13,
   "outputs": [
    {
     "name": "stdout",
     "output_type": "stream",
     "text": [
      "{'tg982': ['pj579'], 'da334': ['am649', 'am649', 'am649', 'am649', 'am649', 'am649', 'am649', 'am649', 'am649', 'am649', 'am649'], 'pj579': ['tg982'], 'ss838': ['bs404'], 'ss865': ['aa760'], 'ab575': ['cv948'], 'aa760': ['ss865'], 'ab983': ['pt992'], 'bs404': ['sb355', 'ss838'], 'ay958': ['ay795', 'ay795', 'ay795', 'ay795', 'ay795', 'ay795', 'ag213', 'ay795', 'ay795', 'ay795', 'ay795', 'ay795', 'ay795', 'ay795', 'ay795', 'ay795'], 'ay795': ['ay958', 'ay958', 'ay958', 'ay958', 'ay958', 'ay958', 'ag213', 'ay958', 'ay958', 'ay958', 'ay958', 'ay958', 'ay958', 'ay958', 'ay958', 'ay958'], 'sj442': ['cb943'], 'cb567': ['mb631'], 'ac686': ['sn701'], 'sb355': ['bs404'], 'nn667': ['ps617'], 'pc627': ['hd207'], 'mb631': ['cb567', 'an229'], 'mc744': ['ak707'], 'cs100': ['ms139'], 'ay636': ['ag213'], 'am649': ['da334', 'da334', 'da334', 'da334', 'da334', 'da334'], 'ms139': ['cs100'], 'hd207': ['pc627'], 'gs462': ['aj534'], 'cb943': ['sj442'], 'ms279': ['sn701'], 'pt992': ['ab983'], 'cv948': ['ab575'], 'dg136': ['fk736'], 'ep710': ['vg152'], 'kk345': ['pi467', 'pi467', 'pi467', 'pi467', 'pi467', 'pi467', 'pi467', 'pi467', 'pi467', 'pi467', 'pi467', 'pi467', 'pi467', 'pi467', 'pi467', 'pi467', 'pi467', 'pi467', 'pi467'], 'aj534': ['gs462'], 'ag213': ['ay636', 'ay958', 'ay795'], 'fk736': ['dg136'], 'pi467': ['kk345', 'kk345', 'kk345', 'kk345', 'kk345', 'kk345', 'kk345', 'kk345', 'kk345', 'kk345', 'kk345', 'kk345', 'kk345', 'kk345', 'kk345', 'kk345', 'kk345', 'kk345', 'kk345', 'kk345', 'kk345', 'kk345'], 'ps617': ['nn667'], 'an229': ['mb631'], 'ak707': ['mc744'], 'sn701': ['ms279', 'ac686'], 'vg152': ['ep710']}\n",
      "tg982 : 1\n",
      "da334 : 11\n",
      "pj579 : 1\n",
      "ss838 : 1\n",
      "ss865 : 1\n",
      "ab575 : 1\n",
      "aa760 : 1\n",
      "ab983 : 1\n",
      "bs404 : 2\n",
      "ay958 : 16\n",
      "ay795 : 16\n",
      "sj442 : 1\n",
      "cb567 : 1\n",
      "ac686 : 1\n",
      "sb355 : 1\n",
      "nn667 : 1\n",
      "pc627 : 1\n",
      "mb631 : 2\n",
      "mc744 : 1\n",
      "cs100 : 1\n",
      "ay636 : 1\n",
      "am649 : 6\n",
      "ms139 : 1\n",
      "hd207 : 1\n",
      "gs462 : 1\n",
      "cb943 : 1\n",
      "ms279 : 1\n",
      "pt992 : 1\n",
      "cv948 : 1\n",
      "dg136 : 1\n",
      "ep710 : 1\n",
      "kk345 : 19\n",
      "aj534 : 1\n",
      "ag213 : 3\n",
      "fk736 : 1\n",
      "pi467 : 22\n",
      "ps617 : 1\n",
      "an229 : 1\n",
      "ak707 : 1\n",
      "sn701 : 2\n",
      "vg152 : 1\n"
     ]
    }
   ],
   "source": [
    "plag = {}\n",
    "for netID1,shape1 in image_shape_dict.items():\n",
    "    for focus_shape in shape1:\n",
    "        for netID2,shape2 in image_shape_dict.items():\n",
    "            if focus_shape in shape2 and netID1 != netID2:\n",
    "                if netID1 in plag.keys():\n",
    "                    plag[netID1].append(netID2)\n",
    "                else:\n",
    "                    plag[netID1] = []\n",
    "                    plag[netID1].append(netID2)\n",
    "\n",
    "print(plag)\n",
    "for key, value in plag.items():\n",
    "    print(key + \" : \" + str(len(value)))"
   ],
   "metadata": {
    "collapsed": false,
    "pycharm": {
     "name": "#%%\n"
    }
   }
  },
  {
   "cell_type": "code",
   "execution_count": 14,
   "outputs": [
    {
     "name": "stdout",
     "output_type": "stream",
     "text": [
      "tg982\n",
      "{'pj579': 1}\n",
      "\n",
      "da334\n",
      "{'am649': 11}\n",
      "\n",
      "pj579\n",
      "{'tg982': 1}\n",
      "\n",
      "ss838\n",
      "{'bs404': 1}\n",
      "\n",
      "ss865\n",
      "{'aa760': 1}\n",
      "\n",
      "ab575\n",
      "{'cv948': 1}\n",
      "\n",
      "aa760\n",
      "{'ss865': 1}\n",
      "\n",
      "ab983\n",
      "{'pt992': 1}\n",
      "\n",
      "bs404\n",
      "{'sb355': 1, 'ss838': 1}\n",
      "\n",
      "ay958\n",
      "{'ay795': 15, 'ag213': 1}\n",
      "\n",
      "ay795\n",
      "{'ay958': 15, 'ag213': 1}\n",
      "\n",
      "sj442\n",
      "{'cb943': 1}\n",
      "\n",
      "cb567\n",
      "{'mb631': 1}\n",
      "\n",
      "ac686\n",
      "{'sn701': 1}\n",
      "\n",
      "sb355\n",
      "{'bs404': 1}\n",
      "\n",
      "nn667\n",
      "{'ps617': 1}\n",
      "\n",
      "pc627\n",
      "{'hd207': 1}\n",
      "\n",
      "mb631\n",
      "{'cb567': 1, 'an229': 1}\n",
      "\n",
      "mc744\n",
      "{'ak707': 1}\n",
      "\n",
      "cs100\n",
      "{'ms139': 1}\n",
      "\n",
      "ay636\n",
      "{'ag213': 1}\n",
      "\n",
      "am649\n",
      "{'da334': 6}\n",
      "\n",
      "ms139\n",
      "{'cs100': 1}\n",
      "\n",
      "hd207\n",
      "{'pc627': 1}\n",
      "\n",
      "gs462\n",
      "{'aj534': 1}\n",
      "\n",
      "cb943\n",
      "{'sj442': 1}\n",
      "\n",
      "ms279\n",
      "{'sn701': 1}\n",
      "\n",
      "pt992\n",
      "{'ab983': 1}\n",
      "\n",
      "cv948\n",
      "{'ab575': 1}\n",
      "\n",
      "dg136\n",
      "{'fk736': 1}\n",
      "\n",
      "ep710\n",
      "{'vg152': 1}\n",
      "\n",
      "kk345\n",
      "{'pi467': 19}\n",
      "\n",
      "aj534\n",
      "{'gs462': 1}\n",
      "\n",
      "ag213\n",
      "{'ay636': 1, 'ay958': 1, 'ay795': 1}\n",
      "\n",
      "fk736\n",
      "{'dg136': 1}\n",
      "\n",
      "pi467\n",
      "{'kk345': 22}\n",
      "\n",
      "ps617\n",
      "{'nn667': 1}\n",
      "\n",
      "an229\n",
      "{'mb631': 1}\n",
      "\n",
      "ak707\n",
      "{'mc744': 1}\n",
      "\n",
      "sn701\n",
      "{'ms279': 1, 'ac686': 1}\n",
      "\n",
      "vg152\n",
      "{'ep710': 1}\n",
      "\n"
     ]
    }
   ],
   "source": [
    "count_per_copy = {}\n",
    "\n",
    "for key, value in plag.items():\n",
    "    counts = Counter(value)\n",
    "    count_per_copy[key] = dict(counts)\n",
    "    print(key)\n",
    "    print(count_per_copy[key])\n",
    "    print()\n",
    "\n",
    "\n"
   ],
   "metadata": {
    "collapsed": false,
    "pycharm": {
     "name": "#%%\n"
    }
   }
  },
  {
   "cell_type": "code",
   "execution_count": 15,
   "outputs": [
    {
     "name": "stdout",
     "output_type": "stream",
     "text": [
      "['\\ufeffLast Name', 'First Name', 'Username', 'Student ID']\n",
      "['.', 'AMAAN', 'am795', '2010110072']\n",
      "['.', 'AYAAN', 'ay636', '2010110174']\n",
      "['A', 'ANIRUDHAN', 'aa324', '2010110096']\n",
      "['AAKASH', 'LAKSHMAN', 'la118', '2010110364']\n",
      "['ADITYAJA', 'MUDIT', 'ma646', '2010110406']\n",
      "['AGARWAL', 'ARUSHI', 'aa255', '2010110140']\n",
      "['AGARWAL', 'DEVANSSH', 'da334', '2010110220']\n",
      "['AGARWAL', 'PRANSHU', 'pa283', '2010110475']\n",
      "['AGGARWAL', 'ABHAY', 'aa703', '2010110016']\n",
      "['AGGARWAL', 'PRATHAM', 'pa749', '2010110758']\n",
      "['AJMERA', 'SHIKHAR', 'sa292', '2010110902']\n",
      "['ANANTA', 'ILA', 'ia813', '2010110291']\n",
      "['ANEJA', 'SONAANSH', 'sa930', '2010111246']\n",
      "['AVINASH', 'APPALA', 'aa760', '2010110121']\n",
      "['B', 'CARL', 'cb943', '2010110196']\n",
      "['B', 'JENNICA', 'jb584', '2010110318']\n",
      "['B', 'SANTHOSH', 'sb875', '2010110565']\n",
      "['BAFNA', 'MAHAK', 'mb631', '2010110377']\n",
      "['BALAM', 'CHARUHAS', 'cb283', '2010110204']\n",
      "['BALAMURUGAN', 'RISHI', 'rb618', '2010110883']\n",
      "['BARAKOTI', 'ANANYA', 'ab983', '2010110083']\n",
      "['BERA', 'DEEP', 'db125', '2010110210']\n",
      "['BHANUTEJA', 'CHINTHA', 'cb567', '2010110206']\n",
      "['BHARDWAJ', 'ANUBHA', 'ab575', '2010110798']\n",
      "['BHATTACHARYA', 'SOHINI', 'sb355', '2010110640']\n",
      "['BOYAPATI', 'HEMANTH', 'hb268', '2010110980']\n",
      "['CHAKRABORTY', 'PRERNA', 'pc627', '2010110485']\n",
      "['CHAKRABORTY', 'TUNIR', 'tc589', '2010110686']\n",
      "['CHATHLEY', 'KANISHK', 'kc294', '2010110327']\n",
      "['CHATURVEDY', 'RAGHAV', 'rc166', '2010110759']\n",
      "['CHAWLA', 'ANSH', 'ac686', '2010110108']\n",
      "['CHAWLA', 'MOKSHA', 'mc744', '2010110402']\n",
      "['CHERUVU', 'MAHAMMAD SIRAJ', 'mc801', '2010110378']\n",
      "['DHINGRA', 'HARSHAL', 'hd207', '2010110278']\n",
      "['DIXIT', 'VARUN', 'vd462', '2010110706']\n",
      "['DUTTA', 'PARITOSH', 'pd597', '2010110458']\n",
      "['GABRANI', 'LOKAVYA', 'lg491', '2010110752']\n",
      "['GARG', 'AKSHIT', 'ag640', '2010110065']\n",
      "['GAUTAM', 'TANMAY', 'tg982', '2010110674']\n",
      "['GOEL', 'AYUSH', 'ag247', '2010110742']\n",
      "['GOEL', 'DEVANSHI', 'dg325', '2010110218']\n",
      "['GOWTHAM', 'VUMMITI', 'vg293', '2010111043']\n",
      "['GUPTA', 'ALANKRITI', 'ag565', '2010110069']\n",
      "['GUPTA', 'ARCHIT', 'ag213', '2010110126']\n",
      "['GUPTA', 'ARYAN', 'ag960', '2010110152']\n",
      "['GUPTA', 'ARYAN', 'ag774', '2010111155']\n",
      "['GUPTA', 'DEV', 'dg136', '2010110213']\n",
      "['GUPTA', 'DHRUV', 'dg635', '2010110819']\n",
      "['GUPTA', 'MANAN', 'mg107', '1910110223']\n",
      "['GUPTA', 'NATANYA', 'ng702', '2010110421']\n",
      "['GUPTA', 'PRERIT', 'pg682', '2010110483']\n",
      "['GUPTA', 'RIYA', 'rg371', '1910110322']\n",
      "['GUPTA', 'SHWETA', 'sg927', '2010110618']\n",
      "['GUPTA', 'SIDDHARTH', 'sg302', '2010110622']\n",
      "['GUPTA', 'VIKAS', 'vg152', '2010110715']\n",
      "['GUPTA', 'YASH', 'yg826', '2010110947']\n",
      "['Haria', 'Parv', 'ph232', '2010111245']\n",
      "['INTURI', 'PRANAV', 'pi467', '2010110472']\n",
      "['ITALIYA', 'JIGAR', 'ji206', '2010110319']\n",
      "['JAIN', 'ARIHANT', 'aj534', '1910110085']\n",
      "['JAIN', 'ARJAV', 'aj157', '2010110128']\n",
      "['JAIN', 'BHAVEN', 'bj995', '1910110112']\n",
      "['JAIN', 'BHAVIK', 'bj810', '2010110811']\n",
      "['JAIN', 'PALAK', 'pj542', '2010110453']\n",
      "['JAIN', 'PRATEEK', 'pj579', '2010110477']\n",
      "['JAIN', 'SAMYAK', 'sj442', '2010110763']\n",
      "['JAKHAR', 'AKSHITA', 'aj232', '2010110067']\n",
      "['K', 'ABHIJITH', 'ak707', '2010110020']\n",
      "['K B', 'MEGHA', 'mk197', '2010110394']\n",
      "['KALIDINDI', 'JAGANNATH', 'jk577', '2010110308']\n",
      "['KANDURI VENKATA SESHA', 'SRI HARSHA', 'sk132', '2010110649']\n",
      "['KAUSHIK', 'ASHEESH', 'ak943', '2010110161']\n",
      "['KEDIA', 'AARYAN', 'ak970', '2010110012']\n",
      "['KHAN', 'AYAAN', 'ak325', '2010110175']\n",
      "['KLAIR', 'FATEH', 'fk736', '2010110245']\n",
      "['KOKKIRAPATI', 'SIVA', 'sk552', '2010110769']\n",
      "['KOLLURU', 'KOLLURUJESHWANTH', 'kk345', '2010110351']\n",
      "['KOMARNENI', 'SREE', 'sk630', '2010110646']\n",
      "['KRISHNAN', 'RISHI', 'rk961', '2010110517']\n",
      "['MADDALA', 'PRAVAL', 'mp936', '2010111030']\n",
      "['MAHENDRU', 'ADITYA', 'am492', '2010110042']\n",
      "['MAHESHWARI', 'PREKSHA', 'pm470', '2010111106']\n",
      "['MAKKAPATI', 'KUMAR', 'km607', '2010110357']\n",
      "['MALHOTRA', 'ANANYA', 'am238', '2010110790']\n",
      "['MALIK', 'AAKASH', 'am730', '2010110003']\n",
      "['MALIK', 'DIYA', 'dm411', '2010110234']\n",
      "['MISHRA', 'ANOUSHKA', 'am649', '2010110106']\n",
      "['MISHRA', 'TUSHAR', 'tm217', '2010110688']\n",
      "['NAGPAL', 'ARYAN', 'an125', '2010110155']\n",
      "['NARANG', 'AARUSH', 'an229', '2010110009']\n",
      "['NARASIMHA', 'SEERAM', 'sn701', '2010110574']\n",
      "['NARENDRANATH', 'NIVEDITHA', 'nn667', '2010110861']\n",
      "['NAYAK', 'TUSHAR', 'tn995', '2010110689']\n",
      "['NERELLA', 'ABHISHEK', 'an828', '1910110020']\n",
      "['NUKALA', 'ANJANI', 'an834', '2010110966']\n",
      "['PANDA', 'CHANCHALA', 'cp352', '2010110200']\n",
      "['PANWAR', 'EKANSH', 'ep710', '2010110238']\n",
      "['PATIL', 'VEDANTA', 'vp433', '2010110710']\n",
      "['PENDYALA', 'AMAN', 'ap315', '2010110074']\n",
      "['PRAKASH', 'SHASHWAT', 'sp155', '2010111108']\n",
      "['RAI', 'MAITREYEE', 'mr644', '2010110382']\n",
      "['RALHAN', 'RIYA', 'rr556', '2010110524']\n",
      "['Rastosgi', 'Devashish', 'dr895', '2010111200']\n",
      "['RATHOD', 'MEGH', 'mr867', '2010110393']\n",
      "['RAVISHANKAR', 'SNEHASRI', 'sr576', '2010110638']\n",
      "['REDDY', 'BHAARATH', 'br904', '2010110186']\n",
      "['REDDY', 'DUREDDY', 'dr134', '2010110235']\n",
      "['REDDY', 'DUVVURU', 'dr366', '2010110236']\n",
      "['REDDY', 'KATAKAM', 'kr268', '2010110340']\n",
      "['REDDY', 'KOVVURI', 'kr521', '2010110354']\n",
      "['RUSTOGI', 'ANSHUL', 'ar794', '2010110111']\n",
      "['S', 'ARAVINDAN', 'as106', '1910110080']\n",
      "['S', 'VIBHA', 'vs269', '2010110943']\n",
      "['S V', 'MADHU', 'ms279', '2010110374']\n",
      "['S.', 'PRITHVIRAJ', 'ps617', '2010110488']\n",
      "['SAHU', 'SIDDHARTH', 'ss195', '2010110623']\n",
      "['SAI SRINIVAS', 'K', 'ks165', '2010110833']\n",
      "['SAMADHIYA', 'VERNIKA', 'vs883', '1910110440']\n",
      "['SAMYAL', 'KARAN', 'ks691', '2010110331']\n",
      "['SANDHU', 'MAHTAB', 'ms616', '2010110380']\n",
      "['SANKETH', 'JALAGAM', 'js968', '2010110310']\n",
      "['SARAN', 'BODDULURI', 'bs404', '2010110193']\n",
      "['SATHWIK', 'NULU', 'ns322', '2010110443']\n",
      "['SAXENA', 'LAKSHYA', 'ls927', '2010110952']\n",
      "['SETHI', 'JASHAN', 'js385', '1910110177']\n",
      "['SHAKYA', 'PRATEEK', 'ps738', '2010110478']\n",
      "['SHARAN', 'S', 'ss838', '2010110543']\n",
      "['SHARAT', 'REDDI', 'rs723', '2010110506']\n",
      "['SHARMA', 'AADI', 'as512', '2010110002']\n",
      "['SHARMA', 'ANIKA', 'as547', '2010110089']\n",
      "['SHARMA', 'GAUTAM', 'gs617', '2010110255']\n",
      "['SHARMA', 'ISHITA', 'is143', '2010110303']\n",
      "['SHARMA', 'MAYANK', 'ms991', '1910110231']\n",
      "['SHARMA', 'PRANATI', 'ps470', '2010110471']\n",
      "['SHARMA', 'PRATEEK', 'ps929', '1910110285']\n",
      "['SHARMA', 'PRATHAM', 'ps283', '2010110479']\n",
      "['SHARMA', 'SHREY', 'ss989', '2010110600']\n",
      "['SHRIVASTAVA', 'KARTIKEYE', 'ks731', '2010111055']\n",
      "['SIDDHARTHA', 'CHIVUKULA', 'cs100', '2010111021']\n",
      "['SINGH', 'MAITREYI', 'ms790', '2010110383']\n",
      "['SINGH', 'SOUMYA', 'ss865', '2010110643']\n",
      "['SINGHAL', 'ANANYA', 'as146', '2010110087']\n",
      "['SINGHANIA', 'SARTHAK', 'ss878', '2010110898']\n",
      "['SINHA', 'SHREYA', 'ss115', '2010111003']\n",
      "['SREERAMOZU', 'GAUTHAM', 'gs462', '2010110256']\n",
      "['SRIVASTAVA', 'HARSH', 'hs283', '2010110277']\n",
      "['SRIVASTAVA', 'OJAS', 'os583', '2010110445']\n",
      "['SRIVASTAVA', 'RIYA', 'rs327', '2010110526']\n",
      "['SURA', 'MITRA', 'ms139', '2010110399']\n",
      "['SURAPANENI', 'GEETHAM', 'gs272', '2010110259']\n",
      "['SURI', 'ADHYAN', 'as649', '1910110026']\n",
      "['TALUS', 'ANUBHAV', 'at250', '2010110113']\n",
      "['TAMBI', 'YASH', 'yt734', '2010110725']\n",
      "['TAXALI', 'KANISHK', 'kt945', '2010110835']\n",
      "['THAKKAR', 'PREM', 'pt992', '2010110482']\n",
      "['TIWARI', 'MRINAL', 'mt816', '2010110404']\n",
      "['TIWARI', 'SHASHWAT', 'st289', '2010111038']\n",
      "['TRIPATHI', 'SRIKANT', 'st234', '2010110770']\n",
      "['VADAPALLI GURU', 'AKSHATH', 'av555', '2010110064']\n",
      "['VENKATA AKASH', 'GOGINENI', 'gv653', '2010110262']\n",
      "['VERMA', 'CHINMAYI', 'cv948', '2010111244']\n",
      "['Y', 'ADITYA', 'ay795', '2010110047']\n",
      "['YADAV', 'ADITYA RAJ', 'ay958', '2010110048']\n",
      "['YESWANTH REDDY', 'POSAM', 'py448', '2010110466']\n",
      "{'Username': ['\\ufeffLast Name', 'First Name', 'Username', 'Student ID'], 'am795': ['.', 'AMAAN', 'am795', '2010110072'], 'ay636': ['.', 'AYAAN', 'ay636', '2010110174'], 'aa324': ['A', 'ANIRUDHAN', 'aa324', '2010110096'], 'la118': ['AAKASH', 'LAKSHMAN', 'la118', '2010110364'], 'ma646': ['ADITYAJA', 'MUDIT', 'ma646', '2010110406'], 'aa255': ['AGARWAL', 'ARUSHI', 'aa255', '2010110140'], 'da334': ['AGARWAL', 'DEVANSSH', 'da334', '2010110220'], 'pa283': ['AGARWAL', 'PRANSHU', 'pa283', '2010110475'], 'aa703': ['AGGARWAL', 'ABHAY', 'aa703', '2010110016'], 'pa749': ['AGGARWAL', 'PRATHAM', 'pa749', '2010110758'], 'sa292': ['AJMERA', 'SHIKHAR', 'sa292', '2010110902'], 'ia813': ['ANANTA', 'ILA', 'ia813', '2010110291'], 'sa930': ['ANEJA', 'SONAANSH', 'sa930', '2010111246'], 'aa760': ['AVINASH', 'APPALA', 'aa760', '2010110121'], 'cb943': ['B', 'CARL', 'cb943', '2010110196'], 'jb584': ['B', 'JENNICA', 'jb584', '2010110318'], 'sb875': ['B', 'SANTHOSH', 'sb875', '2010110565'], 'mb631': ['BAFNA', 'MAHAK', 'mb631', '2010110377'], 'cb283': ['BALAM', 'CHARUHAS', 'cb283', '2010110204'], 'rb618': ['BALAMURUGAN', 'RISHI', 'rb618', '2010110883'], 'ab983': ['BARAKOTI', 'ANANYA', 'ab983', '2010110083'], 'db125': ['BERA', 'DEEP', 'db125', '2010110210'], 'cb567': ['BHANUTEJA', 'CHINTHA', 'cb567', '2010110206'], 'ab575': ['BHARDWAJ', 'ANUBHA', 'ab575', '2010110798'], 'sb355': ['BHATTACHARYA', 'SOHINI', 'sb355', '2010110640'], 'hb268': ['BOYAPATI', 'HEMANTH', 'hb268', '2010110980'], 'pc627': ['CHAKRABORTY', 'PRERNA', 'pc627', '2010110485'], 'tc589': ['CHAKRABORTY', 'TUNIR', 'tc589', '2010110686'], 'kc294': ['CHATHLEY', 'KANISHK', 'kc294', '2010110327'], 'rc166': ['CHATURVEDY', 'RAGHAV', 'rc166', '2010110759'], 'ac686': ['CHAWLA', 'ANSH', 'ac686', '2010110108'], 'mc744': ['CHAWLA', 'MOKSHA', 'mc744', '2010110402'], 'mc801': ['CHERUVU', 'MAHAMMAD SIRAJ', 'mc801', '2010110378'], 'hd207': ['DHINGRA', 'HARSHAL', 'hd207', '2010110278'], 'vd462': ['DIXIT', 'VARUN', 'vd462', '2010110706'], 'pd597': ['DUTTA', 'PARITOSH', 'pd597', '2010110458'], 'lg491': ['GABRANI', 'LOKAVYA', 'lg491', '2010110752'], 'ag640': ['GARG', 'AKSHIT', 'ag640', '2010110065'], 'tg982': ['GAUTAM', 'TANMAY', 'tg982', '2010110674'], 'ag247': ['GOEL', 'AYUSH', 'ag247', '2010110742'], 'dg325': ['GOEL', 'DEVANSHI', 'dg325', '2010110218'], 'vg293': ['GOWTHAM', 'VUMMITI', 'vg293', '2010111043'], 'ag565': ['GUPTA', 'ALANKRITI', 'ag565', '2010110069'], 'ag213': ['GUPTA', 'ARCHIT', 'ag213', '2010110126'], 'ag960': ['GUPTA', 'ARYAN', 'ag960', '2010110152'], 'ag774': ['GUPTA', 'ARYAN', 'ag774', '2010111155'], 'dg136': ['GUPTA', 'DEV', 'dg136', '2010110213'], 'dg635': ['GUPTA', 'DHRUV', 'dg635', '2010110819'], 'mg107': ['GUPTA', 'MANAN', 'mg107', '1910110223'], 'ng702': ['GUPTA', 'NATANYA', 'ng702', '2010110421'], 'pg682': ['GUPTA', 'PRERIT', 'pg682', '2010110483'], 'rg371': ['GUPTA', 'RIYA', 'rg371', '1910110322'], 'sg927': ['GUPTA', 'SHWETA', 'sg927', '2010110618'], 'sg302': ['GUPTA', 'SIDDHARTH', 'sg302', '2010110622'], 'vg152': ['GUPTA', 'VIKAS', 'vg152', '2010110715'], 'yg826': ['GUPTA', 'YASH', 'yg826', '2010110947'], 'ph232': ['Haria', 'Parv', 'ph232', '2010111245'], 'pi467': ['INTURI', 'PRANAV', 'pi467', '2010110472'], 'ji206': ['ITALIYA', 'JIGAR', 'ji206', '2010110319'], 'aj534': ['JAIN', 'ARIHANT', 'aj534', '1910110085'], 'aj157': ['JAIN', 'ARJAV', 'aj157', '2010110128'], 'bj995': ['JAIN', 'BHAVEN', 'bj995', '1910110112'], 'bj810': ['JAIN', 'BHAVIK', 'bj810', '2010110811'], 'pj542': ['JAIN', 'PALAK', 'pj542', '2010110453'], 'pj579': ['JAIN', 'PRATEEK', 'pj579', '2010110477'], 'sj442': ['JAIN', 'SAMYAK', 'sj442', '2010110763'], 'aj232': ['JAKHAR', 'AKSHITA', 'aj232', '2010110067'], 'ak707': ['K', 'ABHIJITH', 'ak707', '2010110020'], 'mk197': ['K B', 'MEGHA', 'mk197', '2010110394'], 'jk577': ['KALIDINDI', 'JAGANNATH', 'jk577', '2010110308'], 'sk132': ['KANDURI VENKATA SESHA', 'SRI HARSHA', 'sk132', '2010110649'], 'ak943': ['KAUSHIK', 'ASHEESH', 'ak943', '2010110161'], 'ak970': ['KEDIA', 'AARYAN', 'ak970', '2010110012'], 'ak325': ['KHAN', 'AYAAN', 'ak325', '2010110175'], 'fk736': ['KLAIR', 'FATEH', 'fk736', '2010110245'], 'sk552': ['KOKKIRAPATI', 'SIVA', 'sk552', '2010110769'], 'kk345': ['KOLLURU', 'KOLLURUJESHWANTH', 'kk345', '2010110351'], 'sk630': ['KOMARNENI', 'SREE', 'sk630', '2010110646'], 'rk961': ['KRISHNAN', 'RISHI', 'rk961', '2010110517'], 'mp936': ['MADDALA', 'PRAVAL', 'mp936', '2010111030'], 'am492': ['MAHENDRU', 'ADITYA', 'am492', '2010110042'], 'pm470': ['MAHESHWARI', 'PREKSHA', 'pm470', '2010111106'], 'km607': ['MAKKAPATI', 'KUMAR', 'km607', '2010110357'], 'am238': ['MALHOTRA', 'ANANYA', 'am238', '2010110790'], 'am730': ['MALIK', 'AAKASH', 'am730', '2010110003'], 'dm411': ['MALIK', 'DIYA', 'dm411', '2010110234'], 'am649': ['MISHRA', 'ANOUSHKA', 'am649', '2010110106'], 'tm217': ['MISHRA', 'TUSHAR', 'tm217', '2010110688'], 'an125': ['NAGPAL', 'ARYAN', 'an125', '2010110155'], 'an229': ['NARANG', 'AARUSH', 'an229', '2010110009'], 'sn701': ['NARASIMHA', 'SEERAM', 'sn701', '2010110574'], 'nn667': ['NARENDRANATH', 'NIVEDITHA', 'nn667', '2010110861'], 'tn995': ['NAYAK', 'TUSHAR', 'tn995', '2010110689'], 'an828': ['NERELLA', 'ABHISHEK', 'an828', '1910110020'], 'an834': ['NUKALA', 'ANJANI', 'an834', '2010110966'], 'cp352': ['PANDA', 'CHANCHALA', 'cp352', '2010110200'], 'ep710': ['PANWAR', 'EKANSH', 'ep710', '2010110238'], 'vp433': ['PATIL', 'VEDANTA', 'vp433', '2010110710'], 'ap315': ['PENDYALA', 'AMAN', 'ap315', '2010110074'], 'sp155': ['PRAKASH', 'SHASHWAT', 'sp155', '2010111108'], 'mr644': ['RAI', 'MAITREYEE', 'mr644', '2010110382'], 'rr556': ['RALHAN', 'RIYA', 'rr556', '2010110524'], 'dr895': ['Rastosgi', 'Devashish', 'dr895', '2010111200'], 'mr867': ['RATHOD', 'MEGH', 'mr867', '2010110393'], 'sr576': ['RAVISHANKAR', 'SNEHASRI', 'sr576', '2010110638'], 'br904': ['REDDY', 'BHAARATH', 'br904', '2010110186'], 'dr134': ['REDDY', 'DUREDDY', 'dr134', '2010110235'], 'dr366': ['REDDY', 'DUVVURU', 'dr366', '2010110236'], 'kr268': ['REDDY', 'KATAKAM', 'kr268', '2010110340'], 'kr521': ['REDDY', 'KOVVURI', 'kr521', '2010110354'], 'ar794': ['RUSTOGI', 'ANSHUL', 'ar794', '2010110111'], 'as106': ['S', 'ARAVINDAN', 'as106', '1910110080'], 'vs269': ['S', 'VIBHA', 'vs269', '2010110943'], 'ms279': ['S V', 'MADHU', 'ms279', '2010110374'], 'ps617': ['S.', 'PRITHVIRAJ', 'ps617', '2010110488'], 'ss195': ['SAHU', 'SIDDHARTH', 'ss195', '2010110623'], 'ks165': ['SAI SRINIVAS', 'K', 'ks165', '2010110833'], 'vs883': ['SAMADHIYA', 'VERNIKA', 'vs883', '1910110440'], 'ks691': ['SAMYAL', 'KARAN', 'ks691', '2010110331'], 'ms616': ['SANDHU', 'MAHTAB', 'ms616', '2010110380'], 'js968': ['SANKETH', 'JALAGAM', 'js968', '2010110310'], 'bs404': ['SARAN', 'BODDULURI', 'bs404', '2010110193'], 'ns322': ['SATHWIK', 'NULU', 'ns322', '2010110443'], 'ls927': ['SAXENA', 'LAKSHYA', 'ls927', '2010110952'], 'js385': ['SETHI', 'JASHAN', 'js385', '1910110177'], 'ps738': ['SHAKYA', 'PRATEEK', 'ps738', '2010110478'], 'ss838': ['SHARAN', 'S', 'ss838', '2010110543'], 'rs723': ['SHARAT', 'REDDI', 'rs723', '2010110506'], 'as512': ['SHARMA', 'AADI', 'as512', '2010110002'], 'as547': ['SHARMA', 'ANIKA', 'as547', '2010110089'], 'gs617': ['SHARMA', 'GAUTAM', 'gs617', '2010110255'], 'is143': ['SHARMA', 'ISHITA', 'is143', '2010110303'], 'ms991': ['SHARMA', 'MAYANK', 'ms991', '1910110231'], 'ps470': ['SHARMA', 'PRANATI', 'ps470', '2010110471'], 'ps929': ['SHARMA', 'PRATEEK', 'ps929', '1910110285'], 'ps283': ['SHARMA', 'PRATHAM', 'ps283', '2010110479'], 'ss989': ['SHARMA', 'SHREY', 'ss989', '2010110600'], 'ks731': ['SHRIVASTAVA', 'KARTIKEYE', 'ks731', '2010111055'], 'cs100': ['SIDDHARTHA', 'CHIVUKULA', 'cs100', '2010111021'], 'ms790': ['SINGH', 'MAITREYI', 'ms790', '2010110383'], 'ss865': ['SINGH', 'SOUMYA', 'ss865', '2010110643'], 'as146': ['SINGHAL', 'ANANYA', 'as146', '2010110087'], 'ss878': ['SINGHANIA', 'SARTHAK', 'ss878', '2010110898'], 'ss115': ['SINHA', 'SHREYA', 'ss115', '2010111003'], 'gs462': ['SREERAMOZU', 'GAUTHAM', 'gs462', '2010110256'], 'hs283': ['SRIVASTAVA', 'HARSH', 'hs283', '2010110277'], 'os583': ['SRIVASTAVA', 'OJAS', 'os583', '2010110445'], 'rs327': ['SRIVASTAVA', 'RIYA', 'rs327', '2010110526'], 'ms139': ['SURA', 'MITRA', 'ms139', '2010110399'], 'gs272': ['SURAPANENI', 'GEETHAM', 'gs272', '2010110259'], 'as649': ['SURI', 'ADHYAN', 'as649', '1910110026'], 'at250': ['TALUS', 'ANUBHAV', 'at250', '2010110113'], 'yt734': ['TAMBI', 'YASH', 'yt734', '2010110725'], 'kt945': ['TAXALI', 'KANISHK', 'kt945', '2010110835'], 'pt992': ['THAKKAR', 'PREM', 'pt992', '2010110482'], 'mt816': ['TIWARI', 'MRINAL', 'mt816', '2010110404'], 'st289': ['TIWARI', 'SHASHWAT', 'st289', '2010111038'], 'st234': ['TRIPATHI', 'SRIKANT', 'st234', '2010110770'], 'av555': ['VADAPALLI GURU', 'AKSHATH', 'av555', '2010110064'], 'gv653': ['VENKATA AKASH', 'GOGINENI', 'gv653', '2010110262'], 'cv948': ['VERMA', 'CHINMAYI', 'cv948', '2010111244'], 'ay795': ['Y', 'ADITYA', 'ay795', '2010110047'], 'ay958': ['YADAV', 'ADITYA RAJ', 'ay958', '2010110048'], 'py448': ['YESWANTH REDDY', 'POSAM', 'py448', '2010110466']}\n"
     ]
    }
   ],
   "source": [
    "import csv\n",
    "student_details = {}\n",
    "with open('student_details/dbms students details.csv', mode ='r')as file:\n",
    "    csvFile = csv.reader(file)\n",
    "    for lines in csvFile:\n",
    "        print(lines)\n",
    "        student_details[lines[2]]=lines\n",
    "print(student_details)"
   ],
   "metadata": {
    "collapsed": false,
    "pycharm": {
     "name": "#%%\n"
    }
   }
  },
  {
   "cell_type": "code",
   "execution_count": 16,
   "outputs": [
    {
     "name": "stdout",
     "output_type": "stream",
     "text": [
      "TANMAY GAUTAM-tg982-2010110674\n",
      "tg982\n",
      "{'pj579': 1}\n",
      "\n",
      "DEVANSSH AGARWAL-da334-2010110220\n",
      "da334\n",
      "{'am649': 11}\n",
      "\n",
      "PRATEEK JAIN-pj579-2010110477\n",
      "pj579\n",
      "{'tg982': 1}\n",
      "\n",
      "S SHARAN-ss838-2010110543\n",
      "ss838\n",
      "{'bs404': 1}\n",
      "\n",
      "SOUMYA SINGH-ss865-2010110643\n",
      "ss865\n",
      "{'aa760': 1}\n",
      "\n",
      "ANUBHA BHARDWAJ-ab575-2010110798\n",
      "ab575\n",
      "{'cv948': 1}\n",
      "\n",
      "APPALA AVINASH-aa760-2010110121\n",
      "aa760\n",
      "{'ss865': 1}\n",
      "\n",
      "ANANYA BARAKOTI-ab983-2010110083\n",
      "ab983\n",
      "{'pt992': 1}\n",
      "\n",
      "BODDULURI SARAN-bs404-2010110193\n",
      "bs404\n",
      "{'sb355': 1, 'ss838': 1}\n",
      "\n",
      "ADITYA RAJ YADAV-ay958-2010110048\n",
      "ay958\n",
      "{'ay795': 15, 'ag213': 1}\n",
      "\n",
      "ADITYA Y-ay795-2010110047\n",
      "ay795\n",
      "{'ay958': 15, 'ag213': 1}\n",
      "\n",
      "SAMYAK JAIN-sj442-2010110763\n",
      "sj442\n",
      "{'cb943': 1}\n",
      "\n",
      "CHINTHA BHANUTEJA-cb567-2010110206\n",
      "cb567\n",
      "{'mb631': 1}\n",
      "\n",
      "ANSH CHAWLA-ac686-2010110108\n",
      "ac686\n",
      "{'sn701': 1}\n",
      "\n",
      "SOHINI BHATTACHARYA-sb355-2010110640\n",
      "sb355\n",
      "{'bs404': 1}\n",
      "\n",
      "NIVEDITHA NARENDRANATH-nn667-2010110861\n",
      "nn667\n",
      "{'ps617': 1}\n",
      "\n",
      "PRERNA CHAKRABORTY-pc627-2010110485\n",
      "pc627\n",
      "{'hd207': 1}\n",
      "\n",
      "MAHAK BAFNA-mb631-2010110377\n",
      "mb631\n",
      "{'cb567': 1, 'an229': 1}\n",
      "\n",
      "MOKSHA CHAWLA-mc744-2010110402\n",
      "mc744\n",
      "{'ak707': 1}\n",
      "\n",
      "CHIVUKULA SIDDHARTHA-cs100-2010111021\n",
      "cs100\n",
      "{'ms139': 1}\n",
      "\n",
      "AYAAN .-ay636-2010110174\n",
      "ay636\n",
      "{'ag213': 1}\n",
      "\n",
      "ANOUSHKA MISHRA-am649-2010110106\n",
      "am649\n",
      "{'da334': 6}\n",
      "\n",
      "MITRA SURA-ms139-2010110399\n",
      "ms139\n",
      "{'cs100': 1}\n",
      "\n",
      "HARSHAL DHINGRA-hd207-2010110278\n",
      "hd207\n",
      "{'pc627': 1}\n",
      "\n",
      "GAUTHAM SREERAMOZU-gs462-2010110256\n",
      "gs462\n",
      "{'aj534': 1}\n",
      "\n",
      "CARL B-cb943-2010110196\n",
      "cb943\n",
      "{'sj442': 1}\n",
      "\n",
      "MADHU S V-ms279-2010110374\n",
      "ms279\n",
      "{'sn701': 1}\n",
      "\n",
      "PREM THAKKAR-pt992-2010110482\n",
      "pt992\n",
      "{'ab983': 1}\n",
      "\n",
      "CHINMAYI VERMA-cv948-2010111244\n",
      "cv948\n",
      "{'ab575': 1}\n",
      "\n",
      "DEV GUPTA-dg136-2010110213\n",
      "dg136\n",
      "{'fk736': 1}\n",
      "\n",
      "EKANSH PANWAR-ep710-2010110238\n",
      "ep710\n",
      "{'vg152': 1}\n",
      "\n",
      "KOLLURUJESHWANTH KOLLURU-kk345-2010110351\n",
      "kk345\n",
      "{'pi467': 19}\n",
      "\n",
      "ARIHANT JAIN-aj534-1910110085\n",
      "aj534\n",
      "{'gs462': 1}\n",
      "\n",
      "ARCHIT GUPTA-ag213-2010110126\n",
      "ag213\n",
      "{'ay636': 1, 'ay958': 1, 'ay795': 1}\n",
      "\n",
      "FATEH KLAIR-fk736-2010110245\n",
      "fk736\n",
      "{'dg136': 1}\n",
      "\n",
      "PRANAV INTURI-pi467-2010110472\n",
      "pi467\n",
      "{'kk345': 22}\n",
      "\n",
      "PRITHVIRAJ S.-ps617-2010110488\n",
      "ps617\n",
      "{'nn667': 1}\n",
      "\n",
      "AARUSH NARANG-an229-2010110009\n",
      "an229\n",
      "{'mb631': 1}\n",
      "\n",
      "ABHIJITH K-ak707-2010110020\n",
      "ak707\n",
      "{'mc744': 1}\n",
      "\n",
      "SEERAM NARASIMHA-sn701-2010110574\n",
      "sn701\n",
      "{'ms279': 1, 'ac686': 1}\n",
      "\n",
      "VIKAS GUPTA-vg152-2010110715\n",
      "vg152\n",
      "{'ep710': 1}\n",
      "\n"
     ]
    }
   ],
   "source": [
    "count_per_copy = {}\n",
    "\n",
    "for key, value in plag.items():\n",
    "    counts = Counter(value)\n",
    "    count_per_copy[key] = dict(counts)\n",
    "    print(student_details[key][1]+\" \"+student_details[key][0]+\"-\"+student_details[key][2]+\"-\"+student_details[key][3])\n",
    "    print(key)\n",
    "    print(count_per_copy[key])\n",
    "    print()"
   ],
   "metadata": {
    "collapsed": false,
    "pycharm": {
     "name": "#%%\n"
    }
   }
  },
  {
   "cell_type": "code",
   "execution_count": 37,
   "outputs": [
    {
     "name": "stdout",
     "output_type": "stream",
     "text": [
      "MAITREYEE RAI-mr644-2010110382\n",
      "(REDDI SHARAT-rs723-2010110506)-1, \n",
      "\n",
      "CHANCHALA PANDA-cp352-2010110200\n",
      "(MAHAK BAFNA-mb631-2010110377)-1, (GEETHAM SURAPANENI-gs272-2010110259)-1, \n",
      "\n",
      "ANIKA SHARMA-as547-2010110089\n",
      "(MAITREYI SINGH-ms790-2010110383)-1, (FATEH KLAIR-fk736-2010110245)-1, (CHARUHAS BALAM-cb283-2010110204)-1, \n",
      "\n",
      "PRATEEK JAIN-pj579-2010110477\n",
      "(ANANYA MALHOTRA-am238-2010110790)-1, \n",
      "\n",
      "ANANYA SINGHAL-as146-2010110087\n",
      "(PRATEEK SHARMA-ps929-1910110285)-1, (ADHYAN SURI-as649-1910110026)-1, (MAHAK BAFNA-mb631-2010110377)-1, (SRI HARSHA KANDURI VENKATA SESHA-sk132-2010110649)-1, \n",
      "\n",
      "DHRUV GUPTA-dg635-2010110819\n",
      "(SHASHWAT TIWARI-st289-2010111038)-20, (HARSH SRIVASTAVA-hs283-2010110277)-20, (PRATEEK SHAKYA-ps738-2010110478)-1, \n",
      "\n",
      "SHASHWAT TIWARI-st289-2010111038\n",
      "(DHRUV GUPTA-dg635-2010110819)-20, (HARSH SRIVASTAVA-hs283-2010110277)-26, (PRATEEK SHAKYA-ps738-2010110478)-1, \n",
      "\n",
      "MAITREYI SINGH-ms790-2010110383\n",
      "(ANIKA SHARMA-as547-2010110089)-1, (MOKSHA CHAWLA-mc744-2010110402)-1, \n",
      "\n",
      "S SHARAN-ss838-2010110543\n",
      "(VARUN DIXIT-vd462-2010110706)-1, (BHAVIK JAIN-bj810-2010110811)-1, (Devashish Rastosgi-dr895-2010111200)-1, \n",
      "\n",
      "ASHEESH KAUSHIK-ak943-2010110161\n",
      "(ANANYA BARAKOTI-ab983-2010110083)-1, \n",
      "\n",
      "SOUMYA SINGH-ss865-2010110643\n",
      "(RAGHAV CHATURVEDY-rc166-2010110759)-1, (ANOUSHKA MISHRA-am649-2010110106)-1, (PRAVAL MADDALA-mp936-2010111030)-1, \n",
      "\n",
      "PRATEEK SHARMA-ps929-1910110285\n",
      "(ANANYA SINGHAL-as146-2010110087)-1, (ADHYAN SURI-as649-1910110026)-17, (MAHAK BAFNA-mb631-2010110377)-1, (SRI HARSHA KANDURI VENKATA SESHA-sk132-2010110649)-1, \n",
      "\n",
      "DEVANSHI GOEL-dg325-2010110218\n",
      "(ADITYA RAJ YADAV-ay958-2010110048)-1, (DEEP BERA-db125-2010110210)-1, (LOKAVYA GABRANI-lg491-2010110752)-1, \n",
      "\n",
      "KUMAR MAKKAPATI-km607-2010110357\n",
      "(PRITHVIRAJ S.-ps617-2010110488)-1, (ANJANI NUKALA-an834-2010110966)-7, \n",
      "\n",
      "PRANSHU AGARWAL-pa283-2010110475\n",
      "(PRAVAL MADDALA-mp936-2010111030)-1, \n",
      "\n",
      "ANANYA BARAKOTI-ab983-2010110083\n",
      "(ASHEESH KAUSHIK-ak943-2010110161)-1, \n",
      "\n",
      "BODDULURI SARAN-bs404-2010110193\n",
      "(MITRA SURA-ms139-2010110399)-1, \n",
      "\n",
      "GOGINENI VENKATA AKASH-gv653-2010110262\n",
      "(VUMMITI GOWTHAM-vg293-2010111043)-10, \n",
      "\n",
      "ADITYA RAJ YADAV-ay958-2010110048\n",
      "(DEVANSHI GOEL-dg325-2010110218)-1, (DEEP BERA-db125-2010110210)-1, (LOKAVYA GABRANI-lg491-2010110752)-1, \n",
      "\n",
      "LAKSHMAN AAKASH-la118-2010110364\n",
      "(EKANSH PANWAR-ep710-2010110238)-1, (AYUSH GOEL-ag247-2010110742)-1, (SHIKHAR AJMERA-sa292-2010110902)-1, \n",
      "\n",
      "VUMMITI GOWTHAM-vg293-2010111043\n",
      "(GOGINENI VENKATA AKASH-gv653-2010110262)-10, \n",
      "\n",
      "ADITYA Y-ay795-2010110047\n",
      "(PREKSHA MAHESHWARI-pm470-2010111106)-16, (JALAGAM SANKETH-js968-2010110310)-27, (PRANATI SHARMA-ps470-2010110471)-1, \n",
      "\n",
      "RIYA SRIVASTAVA-rs327-2010110526\n",
      "(TUSHAR NAYAK-tn995-2010110689)-1, \n",
      "\n",
      "PREKSHA MAHESHWARI-pm470-2010111106\n",
      "(ADITYA Y-ay795-2010110047)-16, (JALAGAM SANKETH-js968-2010110310)-17, (PRANATI SHARMA-ps470-2010110471)-1, \n",
      "\n",
      "KATAKAM REDDY-kr268-2010110340\n",
      "(ANUBHAV TALUS-at250-2010110113)-1, (CARL B-cb943-2010110196)-1, \n",
      "\n",
      "VERNIKA SAMADHIYA-vs883-1910110440\n",
      "(RIYA RALHAN-rr556-2010110524)-1, (PRATEEK SHAKYA-ps738-2010110478)-1, \n",
      "\n",
      "RAGHAV CHATURVEDY-rc166-2010110759\n",
      "(SOUMYA SINGH-ss865-2010110643)-1, (ANOUSHKA MISHRA-am649-2010110106)-1, (PRAVAL MADDALA-mp936-2010111030)-1, \n",
      "\n",
      "ADHYAN SURI-as649-1910110026\n",
      "(ANANYA SINGHAL-as146-2010110087)-1, (PRATEEK SHARMA-ps929-1910110285)-17, (MAHAK BAFNA-mb631-2010110377)-1, (SRI HARSHA KANDURI VENKATA SESHA-sk132-2010110649)-1, \n",
      "\n",
      "ANUBHAV TALUS-at250-2010110113\n",
      "(KATAKAM REDDY-kr268-2010110340)-1, \n",
      "\n",
      "CHINTHA BHANUTEJA-cb567-2010110206\n",
      "(PREM THAKKAR-pt992-2010110482)-4, \n",
      "\n",
      "TUSHAR NAYAK-tn995-2010110689\n",
      "(RIYA SRIVASTAVA-rs327-2010110526)-1, \n",
      "\n",
      "MAHAMMAD SIRAJ CHERUVU-mc801-2010110378\n",
      "(AARYAN KEDIA-ak970-2010110012)-1, \n",
      "\n",
      "MAHAK BAFNA-mb631-2010110377\n",
      "(CHANCHALA PANDA-cp352-2010110200)-1, (ANANYA SINGHAL-as146-2010110087)-1, (PRATEEK SHARMA-ps929-1910110285)-1, (ADHYAN SURI-as649-1910110026)-1, (SRI HARSHA KANDURI VENKATA SESHA-sk132-2010110649)-1, \n",
      "\n",
      "MOKSHA CHAWLA-mc744-2010110402\n",
      "(MAITREYI SINGH-ms790-2010110383)-1, \n",
      "\n",
      "CHIVUKULA SIDDHARTHA-cs100-2010111021\n",
      "(NULU SATHWIK-ns322-2010110443)-1, \n",
      "\n",
      "ARUSHI AGARWAL-aa255-2010110140\n",
      "(EKANSH PANWAR-ep710-2010110238)-1, (AYUSH GOEL-ag247-2010110742)-1, (SHIKHAR AJMERA-sa292-2010110902)-1, (SHWETA GUPTA-sg927-2010110618)-2, \n",
      "\n",
      "NULU SATHWIK-ns322-2010110443\n",
      "(ABHIJITH K-ak707-2010110020)-1, (CHIVUKULA SIDDHARTHA-cs100-2010111021)-1, \n",
      "\n",
      "HARSH SRIVASTAVA-hs283-2010110277\n",
      "(DHRUV GUPTA-dg635-2010110819)-20, (SHASHWAT TIWARI-st289-2010111038)-26, (PRATEEK SHAKYA-ps738-2010110478)-1, \n",
      "\n",
      "ANOUSHKA MISHRA-am649-2010110106\n",
      "(SOUMYA SINGH-ss865-2010110643)-1, (RAGHAV CHATURVEDY-rc166-2010110759)-1, (PRAVAL MADDALA-mp936-2010111030)-1, \n",
      "\n",
      "DEEP BERA-db125-2010110210\n",
      "(LOKAVYA GABRANI-lg491-2010110752)-25, (DEVANSHI GOEL-dg325-2010110218)-1, (ADITYA RAJ YADAV-ay958-2010110048)-1, \n",
      "\n",
      "MITRA SURA-ms139-2010110399\n",
      "(BODDULURI SARAN-bs404-2010110193)-1, \n",
      "\n",
      "AARYAN KEDIA-ak970-2010110012\n",
      "(KARAN SAMYAL-ks691-2010110331)-1, (MAHAMMAD SIRAJ CHERUVU-mc801-2010110378)-1, \n",
      "\n",
      "ANJANI NUKALA-an834-2010110966\n",
      "(KUMAR MAKKAPATI-km607-2010110357)-7, (MUDIT ADITYAJA-ma646-2010110406)-1, \n",
      "\n",
      "Devashish Rastosgi-dr895-2010111200\n",
      "(S SHARAN-ss838-2010110543)-1, (ABHIJITH K-ak707-2010110020)-1, \n",
      "\n",
      "REDDI SHARAT-rs723-2010110506\n",
      "(MAITREYEE RAI-mr644-2010110382)-1, \n",
      "\n",
      "CARL B-cb943-2010110196\n",
      "(KATAKAM REDDY-kr268-2010110340)-1, \n",
      "\n",
      "AMAAN .-am795-2010110072\n",
      "(CHARUHAS BALAM-cb283-2010110204)-5, \n",
      "\n",
      "MADHU S V-ms279-2010110374\n",
      "(SIDDHARTH GUPTA-sg302-2010110622)-1, (EKANSH PANWAR-ep710-2010110238)-1, (AYUSH GOEL-ag247-2010110742)-1, (SHIKHAR AJMERA-sa292-2010110902)-1, \n",
      "\n",
      "VIBHA S-vs269-2010110943\n",
      "(PRERIT GUPTA-pg682-2010110483)-5, \n",
      "\n",
      "PREM THAKKAR-pt992-2010110482\n",
      "(CHINTHA BHANUTEJA-cb567-2010110206)-4, \n",
      "\n",
      "SHWETA GUPTA-sg927-2010110618\n",
      "(ARUSHI AGARWAL-aa255-2010110140)-2, \n",
      "\n",
      "JALAGAM SANKETH-js968-2010110310\n",
      "(ADITYA Y-ay795-2010110047)-27, (PREKSHA MAHESHWARI-pm470-2010111106)-17, (PRANATI SHARMA-ps470-2010110471)-1, \n",
      "\n",
      "SIDDHARTH GUPTA-sg302-2010110622\n",
      "(EKANSH PANWAR-ep710-2010110238)-20, (AYUSH GOEL-ag247-2010110742)-20, (SHIKHAR AJMERA-sa292-2010110902)-20, (MADHU S V-ms279-2010110374)-1, \n",
      "\n",
      "LOKAVYA GABRANI-lg491-2010110752\n",
      "(DEEP BERA-db125-2010110210)-25, (DEVANSHI GOEL-dg325-2010110218)-1, (ADITYA RAJ YADAV-ay958-2010110048)-1, \n",
      "\n",
      "EKANSH PANWAR-ep710-2010110238\n",
      "(SIDDHARTH GUPTA-sg302-2010110622)-20, (AYUSH GOEL-ag247-2010110742)-28, (SHIKHAR AJMERA-sa292-2010110902)-28, (MADHU S V-ms279-2010110374)-1, (LAKSHMAN AAKASH-la118-2010110364)-1, (ARUSHI AGARWAL-aa255-2010110140)-1, \n",
      "\n",
      "KOLLURUJESHWANTH KOLLURU-kk345-2010110351\n",
      "(PRANAV INTURI-pi467-2010110472)-25, \n",
      "\n",
      "ARIHANT JAIN-aj534-1910110085\n",
      "(PRERIT GUPTA-pg682-2010110483)-1, \n",
      "\n",
      "VARUN DIXIT-vd462-2010110706\n",
      "(BHAVIK JAIN-bj810-2010110811)-26, (S SHARAN-ss838-2010110543)-1, \n",
      "\n",
      "FATEH KLAIR-fk736-2010110245\n",
      "(ANIKA SHARMA-as547-2010110089)-1, \n",
      "\n",
      "AYUSH GOEL-ag247-2010110742\n",
      "(SIDDHARTH GUPTA-sg302-2010110622)-20, (EKANSH PANWAR-ep710-2010110238)-28, (SHIKHAR AJMERA-sa292-2010110902)-28, (MADHU S V-ms279-2010110374)-1, (LAKSHMAN AAKASH-la118-2010110364)-1, (ARUSHI AGARWAL-aa255-2010110140)-1, \n",
      "\n",
      "SRI HARSHA KANDURI VENKATA SESHA-sk132-2010110649\n",
      "(ANANYA SINGHAL-as146-2010110087)-1, (PRATEEK SHARMA-ps929-1910110285)-1, (ADHYAN SURI-as649-1910110026)-1, (MAHAK BAFNA-mb631-2010110377)-1, \n",
      "\n",
      "PRANAV INTURI-pi467-2010110472\n",
      "(KOLLURUJESHWANTH KOLLURU-kk345-2010110351)-25, \n",
      "\n",
      "PRATEEK SHAKYA-ps738-2010110478\n",
      "(DHRUV GUPTA-dg635-2010110819)-1, (SHASHWAT TIWARI-st289-2010111038)-1, (HARSH SRIVASTAVA-hs283-2010110277)-1, (VERNIKA SAMADHIYA-vs883-1910110440)-1, \n",
      "\n",
      "SHIKHAR AJMERA-sa292-2010110902\n",
      "(SIDDHARTH GUPTA-sg302-2010110622)-20, (EKANSH PANWAR-ep710-2010110238)-28, (AYUSH GOEL-ag247-2010110742)-28, (MADHU S V-ms279-2010110374)-1, (LAKSHMAN AAKASH-la118-2010110364)-1, (ARUSHI AGARWAL-aa255-2010110140)-1, \n",
      "\n",
      "PRERIT GUPTA-pg682-2010110483\n",
      "(VIBHA S-vs269-2010110943)-5, (ARIHANT JAIN-aj534-1910110085)-1, \n",
      "\n",
      "MUDIT ADITYAJA-ma646-2010110406\n",
      "(ANJANI NUKALA-an834-2010110966)-1, \n",
      "\n",
      "KARAN SAMYAL-ks691-2010110331\n",
      "(AARYAN KEDIA-ak970-2010110012)-1, (PRANATI SHARMA-ps470-2010110471)-1, \n",
      "\n",
      "PRITHVIRAJ S.-ps617-2010110488\n",
      "(KUMAR MAKKAPATI-km607-2010110357)-1, \n",
      "\n",
      "ANANYA MALHOTRA-am238-2010110790\n",
      "(PRATEEK JAIN-pj579-2010110477)-1, \n",
      "\n",
      "RIYA RALHAN-rr556-2010110524\n",
      "(VERNIKA SAMADHIYA-vs883-1910110440)-1, \n",
      "\n",
      "PRANATI SHARMA-ps470-2010110471\n",
      "(ADITYA Y-ay795-2010110047)-1, (PREKSHA MAHESHWARI-pm470-2010111106)-1, (JALAGAM SANKETH-js968-2010110310)-1, (KARAN SAMYAL-ks691-2010110331)-1, \n",
      "\n",
      "PRAVAL MADDALA-mp936-2010111030\n",
      "(PRANSHU AGARWAL-pa283-2010110475)-1, (SOUMYA SINGH-ss865-2010110643)-4, (RAGHAV CHATURVEDY-rc166-2010110759)-4, (ANOUSHKA MISHRA-am649-2010110106)-4, \n",
      "\n",
      "ABHIJITH K-ak707-2010110020\n",
      "(NULU SATHWIK-ns322-2010110443)-1, (Devashish Rastosgi-dr895-2010111200)-1, \n",
      "\n",
      "CHARUHAS BALAM-cb283-2010110204\n",
      "(AMAAN .-am795-2010110072)-5, (ANIKA SHARMA-as547-2010110089)-1, \n",
      "\n",
      "BHAVIK JAIN-bj810-2010110811\n",
      "(VARUN DIXIT-vd462-2010110706)-26, (S SHARAN-ss838-2010110543)-1, \n",
      "\n",
      "GEETHAM SURAPANENI-gs272-2010110259\n",
      "(CHANCHALA PANDA-cp352-2010110200)-1, \n",
      "\n"
     ]
    }
   ],
   "source": [
    "count_per_copy = {}\n",
    "\n",
    "for key, value in plag.items():\n",
    "    counts = Counter(value)\n",
    "    count_per_copy[key] = dict(counts)\n",
    "    print(student_details[key][1]+\" \"+student_details[key][0]+\"-\"+student_details[key][2]+\"-\"+student_details[key][3])\n",
    "    for key,value in count_per_copy[key].items():\n",
    "        print(\"(\"+student_details[key][1]+\" \"+student_details[key][0]+\"-\"+student_details[key][2]+\"-\"+student_details[key][3]+\")\"+\"-\"+str(value)+ \", \",end=\"\")\n",
    "    print()\n",
    "    print()\n"
   ],
   "metadata": {
    "collapsed": false,
    "pycharm": {
     "name": "#%%\n"
    }
   }
  },
  {
   "cell_type": "markdown",
   "source": [
    "after processing\n",
    "\n",
    "\n",
    "\n",
    "\n",
    "done\n"
   ],
   "metadata": {
    "collapsed": false
   }
  },
  {
   "cell_type": "code",
   "execution_count": null,
   "outputs": [],
   "source": [
    "# manual processing then change file name here"
   ],
   "metadata": {
    "collapsed": false,
    "pycharm": {
     "name": "#%%\n"
    }
   }
  },
  {
   "cell_type": "code",
   "execution_count": 38,
   "outputs": [],
   "source": [
    "with open('lab2_plag.txt') as f:\n",
    "    lines = f.readlines()\n",
    "\n",
    "lines = \"\".join(lines)"
   ],
   "metadata": {
    "collapsed": false,
    "pycharm": {
     "name": "#%%\n"
    }
   }
  },
  {
   "cell_type": "code",
   "execution_count": 39,
   "outputs": [
    {
     "name": "stdout",
     "output_type": "stream",
     "text": [
      "\n",
      "SNEHASRI RAVISHANKAR-sr576-2010110638\n",
      "(APPALA AVINASH-aa760-2010110121)-11, (GOGINENI VENKATA AKASH-gv653-2010110262)-11, (KATAKAM REDDY-kr268-2010110340)-11, (NULU SATHWIK-ns322-2010110443)-11, (REDDI SHARAT-rs723-2010110506)-11, (POSAM YESWANTH REDDY-py448-2010110466)-11, (PRANAV INTURI-pi467-2010110472)-10, (SREE KOMARNENI-sk630-2010110646)-7,\n",
      "\n",
      "ANIKA SHARMA-as547-2010110089\n",
      "(VARUN DIXIT-vd462-2010110706)-21, (BHAVIK JAIN-bj810-2010110811)-21,\n",
      "\n",
      "DHRUV GUPTA-dg635-2010110819\n",
      "(ANSH CHAWLA-ac686-2010110108)-17, (YASH TAMBI-yt734-2010110725)-17, (SIDDHARTH GUPTA-sg302-2010110622)-17, (LOKAVYA GABRANI-lg491-2010110752)-17, (AYUSH GOEL-ag247-2010110742)-17, (SHIKHAR AJMERA-sa292-2010110902)-17\n",
      "\n",
      "SHASHWAT TIWARI-st289-2010111038\n",
      "(AYAAN KHAN-ak325-2010110175)-23\n",
      "\n",
      "SREE KOMARNENI-sk630-2010110646\n",
      "(SNEHASRI RAVISHANKAR-sr576-2010110638)-7, (APPALA AVINASH-aa760-2010110121)-8, (GOGINENI VENKATA AKASH-gv653-2010110262)-8, (KATAKAM REDDY-kr268-2010110340)-8, (NULU SATHWIK-ns322-2010110443)-8, (REDDI SHARAT-rs723-2010110506)-8, (POSAM YESWANTH REDDY-py448-2010110466)-8, (PRANAV INTURI-pi467-2010110472)-6\n",
      "\n",
      "SOUMYA SINGH-ss865-2010110643\n",
      "(KANISHK TAXALI-kt945-2010110835)-18, (ABHAY AGGARWAL-aa703-2010110016)-20, (ARUSHI AGARWAL-aa255-2010110140)-17, (PALAK JAIN-pj542-2010110453)-17, (SHWETA GUPTA-sg927-2010110618)-17, (CHINMAYI VERMA-cv948-2010111244)-18,\n",
      "\n",
      "AADI SHARMA-as512-2010110002\n",
      "(CHIVUKULA SIDDHARTHA-cs100-2010111021)-14,\n",
      "\n",
      "APPALA AVINASH-aa760-2010110121\n",
      "(KATAKAM REDDY-kr268-2010110340)-24, (NULU SATHWIK-ns322-2010110443)-17, (POSAM YESWANTH REDDY-py448-2010110466)-24, (PRANAV INTURI-pi467-2010110472)-21, (SNEHASRI RAVISHANKAR-sr576-2010110638)-11, (GOGINENI VENKATA AKASH-gv653-2010110262)-12, (REDDI SHARAT-rs723-2010110506)-12, (SREE KOMARNENI-sk630-2010110646)-8,\n",
      "\n",
      "KUMAR MAKKAPATI-km607-2010110357\n",
      "(SIVA KOKKIRAPATI-sk552-2010110769)-18, (PRERNA CHAKRABORTY-pc627-2010110485)-17, (KOLLURUJESHWANTH KOLLURU-kk345-2010110351)-18, (KARAN SAMYAL-ks691-2010110331)-18, (SEERAM NARASIMHA-sn701-2010110574)-15,\n",
      "\n",
      "KANISHK TAXALI-kt945-2010110835\n",
      "(SOUMYA SINGH-ss865-2010110643)-18, (ABHAY AGGARWAL-aa703-2010110016)-18, (ARUSHI AGARWAL-aa255-2010110140)-19, (PALAK JAIN-pj542-2010110453)-19, (SHWETA GUPTA-sg927-2010110618)-19, (CHINMAYI VERMA-cv948-2010111244)-26,\n",
      "\n",
      "GOGINENI VENKATA AKASH-gv653-2010110262\n",
      "(SNEHASRI RAVISHANKAR-sr576-2010110638)-11, (APPALA AVINASH-aa760-2010110121)-12, (KATAKAM REDDY-kr268-2010110340)-12, (NULU SATHWIK-ns322-2010110443)-12, (REDDI SHARAT-rs723-2010110506)-12, (POSAM YESWANTH REDDY-py448-2010110466)-12, (PRANAV INTURI-pi467-2010110472)-10, (SREE KOMARNENI-sk630-2010110646)-8,\n",
      "\n",
      "ADITYA RAJ YADAV-ay958-2010110048\n",
      "(ADITYA Y-ay795-2010110047)-22, (GAUTHAM SREERAMOZU-gs462-2010110256)-22, (PRAVAL MADDALA-mp936-2010111030)-22, (GEETHAM SURAPANENI-gs272-2010110259)-22,\n",
      "\n",
      "ADITYA Y-ay795-2010110047\n",
      "(ADITYA RAJ YADAV-ay958-2010110048)-22, (GAUTHAM SREERAMOZU-gs462-2010110256)-22, (PRAVAL MADDALA-mp936-2010111030)-22, (GEETHAM SURAPANENI-gs272-2010110259)-22,\n",
      "\n",
      "ABHAY AGGARWAL-aa703-2010110016\n",
      "(SOUMYA SINGH-ss865-2010110643)-20, (KANISHK TAXALI-kt945-2010110835)-18, (ARUSHI AGARWAL-aa255-2010110140)-17, (PALAK JAIN-pj542-2010110453)-17, (SHWETA GUPTA-sg927-2010110618)-17, (CHINMAYI VERMA-cv948-2010111244)-18,\n",
      "\n",
      "PREKSHA MAHESHWARI-pm470-2010111106\n",
      "(DEVANSSH AGARWAL-da334-2010110220)-21, (ANOUSHKA MISHRA-am649-2010110106)-21, (SEERAM NARASIMHA-sn701-2010110574)-21,\n",
      "\n",
      "KATAKAM REDDY-kr268-2010110340\n",
      "(APPALA AVINASH-aa760-2010110121)-24, (NULU SATHWIK-ns322-2010110443)-17, (POSAM YESWANTH REDDY-py448-2010110466)-24, (PRANAV INTURI-pi467-2010110472)-21, (SNEHASRI RAVISHANKAR-sr576-2010110638)-11, (GOGINENI VENKATA AKASH-gv653-2010110262)-12, (REDDI SHARAT-rs723-2010110506)-12, (SREE KOMARNENI-sk630-2010110646)-8,\n",
      "\n",
      "RAGHAV CHATURVEDY-rc166-2010110759\n",
      "(PRATEEK SHAKYA-ps738-2010110478)-18,\n",
      "\n",
      "CHINTHA BHANUTEJA-cb567-2010110206\n",
      "(DUREDDY REDDY-dr134-2010110235)-24\n",
      "\n",
      "SIVA KOKKIRAPATI-sk552-2010110769\n",
      "(KUMAR MAKKAPATI-km607-2010110357)-18, (PRERNA CHAKRABORTY-pc627-2010110485)-16, (KOLLURUJESHWANTH KOLLURU-kk345-2010110351)-17, (KARAN SAMYAL-ks691-2010110331)-17, (SEERAM NARASIMHA-sn701-2010110574)-15,\n",
      "\n",
      "ANSH CHAWLA-ac686-2010110108\n",
      "(DHRUV GUPTA-dg635-2010110819)-17, (YASH TAMBI-yt734-2010110725)-24, (SIDDHARTH GUPTA-sg302-2010110622)-24, (LOKAVYA GABRANI-lg491-2010110752)-24, (AYUSH GOEL-ag247-2010110742)-24, (SHIKHAR AJMERA-sa292-2010110902)-24\n",
      "\n",
      "PRERNA CHAKRABORTY-pc627-2010110485\n",
      "(KUMAR MAKKAPATI-km607-2010110357)-17, (SIVA KOKKIRAPATI-sk552-2010110769)-16, (KOLLURUJESHWANTH KOLLURU-kk345-2010110351)-18, (KARAN SAMYAL-ks691-2010110331)-18, (SEERAM NARASIMHA-sn701-2010110574)-13,\n",
      "\n",
      "MAHAK BAFNA-mb631-2010110377\n",
      "(MOKSHA CHAWLA-mc744-2010110402)-20,\n",
      "\n",
      "MOKSHA CHAWLA-mc744-2010110402\n",
      "(MAHAK BAFNA-mb631-2010110377)-20,\n",
      "\n",
      "CHIVUKULA SIDDHARTHA-cs100-2010111021\n",
      "(AADI SHARMA-as512-2010110002)-14,\n",
      "\n",
      "YASH TAMBI-yt734-2010110725\n",
      "(DHRUV GUPTA-dg635-2010110819)-17, (ANSH CHAWLA-ac686-2010110108)-24, (SIDDHARTH GUPTA-sg302-2010110622)-24, (LOKAVYA GABRANI-lg491-2010110752)-24, (AYUSH GOEL-ag247-2010110742)-24, (SHIKHAR AJMERA-sa292-2010110902)-24\n",
      "\n",
      "ARUSHI AGARWAL-aa255-2010110140\n",
      "(SOUMYA SINGH-ss865-2010110643)-17, (KANISHK TAXALI-kt945-2010110835)-19, (ABHAY AGGARWAL-aa703-2010110016)-17, (PALAK JAIN-pj542-2010110453)-22, (SHWETA GUPTA-sg927-2010110618)-22, (CHINMAYI VERMA-cv948-2010111244)-19,\n",
      "\n",
      "NULU SATHWIK-ns322-2010110443\n",
      "(APPALA AVINASH-aa760-2010110121)-17, (KATAKAM REDDY-kr268-2010110340)-17, (POSAM YESWANTH REDDY-py448-2010110466)-17, (PRANAV INTURI-pi467-2010110472)-14, (SNEHASRI RAVISHANKAR-sr576-2010110638)-11, (GOGINENI VENKATA AKASH-gv653-2010110262)-12, (REDDI SHARAT-rs723-2010110506)-12, (SREE KOMARNENI-sk630-2010110646)-8,\n",
      "\n",
      "ANOUSHKA MISHRA-am649-2010110106\n",
      "(DEVANSSH AGARWAL-da334-2010110220)-15, (PREKSHA MAHESHWARI-pm470-2010111106)-15, (SEERAM NARASIMHA-sn701-2010110574)-15,\n",
      "\n",
      "PALAK JAIN-pj542-2010110453\n",
      "(SOUMYA SINGH-ss865-2010110643)-17, (KANISHK TAXALI-kt945-2010110835)-19, (ABHAY AGGARWAL-aa703-2010110016)-17, (ARUSHI AGARWAL-aa255-2010110140)-22, (SHWETA GUPTA-sg927-2010110618)-22, (CHINMAYI VERMA-cv948-2010111244)-19,\n",
      "\n",
      "AYAAN KHAN-ak325-2010110175\n",
      "(SHASHWAT TIWARI-st289-2010111038)-23\n",
      "\n",
      "GAUTHAM SREERAMOZU-gs462-2010110256\n",
      "(ADITYA RAJ YADAV-ay958-2010110048)-22, (ADITYA Y-ay795-2010110047)-22, (PRAVAL MADDALA-mp936-2010111030)-22, (GEETHAM SURAPANENI-gs272-2010110259)-22,\n",
      "\n",
      "REDDI SHARAT-rs723-2010110506\n",
      "(SNEHASRI RAVISHANKAR-sr576-2010110638)-11, (APPALA AVINASH-aa760-2010110121)-12, (GOGINENI VENKATA AKASH-gv653-2010110262)-12, (KATAKAM REDDY-kr268-2010110340)-12, (NULU SATHWIK-ns322-2010110443)-12, (POSAM YESWANTH REDDY-py448-2010110466)-12, (PRANAV INTURI-pi467-2010110472)-10, (SREE KOMARNENI-sk630-2010110646)-8,\n",
      "\n",
      "VIBHA S-vs269-2010110943\n",
      "(PRERIT GUPTA-pg682-2010110483)-21,\n",
      "\n",
      "POSAM YESWANTH REDDY-py448-2010110466\n",
      "(APPALA AVINASH-aa760-2010110121)-24, (KATAKAM REDDY-kr268-2010110340)-24, (NULU SATHWIK-ns322-2010110443)-17, (PRANAV INTURI-pi467-2010110472)-21, (SNEHASRI RAVISHANKAR-sr576-2010110638)-11, (GOGINENI VENKATA AKASH-gv653-2010110262)-12, (REDDI SHARAT-rs723-2010110506)-12, (SREE KOMARNENI-sk630-2010110646)-8,\n",
      "\n",
      "SHWETA GUPTA-sg927-2010110618\n",
      "(SOUMYA SINGH-ss865-2010110643)-17, (KANISHK TAXALI-kt945-2010110835)-19, (ABHAY AGGARWAL-aa703-2010110016)-17, (ARUSHI AGARWAL-aa255-2010110140)-22, (PALAK JAIN-pj542-2010110453)-22, (CHINMAYI VERMA-cv948-2010111244)-19,\n",
      "\n",
      "CHINMAYI VERMA-cv948-2010111244\n",
      "(SOUMYA SINGH-ss865-2010110643)-18, (KANISHK TAXALI-kt945-2010110835)-26, (ABHAY AGGARWAL-aa703-2010110016)-18, (ARUSHI AGARWAL-aa255-2010110140)-19, (PALAK JAIN-pj542-2010110453)-19, (SHWETA GUPTA-sg927-2010110618)-19,\n",
      "\n",
      "SIDDHARTH GUPTA-sg302-2010110622\n",
      "(DHRUV GUPTA-dg635-2010110819)-17, (ANSH CHAWLA-ac686-2010110108)-24, (YASH TAMBI-yt734-2010110725)-24, (LOKAVYA GABRANI-lg491-2010110752)-24, (AYUSH GOEL-ag247-2010110742)-24, (SHIKHAR AJMERA-sa292-2010110902)-24\n",
      "\n",
      "LOKAVYA GABRANI-lg491-2010110752\n",
      "(DHRUV GUPTA-dg635-2010110819)-17, (ANSH CHAWLA-ac686-2010110108)-24, (YASH TAMBI-yt734-2010110725)-24, (SIDDHARTH GUPTA-sg302-2010110622)-24, (AYUSH GOEL-ag247-2010110742)-24, (SHIKHAR AJMERA-sa292-2010110902)-24\n",
      "\n",
      "KOLLURUJESHWANTH KOLLURU-kk345-2010110351\n",
      "(KUMAR MAKKAPATI-km607-2010110357)-18, (SIVA KOKKIRAPATI-sk552-2010110769)-17, (PRERNA CHAKRABORTY-pc627-2010110485)-18, (KARAN SAMYAL-ks691-2010110331)-19, (SEERAM NARASIMHA-sn701-2010110574)-14,\n",
      "\n",
      "VARUN DIXIT-vd462-2010110706\n",
      "(ANIKA SHARMA-as547-2010110089)-21, (BHAVIK JAIN-bj810-2010110811)-21,\n",
      "\n",
      "AYUSH GOEL-ag247-2010110742\n",
      "(DHRUV GUPTA-dg635-2010110819)-17, (ANSH CHAWLA-ac686-2010110108)-24, (YASH TAMBI-yt734-2010110725)-24, (SIDDHARTH GUPTA-sg302-2010110622)-24, (LOKAVYA GABRANI-lg491-2010110752)-24, (SHIKHAR AJMERA-sa292-2010110902)-24\n",
      "\n",
      "PRANAV INTURI-pi467-2010110472\n",
      "(SNEHASRI RAVISHANKAR-sr576-2010110638)-10, (SREE KOMARNENI-sk630-2010110646)-6, (APPALA AVINASH-aa760-2010110121)-21, (GOGINENI VENKATA AKASH-gv653-2010110262)-10, (KATAKAM REDDY-kr268-2010110340)-21, (NULU SATHWIK-ns322-2010110443)-14, (REDDI SHARAT-rs723-2010110506)-10, (POSAM YESWANTH REDDY-py448-2010110466)-21,\n",
      "\n",
      "PRATEEK SHAKYA-ps738-2010110478\n",
      "(RAGHAV CHATURVEDY-rc166-2010110759)-18,\n",
      "\n",
      "SHIKHAR AJMERA-sa292-2010110902\n",
      "(DHRUV GUPTA-dg635-2010110819)-17, (ANSH CHAWLA-ac686-2010110108)-24, (YASH TAMBI-yt734-2010110725)-24, (SIDDHARTH GUPTA-sg302-2010110622)-24, (LOKAVYA GABRANI-lg491-2010110752)-24, (AYUSH GOEL-ag247-2010110742)-24,\n",
      "\n",
      "PRERIT GUPTA-pg682-2010110483\n",
      "(VIBHA S-vs269-2010110943)-21,\n",
      "\n",
      "KARAN SAMYAL-ks691-2010110331\n",
      "(KUMAR MAKKAPATI-km607-2010110357)-18, (SIVA KOKKIRAPATI-sk552-2010110769)-17, (PRERNA CHAKRABORTY-pc627-2010110485)-18, (KOLLURUJESHWANTH KOLLURU-kk345-2010110351)-19, (SEERAM NARASIMHA-sn701-2010110574)-14,\n",
      "\n",
      "PRAVAL MADDALA-mp936-2010111030\n",
      "(ADITYA RAJ YADAV-ay958-2010110048)-22, (ADITYA Y-ay795-2010110047)-22, (GAUTHAM SREERAMOZU-gs462-2010110256)-22, (GEETHAM SURAPANENI-gs272-2010110259)-22,\n",
      "\n",
      "DUREDDY REDDY-dr134-2010110235\n",
      "(CHINTHA BHANUTEJA-cb567-2010110206)-24\n",
      "\n",
      "SEERAM NARASIMHA-sn701-2010110574\n",
      "(KUMAR MAKKAPATI-km607-2010110357)-15, (SIVA KOKKIRAPATI-sk552-2010110769)-15, (PRERNA CHAKRABORTY-pc627-2010110485)-13, (KOLLURUJESHWANTH KOLLURU-kk345-2010110351)-14, (KARAN SAMYAL-ks691-2010110331)-14\n",
      "\n",
      "BHAVIK JAIN-bj810-2010110811\n",
      "(ANIKA SHARMA-as547-2010110089)-21, (VARUN DIXIT-vd462-2010110706)-21,\n",
      "\n",
      "GEETHAM SURAPANENI-gs272-2010110259\n",
      "(ADITYA RAJ YADAV-ay958-2010110048)-22, (ADITYA Y-ay795-2010110047)-22, (GAUTHAM SREERAMOZU-gs462-2010110256)-22, (PRAVAL MADDALA-mp936-2010111030)-22,\n",
      "\n"
     ]
    }
   ],
   "source": [
    "print(lines)"
   ],
   "metadata": {
    "collapsed": false,
    "pycharm": {
     "name": "#%%\n"
    }
   }
  },
  {
   "cell_type": "code",
   "execution_count": 40,
   "outputs": [
    {
     "name": "stdout",
     "output_type": "stream",
     "text": [
      "['-sr576-', '-aa760-', '-gv653-', '-kr268-', '-ns322-', '-rs723-', '-py448-', '-pi467-', '-sk630-', '-as547-', '-vd462-', '-bj810-', '-dg635-', '-ac686-', '-yt734-', '-sg302-', '-lg491-', '-ag247-', '-sa292-', '-st289-', '-ak325-', '-sk630-', '-sr576-', '-aa760-', '-gv653-', '-kr268-', '-ns322-', '-rs723-', '-py448-', '-pi467-', '-ss865-', '-kt945-', '-aa703-', '-aa255-', '-pj542-', '-sg927-', '-cv948-', '-as512-', '-cs100-', '-aa760-', '-kr268-', '-ns322-', '-py448-', '-pi467-', '-sr576-', '-gv653-', '-rs723-', '-sk630-', '-km607-', '-sk552-', '-pc627-', '-kk345-', '-ks691-', '-sn701-', '-kt945-', '-ss865-', '-aa703-', '-aa255-', '-pj542-', '-sg927-', '-cv948-', '-gv653-', '-sr576-', '-aa760-', '-kr268-', '-ns322-', '-rs723-', '-py448-', '-pi467-', '-sk630-', '-ay958-', '-ay795-', '-gs462-', '-mp936-', '-gs272-', '-ay795-', '-ay958-', '-gs462-', '-mp936-', '-gs272-', '-aa703-', '-ss865-', '-kt945-', '-aa255-', '-pj542-', '-sg927-', '-cv948-', '-pm470-', '-da334-', '-am649-', '-sn701-', '-kr268-', '-aa760-', '-ns322-', '-py448-', '-pi467-', '-sr576-', '-gv653-', '-rs723-', '-sk630-', '-rc166-', '-ps738-', '-cb567-', '-dr134-', '-sk552-', '-km607-', '-pc627-', '-kk345-', '-ks691-', '-sn701-', '-ac686-', '-dg635-', '-yt734-', '-sg302-', '-lg491-', '-ag247-', '-sa292-', '-pc627-', '-km607-', '-sk552-', '-kk345-', '-ks691-', '-sn701-', '-mb631-', '-mc744-', '-mc744-', '-mb631-', '-cs100-', '-as512-', '-yt734-', '-dg635-', '-ac686-', '-sg302-', '-lg491-', '-ag247-', '-sa292-', '-aa255-', '-ss865-', '-kt945-', '-aa703-', '-pj542-', '-sg927-', '-cv948-', '-ns322-', '-aa760-', '-kr268-', '-py448-', '-pi467-', '-sr576-', '-gv653-', '-rs723-', '-sk630-', '-am649-', '-da334-', '-pm470-', '-sn701-', '-pj542-', '-ss865-', '-kt945-', '-aa703-', '-aa255-', '-sg927-', '-cv948-', '-ak325-', '-st289-', '-gs462-', '-ay958-', '-ay795-', '-mp936-', '-gs272-', '-rs723-', '-sr576-', '-aa760-', '-gv653-', '-kr268-', '-ns322-', '-py448-', '-pi467-', '-sk630-', '-vs269-', '-pg682-', '-py448-', '-aa760-', '-kr268-', '-ns322-', '-pi467-', '-sr576-', '-gv653-', '-rs723-', '-sk630-', '-sg927-', '-ss865-', '-kt945-', '-aa703-', '-aa255-', '-pj542-', '-cv948-', '-cv948-', '-ss865-', '-kt945-', '-aa703-', '-aa255-', '-pj542-', '-sg927-', '-sg302-', '-dg635-', '-ac686-', '-yt734-', '-lg491-', '-ag247-', '-sa292-', '-lg491-', '-dg635-', '-ac686-', '-yt734-', '-sg302-', '-ag247-', '-sa292-', '-kk345-', '-km607-', '-sk552-', '-pc627-', '-ks691-', '-sn701-', '-vd462-', '-as547-', '-bj810-', '-ag247-', '-dg635-', '-ac686-', '-yt734-', '-sg302-', '-lg491-', '-sa292-', '-pi467-', '-sr576-', '-sk630-', '-aa760-', '-gv653-', '-kr268-', '-ns322-', '-rs723-', '-py448-', '-ps738-', '-rc166-', '-sa292-', '-dg635-', '-ac686-', '-yt734-', '-sg302-', '-lg491-', '-ag247-', '-pg682-', '-vs269-', '-ks691-', '-km607-', '-sk552-', '-pc627-', '-kk345-', '-sn701-', '-mp936-', '-ay958-', '-ay795-', '-gs462-', '-gs272-', '-dr134-', '-cb567-', '-sn701-', '-km607-', '-sk552-', '-pc627-', '-kk345-', '-ks691-', '-bj810-', '-as547-', '-vd462-', '-gs272-', '-ay958-', '-ay795-', '-gs462-', '-mp936-']\n"
     ]
    }
   ],
   "source": [
    "import re\n",
    "regex = '-[a-z]{2}[0-9]{3}-'\n",
    "\n",
    "match = re.findall(regex, lines)\n",
    "print(match)"
   ],
   "metadata": {
    "collapsed": false,
    "pycharm": {
     "name": "#%%\n"
    }
   }
  },
  {
   "cell_type": "code",
   "execution_count": 41,
   "outputs": [],
   "source": [
    "match = [i[1:6] for i in match]"
   ],
   "metadata": {
    "collapsed": false,
    "pycharm": {
     "name": "#%%\n"
    }
   }
  },
  {
   "cell_type": "code",
   "execution_count": 42,
   "outputs": [
    {
     "name": "stdout",
     "output_type": "stream",
     "text": [
      "['sr576', 'aa760', 'gv653', 'kr268', 'ns322', 'rs723', 'py448', 'pi467', 'sk630', 'as547', 'vd462', 'bj810', 'dg635', 'ac686', 'yt734', 'sg302', 'lg491', 'ag247', 'sa292', 'st289', 'ak325', 'sk630', 'sr576', 'aa760', 'gv653', 'kr268', 'ns322', 'rs723', 'py448', 'pi467', 'ss865', 'kt945', 'aa703', 'aa255', 'pj542', 'sg927', 'cv948', 'as512', 'cs100', 'aa760', 'kr268', 'ns322', 'py448', 'pi467', 'sr576', 'gv653', 'rs723', 'sk630', 'km607', 'sk552', 'pc627', 'kk345', 'ks691', 'sn701', 'kt945', 'ss865', 'aa703', 'aa255', 'pj542', 'sg927', 'cv948', 'gv653', 'sr576', 'aa760', 'kr268', 'ns322', 'rs723', 'py448', 'pi467', 'sk630', 'ay958', 'ay795', 'gs462', 'mp936', 'gs272', 'ay795', 'ay958', 'gs462', 'mp936', 'gs272', 'aa703', 'ss865', 'kt945', 'aa255', 'pj542', 'sg927', 'cv948', 'pm470', 'da334', 'am649', 'sn701', 'kr268', 'aa760', 'ns322', 'py448', 'pi467', 'sr576', 'gv653', 'rs723', 'sk630', 'rc166', 'ps738', 'cb567', 'dr134', 'sk552', 'km607', 'pc627', 'kk345', 'ks691', 'sn701', 'ac686', 'dg635', 'yt734', 'sg302', 'lg491', 'ag247', 'sa292', 'pc627', 'km607', 'sk552', 'kk345', 'ks691', 'sn701', 'mb631', 'mc744', 'mc744', 'mb631', 'cs100', 'as512', 'yt734', 'dg635', 'ac686', 'sg302', 'lg491', 'ag247', 'sa292', 'aa255', 'ss865', 'kt945', 'aa703', 'pj542', 'sg927', 'cv948', 'ns322', 'aa760', 'kr268', 'py448', 'pi467', 'sr576', 'gv653', 'rs723', 'sk630', 'am649', 'da334', 'pm470', 'sn701', 'pj542', 'ss865', 'kt945', 'aa703', 'aa255', 'sg927', 'cv948', 'ak325', 'st289', 'gs462', 'ay958', 'ay795', 'mp936', 'gs272', 'rs723', 'sr576', 'aa760', 'gv653', 'kr268', 'ns322', 'py448', 'pi467', 'sk630', 'vs269', 'pg682', 'py448', 'aa760', 'kr268', 'ns322', 'pi467', 'sr576', 'gv653', 'rs723', 'sk630', 'sg927', 'ss865', 'kt945', 'aa703', 'aa255', 'pj542', 'cv948', 'cv948', 'ss865', 'kt945', 'aa703', 'aa255', 'pj542', 'sg927', 'sg302', 'dg635', 'ac686', 'yt734', 'lg491', 'ag247', 'sa292', 'lg491', 'dg635', 'ac686', 'yt734', 'sg302', 'ag247', 'sa292', 'kk345', 'km607', 'sk552', 'pc627', 'ks691', 'sn701', 'vd462', 'as547', 'bj810', 'ag247', 'dg635', 'ac686', 'yt734', 'sg302', 'lg491', 'sa292', 'pi467', 'sr576', 'sk630', 'aa760', 'gv653', 'kr268', 'ns322', 'rs723', 'py448', 'ps738', 'rc166', 'sa292', 'dg635', 'ac686', 'yt734', 'sg302', 'lg491', 'ag247', 'pg682', 'vs269', 'ks691', 'km607', 'sk552', 'pc627', 'kk345', 'sn701', 'mp936', 'ay958', 'ay795', 'gs462', 'gs272', 'dr134', 'cb567', 'sn701', 'km607', 'sk552', 'pc627', 'kk345', 'ks691', 'bj810', 'as547', 'vd462', 'gs272', 'ay958', 'ay795', 'gs462', 'mp936']\n"
     ]
    }
   ],
   "source": [
    "print(match)"
   ],
   "metadata": {
    "collapsed": false,
    "pycharm": {
     "name": "#%%\n"
    }
   }
  },
  {
   "cell_type": "code",
   "execution_count": 43,
   "outputs": [],
   "source": [
    "from collections import Counter\n",
    "guilty = dict(Counter(match))"
   ],
   "metadata": {
    "collapsed": false,
    "pycharm": {
     "name": "#%%\n"
    }
   }
  },
  {
   "cell_type": "code",
   "execution_count": 44,
   "outputs": [
    {
     "name": "stdout",
     "output_type": "stream",
     "text": [
      "{'sr576': 9, 'aa760': 9, 'gv653': 9, 'kr268': 9, 'ns322': 9, 'rs723': 9, 'py448': 9, 'pi467': 9, 'sk630': 9, 'as547': 3, 'vd462': 3, 'bj810': 3, 'dg635': 7, 'ac686': 7, 'yt734': 7, 'sg302': 7, 'lg491': 7, 'ag247': 7, 'sa292': 7, 'st289': 2, 'ak325': 2, 'ss865': 7, 'kt945': 7, 'aa703': 7, 'aa255': 7, 'pj542': 7, 'sg927': 7, 'cv948': 7, 'as512': 2, 'cs100': 2, 'km607': 6, 'sk552': 6, 'pc627': 6, 'kk345': 6, 'ks691': 6, 'sn701': 8, 'ay958': 5, 'ay795': 5, 'gs462': 5, 'mp936': 5, 'gs272': 5, 'pm470': 2, 'da334': 2, 'am649': 2, 'rc166': 2, 'ps738': 2, 'cb567': 2, 'dr134': 2, 'mb631': 2, 'mc744': 2, 'vs269': 2, 'pg682': 2}\n"
     ]
    }
   ],
   "source": [
    "print(guilty)"
   ],
   "metadata": {
    "collapsed": false,
    "pycharm": {
     "name": "#%%\n"
    }
   }
  },
  {
   "cell_type": "code",
   "execution_count": 45,
   "outputs": [
    {
     "name": "stdout",
     "output_type": "stream",
     "text": [
      "['RAVISHANKAR', 'SNEHASRI', 'sr576', '2010110638']\n",
      "\n",
      "['AVINASH', 'APPALA', 'aa760', '2010110121']\n",
      "\n",
      "['VENKATA AKASH', 'GOGINENI', 'gv653', '2010110262']\n",
      "\n",
      "['REDDY', 'KATAKAM', 'kr268', '2010110340']\n",
      "\n",
      "['SATHWIK', 'NULU', 'ns322', '2010110443']\n",
      "\n",
      "['SHARAT', 'REDDI', 'rs723', '2010110506']\n",
      "\n",
      "['YESWANTH REDDY', 'POSAM', 'py448', '2010110466']\n",
      "\n",
      "['INTURI', 'PRANAV', 'pi467', '2010110472']\n",
      "\n",
      "['KOMARNENI', 'SREE', 'sk630', '2010110646']\n",
      "\n",
      "['SHARMA', 'ANIKA', 'as547', '2010110089']\n",
      "\n",
      "['DIXIT', 'VARUN', 'vd462', '2010110706']\n",
      "\n",
      "['JAIN', 'BHAVIK', 'bj810', '2010110811']\n",
      "\n",
      "['GUPTA', 'DHRUV', 'dg635', '2010110819']\n",
      "\n",
      "['CHAWLA', 'ANSH', 'ac686', '2010110108']\n",
      "\n",
      "['TAMBI', 'YASH', 'yt734', '2010110725']\n",
      "\n",
      "['GUPTA', 'SIDDHARTH', 'sg302', '2010110622']\n",
      "\n",
      "['GABRANI', 'LOKAVYA', 'lg491', '2010110752']\n",
      "\n",
      "['GOEL', 'AYUSH', 'ag247', '2010110742']\n",
      "\n",
      "['AJMERA', 'SHIKHAR', 'sa292', '2010110902']\n",
      "\n",
      "['TIWARI', 'SHASHWAT', 'st289', '2010111038']\n",
      "\n",
      "['KHAN', 'AYAAN', 'ak325', '2010110175']\n",
      "\n",
      "['SINGH', 'SOUMYA', 'ss865', '2010110643']\n",
      "\n",
      "['TAXALI', 'KANISHK', 'kt945', '2010110835']\n",
      "\n",
      "['AGGARWAL', 'ABHAY', 'aa703', '2010110016']\n",
      "\n",
      "['AGARWAL', 'ARUSHI', 'aa255', '2010110140']\n",
      "\n",
      "['JAIN', 'PALAK', 'pj542', '2010110453']\n",
      "\n",
      "['GUPTA', 'SHWETA', 'sg927', '2010110618']\n",
      "\n",
      "['VERMA', 'CHINMAYI', 'cv948', '2010111244']\n",
      "\n",
      "['SHARMA', 'AADI', 'as512', '2010110002']\n",
      "\n",
      "['SIDDHARTHA', 'CHIVUKULA', 'cs100', '2010111021']\n",
      "\n",
      "['MAKKAPATI', 'KUMAR', 'km607', '2010110357']\n",
      "\n",
      "['KOKKIRAPATI', 'SIVA', 'sk552', '2010110769']\n",
      "\n",
      "['CHAKRABORTY', 'PRERNA', 'pc627', '2010110485']\n",
      "\n",
      "['KOLLURU', 'KOLLURUJESHWANTH', 'kk345', '2010110351']\n",
      "\n",
      "['SAMYAL', 'KARAN', 'ks691', '2010110331']\n",
      "\n",
      "['NARASIMHA', 'SEERAM', 'sn701', '2010110574']\n",
      "\n",
      "['YADAV', 'ADITYA RAJ', 'ay958', '2010110048']\n",
      "\n",
      "['Y', 'ADITYA', 'ay795', '2010110047']\n",
      "\n",
      "['SREERAMOZU', 'GAUTHAM', 'gs462', '2010110256']\n",
      "\n",
      "['MADDALA', 'PRAVAL', 'mp936', '2010111030']\n",
      "\n",
      "['SURAPANENI', 'GEETHAM', 'gs272', '2010110259']\n",
      "\n",
      "['MAHESHWARI', 'PREKSHA', 'pm470', '2010111106']\n",
      "\n",
      "['AGARWAL', 'DEVANSSH', 'da334', '2010110220']\n",
      "\n",
      "['MISHRA', 'ANOUSHKA', 'am649', '2010110106']\n",
      "\n",
      "['CHATURVEDY', 'RAGHAV', 'rc166', '2010110759']\n",
      "\n",
      "['SHAKYA', 'PRATEEK', 'ps738', '2010110478']\n",
      "\n",
      "['BHANUTEJA', 'CHINTHA', 'cb567', '2010110206']\n",
      "\n",
      "['REDDY', 'DUREDDY', 'dr134', '2010110235']\n",
      "\n",
      "['BAFNA', 'MAHAK', 'mb631', '2010110377']\n",
      "\n",
      "['CHAWLA', 'MOKSHA', 'mc744', '2010110402']\n",
      "\n",
      "['S', 'VIBHA', 'vs269', '2010110943']\n",
      "\n",
      "['GUPTA', 'PRERIT', 'pg682', '2010110483']\n",
      "\n"
     ]
    }
   ],
   "source": [
    "for key in guilty.keys():\n",
    "    print(student_details[key])\n",
    "    print()"
   ],
   "metadata": {
    "collapsed": false,
    "pycharm": {
     "name": "#%%\n"
    }
   }
  },
  {
   "cell_type": "markdown",
   "source": [
    "## Update attendance in sheet"
   ],
   "metadata": {
    "collapsed": false
   }
  },
  {
   "cell_type": "code",
   "execution_count": 36,
   "outputs": [
    {
     "name": "stdout",
     "output_type": "stream",
     "text": [
      "['\\ufeffLast Name', 'First Name', 'Username', 'Student ID']\n",
      "['.', 'AMAAN', 'am795', '2010110072']\n",
      "['.', 'AYAAN', 'ay636', '2010110174']\n",
      "['A', 'ANIRUDHAN', 'aa324', '2010110096']\n",
      "['AAKASH', 'LAKSHMAN', 'la118', '2010110364']\n",
      "['ADITYAJA', 'MUDIT', 'ma646', '2010110406']\n",
      "['AGARWAL', 'ARUSHI', 'aa255', '2010110140']\n",
      "['AGARWAL', 'DEVANSSH', 'da334', '2010110220']\n",
      "['AGARWAL', 'PRANSHU', 'pa283', '2010110475']\n",
      "['AGGARWAL', 'ABHAY', 'aa703', '2010110016']\n",
      "['AGGARWAL', 'PRATHAM', 'pa749', '2010110758']\n",
      "['AJMERA', 'SHIKHAR', 'sa292', '2010110902']\n",
      "['ANANTA', 'ILA', 'ia813', '2010110291']\n",
      "['ANEJA', 'SONAANSH', 'sa930', '2010111246']\n",
      "['AVINASH', 'APPALA', 'aa760', '2010110121']\n",
      "['B', 'CARL', 'cb943', '2010110196']\n",
      "['B', 'JENNICA', 'jb584', '2010110318']\n",
      "['B', 'SANTHOSH', 'sb875', '2010110565']\n",
      "['BAFNA', 'MAHAK', 'mb631', '2010110377']\n",
      "['BALAM', 'CHARUHAS', 'cb283', '2010110204']\n",
      "['BALAMURUGAN', 'RISHI', 'rb618', '2010110883']\n",
      "['BARAKOTI', 'ANANYA', 'ab983', '2010110083']\n",
      "['BERA', 'DEEP', 'db125', '2010110210']\n",
      "['BHANUTEJA', 'CHINTHA', 'cb567', '2010110206']\n",
      "['BHARDWAJ', 'ANUBHA', 'ab575', '2010110798']\n",
      "['BHATTACHARYA', 'SOHINI', 'sb355', '2010110640']\n",
      "['BOYAPATI', 'HEMANTH', 'hb268', '2010110980']\n",
      "['CHAKRABORTY', 'PRERNA', 'pc627', '2010110485']\n",
      "['CHAKRABORTY', 'TUNIR', 'tc589', '2010110686']\n",
      "['CHATHLEY', 'KANISHK', 'kc294', '2010110327']\n",
      "['CHATURVEDY', 'RAGHAV', 'rc166', '2010110759']\n",
      "['CHAWLA', 'ANSH', 'ac686', '2010110108']\n",
      "['CHAWLA', 'MOKSHA', 'mc744', '2010110402']\n",
      "['CHERUVU', 'MAHAMMAD SIRAJ', 'mc801', '2010110378']\n",
      "['DHINGRA', 'HARSHAL', 'hd207', '2010110278']\n",
      "['DIXIT', 'VARUN', 'vd462', '2010110706']\n",
      "['DUTTA', 'PARITOSH', 'pd597', '2010110458']\n",
      "['GABRANI', 'LOKAVYA', 'lg491', '2010110752']\n",
      "['GARG', 'AKSHIT', 'ag640', '2010110065']\n",
      "['GAUTAM', 'TANMAY', 'tg982', '2010110674']\n",
      "['GOEL', 'AYUSH', 'ag247', '2010110742']\n",
      "['GOEL', 'DEVANSHI', 'dg325', '2010110218']\n",
      "['GOWTHAM', 'VUMMITI', 'vg293', '2010111043']\n",
      "['GUPTA', 'ALANKRITI', 'ag565', '2010110069']\n",
      "['GUPTA', 'ARCHIT', 'ag213', '2010110126']\n",
      "['GUPTA', 'ARYAN', 'ag960', '2010110152']\n",
      "['GUPTA', 'ARYAN', 'ag774', '2010111155']\n",
      "['GUPTA', 'DEV', 'dg136', '2010110213']\n",
      "['GUPTA', 'DHRUV', 'dg635', '2010110819']\n",
      "['GUPTA', 'MANAN', 'mg107', '1910110223']\n",
      "['GUPTA', 'NATANYA', 'ng702', '2010110421']\n",
      "['GUPTA', 'PRERIT', 'pg682', '2010110483']\n",
      "['GUPTA', 'RIYA', 'rg371', '1910110322']\n",
      "['GUPTA', 'SHWETA', 'sg927', '2010110618']\n",
      "['GUPTA', 'SIDDHARTH', 'sg302', '2010110622']\n",
      "['GUPTA', 'VIKAS', 'vg152', '2010110715']\n",
      "['GUPTA', 'YASH', 'yg826', '2010110947']\n",
      "['Haria', 'Parv', 'ph232', '2010111245']\n",
      "['INTURI', 'PRANAV', 'pi467', '2010110472']\n",
      "['ITALIYA', 'JIGAR', 'ji206', '2010110319']\n",
      "['JAIN', 'ARIHANT', 'aj534', '1910110085']\n",
      "['JAIN', 'ARJAV', 'aj157', '2010110128']\n",
      "['JAIN', 'BHAVEN', 'bj995', '1910110112']\n",
      "['JAIN', 'BHAVIK', 'bj810', '2010110811']\n",
      "['JAIN', 'PALAK', 'pj542', '2010110453']\n",
      "['JAIN', 'PRATEEK', 'pj579', '2010110477']\n",
      "['JAIN', 'SAMYAK', 'sj442', '2010110763']\n",
      "['JAKHAR', 'AKSHITA', 'aj232', '2010110067']\n",
      "['K', 'ABHIJITH', 'ak707', '2010110020']\n",
      "['K B', 'MEGHA', 'mk197', '2010110394']\n",
      "['KALIDINDI', 'JAGANNATH', 'jk577', '2010110308']\n",
      "['KANDURI VENKATA SESHA', 'SRI HARSHA', 'sk132', '2010110649']\n",
      "['KAUSHIK', 'ASHEESH', 'ak943', '2010110161']\n",
      "['KEDIA', 'AARYAN', 'ak970', '2010110012']\n",
      "['KHAN', 'AYAAN', 'ak325', '2010110175']\n",
      "['KLAIR', 'FATEH', 'fk736', '2010110245']\n",
      "['KOKKIRAPATI', 'SIVA', 'sk552', '2010110769']\n",
      "['KOLLURU', 'KOLLURUJESHWANTH', 'kk345', '2010110351']\n",
      "['KOMARNENI', 'SREE', 'sk630', '2010110646']\n",
      "['KRISHNAN', 'RISHI', 'rk961', '2010110517']\n",
      "['MADDALA', 'PRAVAL', 'mp936', '2010111030']\n",
      "['MAHENDRU', 'ADITYA', 'am492', '2010110042']\n",
      "['MAHESHWARI', 'PREKSHA', 'pm470', '2010111106']\n",
      "['MAKKAPATI', 'KUMAR', 'km607', '2010110357']\n",
      "['MALHOTRA', 'ANANYA', 'am238', '2010110790']\n",
      "['MALIK', 'AAKASH', 'am730', '2010110003']\n",
      "['MALIK', 'DIYA', 'dm411', '2010110234']\n",
      "['MISHRA', 'ANOUSHKA', 'am649', '2010110106']\n",
      "['MISHRA', 'TUSHAR', 'tm217', '2010110688']\n",
      "['NAGPAL', 'ARYAN', 'an125', '2010110155']\n",
      "['NARANG', 'AARUSH', 'an229', '2010110009']\n",
      "['NARASIMHA', 'SEERAM', 'sn701', '2010110574']\n",
      "['NARENDRANATH', 'NIVEDITHA', 'nn667', '2010110861']\n",
      "['NAYAK', 'TUSHAR', 'tn995', '2010110689']\n",
      "['NERELLA', 'ABHISHEK', 'an828', '1910110020']\n",
      "['NUKALA', 'ANJANI', 'an834', '2010110966']\n",
      "['PANDA', 'CHANCHALA', 'cp352', '2010110200']\n",
      "['PANWAR', 'EKANSH', 'ep710', '2010110238']\n",
      "['PATIL', 'VEDANTA', 'vp433', '2010110710']\n",
      "['PENDYALA', 'AMAN', 'ap315', '2010110074']\n",
      "['PRAKASH', 'SHASHWAT', 'sp155', '2010111108']\n",
      "['RAI', 'MAITREYEE', 'mr644', '2010110382']\n",
      "['RALHAN', 'RIYA', 'rr556', '2010110524']\n",
      "['Rastosgi', 'Devashish', 'dr895', '2010111200']\n",
      "['RATHOD', 'MEGH', 'mr867', '2010110393']\n",
      "['RAVISHANKAR', 'SNEHASRI', 'sr576', '2010110638']\n",
      "['REDDY', 'BHAARATH', 'br904', '2010110186']\n",
      "['REDDY', 'DUREDDY', 'dr134', '2010110235']\n",
      "['REDDY', 'DUVVURU', 'dr366', '2010110236']\n",
      "['REDDY', 'KATAKAM', 'kr268', '2010110340']\n",
      "['REDDY', 'KOVVURI', 'kr521', '2010110354']\n",
      "['RUSTOGI', 'ANSHUL', 'ar794', '2010110111']\n",
      "['S', 'ARAVINDAN', 'as106', '1910110080']\n",
      "['S', 'VIBHA', 'vs269', '2010110943']\n",
      "['S V', 'MADHU', 'ms279', '2010110374']\n",
      "['S.', 'PRITHVIRAJ', 'ps617', '2010110488']\n",
      "['SAHU', 'SIDDHARTH', 'ss195', '2010110623']\n",
      "['SAI SRINIVAS', 'K', 'ks165', '2010110833']\n",
      "['SAMADHIYA', 'VERNIKA', 'vs883', '1910110440']\n",
      "['SAMYAL', 'KARAN', 'ks691', '2010110331']\n",
      "['SANDHU', 'MAHTAB', 'ms616', '2010110380']\n",
      "['SANKETH', 'JALAGAM', 'js968', '2010110310']\n",
      "['SARAN', 'BODDULURI', 'bs404', '2010110193']\n",
      "['SATHWIK', 'NULU', 'ns322', '2010110443']\n",
      "['SAXENA', 'LAKSHYA', 'ls927', '2010110952']\n",
      "['SETHI', 'JASHAN', 'js385', '1910110177']\n",
      "['SHAKYA', 'PRATEEK', 'ps738', '2010110478']\n",
      "['SHARAN', 'S', 'ss838', '2010110543']\n",
      "['SHARAT', 'REDDI', 'rs723', '2010110506']\n",
      "['SHARMA', 'AADI', 'as512', '2010110002']\n",
      "['SHARMA', 'ANIKA', 'as547', '2010110089']\n",
      "['SHARMA', 'GAUTAM', 'gs617', '2010110255']\n",
      "['SHARMA', 'ISHITA', 'is143', '2010110303']\n",
      "['SHARMA', 'MAYANK', 'ms991', '1910110231']\n",
      "['SHARMA', 'PRANATI', 'ps470', '2010110471']\n",
      "['SHARMA', 'PRATEEK', 'ps929', '1910110285']\n",
      "['SHARMA', 'PRATHAM', 'ps283', '2010110479']\n",
      "['SHARMA', 'SHREY', 'ss989', '2010110600']\n",
      "['SHRIVASTAVA', 'KARTIKEYE', 'ks731', '2010111055']\n",
      "['SIDDHARTHA', 'CHIVUKULA', 'cs100', '2010111021']\n",
      "['SINGH', 'MAITREYI', 'ms790', '2010110383']\n",
      "['SINGH', 'SOUMYA', 'ss865', '2010110643']\n",
      "['SINGHAL', 'ANANYA', 'as146', '2010110087']\n",
      "['SINGHANIA', 'SARTHAK', 'ss878', '2010110898']\n",
      "['SINHA', 'SHREYA', 'ss115', '2010111003']\n",
      "['SREERAMOZU', 'GAUTHAM', 'gs462', '2010110256']\n",
      "['SRIVASTAVA', 'HARSH', 'hs283', '2010110277']\n",
      "['SRIVASTAVA', 'OJAS', 'os583', '2010110445']\n",
      "['SRIVASTAVA', 'RIYA', 'rs327', '2010110526']\n",
      "['SURA', 'MITRA', 'ms139', '2010110399']\n",
      "['SURAPANENI', 'GEETHAM', 'gs272', '2010110259']\n",
      "['SURI', 'ADHYAN', 'as649', '1910110026']\n",
      "['TALUS', 'ANUBHAV', 'at250', '2010110113']\n",
      "['TAMBI', 'YASH', 'yt734', '2010110725']\n",
      "['TAXALI', 'KANISHK', 'kt945', '2010110835']\n",
      "['THAKKAR', 'PREM', 'pt992', '2010110482']\n",
      "['TIWARI', 'MRINAL', 'mt816', '2010110404']\n",
      "['TIWARI', 'SHASHWAT', 'st289', '2010111038']\n",
      "['TRIPATHI', 'SRIKANT', 'st234', '2010110770']\n",
      "['VADAPALLI GURU', 'AKSHATH', 'av555', '2010110064']\n",
      "['VENKATA AKASH', 'GOGINENI', 'gv653', '2010110262']\n",
      "['VERMA', 'CHINMAYI', 'cv948', '2010111244']\n",
      "['Y', 'ADITYA', 'ay795', '2010110047']\n",
      "['YADAV', 'ADITYA RAJ', 'ay958', '2010110048']\n",
      "['YESWANTH REDDY', 'POSAM', 'py448', '2010110466']\n"
     ]
    }
   ],
   "source": [
    "import csv\n",
    "student_details = {}\n",
    "with open('student_details/dbms students details copy.csv')as file:\n",
    "    csvFile = csv.reader(file)\n",
    "    for lines in csvFile:\n",
    "        print(lines)"
   ],
   "metadata": {
    "collapsed": false,
    "pycharm": {
     "name": "#%%\n"
    }
   }
  },
  {
   "cell_type": "code",
   "execution_count": 37,
   "outputs": [
    {
     "name": "stdout",
     "output_type": "stream",
     "text": [
      "          Last Name  First Name Username  Student ID\n",
      "0                 .       AMAAN    am795  2010110072\n",
      "1                 .       AYAAN    ay636  2010110174\n",
      "2                 A   ANIRUDHAN    aa324  2010110096\n",
      "3            AAKASH    LAKSHMAN    la118  2010110364\n",
      "4          ADITYAJA       MUDIT    ma646  2010110406\n",
      "..              ...         ...      ...         ...\n",
      "159   VENKATA AKASH    GOGINENI    gv653  2010110262\n",
      "160           VERMA    CHINMAYI    cv948  2010111244\n",
      "161               Y      ADITYA    ay795  2010110047\n",
      "162           YADAV  ADITYA RAJ    ay958  2010110048\n",
      "163  YESWANTH REDDY       POSAM    py448  2010110466\n",
      "\n",
      "[164 rows x 4 columns]\n"
     ]
    }
   ],
   "source": [
    "df = pd.read_csv(\"student_details/dbms students details copy.csv\")\n",
    "print(df)"
   ],
   "metadata": {
    "collapsed": false,
    "pycharm": {
     "name": "#%%\n"
    }
   }
  },
  {
   "cell_type": "code",
   "execution_count": 38,
   "outputs": [],
   "source": [
    "df.insert(2, \"Lab 5 attendance\", [\"A\"]*164, True)"
   ],
   "metadata": {
    "collapsed": false,
    "pycharm": {
     "name": "#%%\n"
    }
   }
  },
  {
   "cell_type": "code",
   "execution_count": 39,
   "outputs": [
    {
     "name": "stdout",
     "output_type": "stream",
     "text": [
      "          Last Name  First Name Lab 5 attendance Username  Student ID\n",
      "0                 .       AMAAN                A    am795  2010110072\n",
      "1                 .       AYAAN                A    ay636  2010110174\n",
      "2                 A   ANIRUDHAN                A    aa324  2010110096\n",
      "3            AAKASH    LAKSHMAN                A    la118  2010110364\n",
      "4          ADITYAJA       MUDIT                A    ma646  2010110406\n",
      "..              ...         ...              ...      ...         ...\n",
      "159   VENKATA AKASH    GOGINENI                A    gv653  2010110262\n",
      "160           VERMA    CHINMAYI                A    cv948  2010111244\n",
      "161               Y      ADITYA                A    ay795  2010110047\n",
      "162           YADAV  ADITYA RAJ                A    ay958  2010110048\n",
      "163  YESWANTH REDDY       POSAM                A    py448  2010110466\n",
      "\n",
      "[164 rows x 5 columns]\n"
     ]
    }
   ],
   "source": [
    "print(df)"
   ],
   "metadata": {
    "collapsed": false,
    "pycharm": {
     "name": "#%%\n"
    }
   }
  },
  {
   "cell_type": "code",
   "execution_count": 40,
   "outputs": [
    {
     "name": "stdout",
     "output_type": "stream",
     "text": [
      "A\n"
     ]
    }
   ],
   "source": [
    "print(df.at[1, 'Lab 5 attendance'])"
   ],
   "metadata": {
    "collapsed": false,
    "pycharm": {
     "name": "#%%\n"
    }
   }
  },
  {
   "cell_type": "code",
   "execution_count": 41,
   "outputs": [],
   "source": [
    "for i in range(164):\n",
    "    if df.at[i,'Username'] in present_list:\n",
    "        df.at[i,'Lab 5 attendance'] = \"P\"\n"
   ],
   "metadata": {
    "collapsed": false,
    "pycharm": {
     "name": "#%%\n"
    }
   }
  },
  {
   "cell_type": "code",
   "execution_count": 42,
   "outputs": [
    {
     "name": "stdout",
     "output_type": "stream",
     "text": [
      "          Last Name  First Name Lab 5 attendance Username  Student ID\n",
      "0                 .       AMAAN                P    am795  2010110072\n",
      "1                 .       AYAAN                P    ay636  2010110174\n",
      "2                 A   ANIRUDHAN                P    aa324  2010110096\n",
      "3            AAKASH    LAKSHMAN                A    la118  2010110364\n",
      "4          ADITYAJA       MUDIT                P    ma646  2010110406\n",
      "..              ...         ...              ...      ...         ...\n",
      "159   VENKATA AKASH    GOGINENI                P    gv653  2010110262\n",
      "160           VERMA    CHINMAYI                P    cv948  2010111244\n",
      "161               Y      ADITYA                A    ay795  2010110047\n",
      "162           YADAV  ADITYA RAJ                P    ay958  2010110048\n",
      "163  YESWANTH REDDY       POSAM                P    py448  2010110466\n",
      "\n",
      "[164 rows x 5 columns]\n"
     ]
    }
   ],
   "source": [
    "print(df)"
   ],
   "metadata": {
    "collapsed": false,
    "pycharm": {
     "name": "#%%\n"
    }
   }
  },
  {
   "cell_type": "code",
   "execution_count": 44,
   "outputs": [],
   "source": [
    "df.to_excel(\"student_details/dbms students details copy.xlsx\")"
   ],
   "metadata": {
    "collapsed": false,
    "pycharm": {
     "name": "#%%\n"
    }
   }
  },
  {
   "cell_type": "markdown",
   "source": [
    "## CHECK AUTHOR OF SUBMISSIONS"
   ],
   "metadata": {
    "collapsed": false
   }
  },
  {
   "cell_type": "code",
   "execution_count": 2,
   "outputs": [],
   "source": [
    "import docx\n",
    "\n",
    "file_name = '/Users/rahul.madan/Downloads/graded lab/Graded Lab1_aa255_attempt_2022-10-20-14-02-59_2010110140_GL#1.docx'"
   ],
   "metadata": {
    "collapsed": false,
    "pycharm": {
     "name": "#%%\n"
    }
   }
  },
  {
   "cell_type": "code",
   "execution_count": 3,
   "outputs": [
    {
     "name": "stdout",
     "output_type": "stream",
     "text": [
      "ARUSHI AGARWAL1\n"
     ]
    }
   ],
   "source": [
    "document = docx.Document(docx = file_name)\n",
    "core_properties = document.core_properties\n",
    "print(core_properties.author)"
   ],
   "metadata": {
    "collapsed": false,
    "pycharm": {
     "name": "#%%\n"
    }
   }
  },
  {
   "cell_type": "code",
   "execution_count": 6,
   "outputs": [
    {
     "name": "stdout",
     "output_type": "stream",
     "text": [
      "['Graded Lab1_pm470_attempt_2022-10-20-13-40-03_2010111106_GL#1.docx', 'Graded Lab1_pj542_attempt_2022-10-20-13-19-26_DBMS GL1_Palak Jain_2010110453.docx', 'Graded Lab1_st234_attempt_2022-10-20-13-32-29_2010110770_GL#1.docx', 'Graded Lab1_aa324_attempt_2022-10-20-13-55-48_2010110096_GL#1.docx', 'Graded Lab1_bs404_attempt_2022-10-20-13-41-26_2010110193_GL#1.docx', 'Graded Lab1_gv653_attempt_2022-10-20-13-55-04_2010110262_GL#1.docx', 'Graded Lab1_ag247_attempt_2022-10-20-13-34-56_2010110742_GL#1.docx', 'Graded Lab1_hd207_attempt_2022-10-20-13-23-58_2010110278_GL#1.docx', 'Graded Lab1_sg927_attempt_2022-10-20-13-43-11_2010110618_GL#1.docx', 'Graded Lab1_cb943_attempt_2022-10-20-13-55-49_2010110196_GL#1.docx', 'Graded Lab1_ay958_attempt_2022-10-20-13-49-18_GL1_2010110048.docx', 'Graded Lab1_dr895_attempt_2022-10-20-13-56-59_2010111200_GL#1.docx', 'Graded Lab1_vg152_attempt_2022-10-20-13-59-16_2010110715_lab_exam.docx', 'Graded Lab1_an828_attempt_2022-10-20-13-04-19_1910110020_GL1.docx', 'Graded Lab1_ag960_attempt_2022-10-20-13-33-10_2010110152_GL#1.docx', 'Graded Lab1_gs617_attempt_2022-10-20-13-50-32_2010110255_GL#1.docx', 'Graded Lab1_rr556_attempt_2022-10-20-13-44-02_2010110524_GL#1.docx', 'Graded Lab1_ms139_attempt_2022-10-20-13-42-20_2010110399_GL#1.docx', 'Graded Lab1_as106_attempt_2022-10-20-13-53-39_1910110080_GL#1.docx', 'Graded Lab1_tn995_attempt_2022-10-20-13-55-03_GLA1.docx', 'Graded Lab1_mt816_attempt_2022-10-20-13-53-06_2010110404_GL#1.docx', 'Graded Lab1_ma646_attempt_2022-10-20-13-17-03_GradedLab#1_2010110406.docx', 'Graded Lab1_ms279_attempt_2022-10-20-13-52-04_2010110374_Gl#1.docx', 'Graded Lab1_dg136_attempt_2022-10-20-13-47-37_2010110213_gla#1.docx', 'Graded Lab1_ia813_attempt_2022-10-20-13-48-49_2010110291_GL#1.docx', 'Graded Lab1_ss195_attempt_2022-10-20-13-25-08_2010110623_GL#1.docx', 'Graded Lab1_tg982_attempt_2022-10-20-13-42-32_2010110674_GL#1.docx', 'Graded Lab1_ps283_attempt_2022-10-20-13-36-42_2010110479_GL#1.docx', 'Graded Lab1_ag565_attempt_2022-10-20-13-59-23_2010110069_GL#1.docx', 'Graded Lab1_at250_attempt_2022-10-20-13-25-31_2010110113_GL#1.docx', 'Graded Lab1_ls927_attempt_2022-10-20-13-52-17_2010110952_GL#1.docx', 'Graded Lab1_mg107_attempt_2022-10-20-13-54-56_1910110223_GL#1.docx', 'Graded Lab1_am238_attempt_2022-10-20-13-57-54_2010110790_GL#1.docx', 'Graded Lab1_ss838_attempt_2022-10-20-13-45-14_SGokulSharan_GLA1.docx', 'Graded Lab1_ps929_attempt_2022-10-20-13-53-34_1910110285_GL#1.docx', 'Graded Lab1_pg682_attempt_2022-10-20-13-06-57_2010110483_GL#1.docx', 'Graded Lab1_sj442_attempt_2022-10-20-13-45-54_2010110763_GL#1.docx', 'Graded Lab1_ss989_attempt_2022-10-20-13-51-22_2010110600_GL#1.docx', 'Graded Lab1_bj995_attempt_2022-10-20-13-41-47_1910110112_GL#1.docx', 'Graded Lab1_cp352_attempt_2022-10-20-13-51-44_2010110200_GL#1.docx', 'Graded Lab1_os583_attempt_2022-10-20-13-17-20_2010110445_GL#1.docx', 'Graded Lab1_bj810_attempt_2022-10-20-14-00-31_2010110811_GL#1.docx', 'Graded Lab1_pj579_attempt_2022-10-20-13-23-08_Prateek_Jain_2010110477_GL1.docx', 'Graded Lab1_tc589_attempt_2022-10-20-13-41-34_2010110686_GL#1.docx', 'Graded Lab1_ks165_attempt_2022-10-20-13-59-29_2010110833-GL#1.docx', 'Graded Lab1_aj232_attempt_2022-10-20-13-49-44_2010110067_GL#1.docx', 'Graded Lab1_ep710_attempt_2022-10-20-13-24-51_2010110238_GL#1.docx', 'Graded Lab1_cb567_attempt_2022-10-20-13-02-06_2010110206_GL#1.docx', 'Graded Lab1_kk345_attempt_2022-10-20-13-37-20_2010110351_GL#1.docx', 'Graded Lab1_da334_attempt_2022-10-20-13-57-50_2010110220_#GL1.docx', 'Graded Lab1_aj157_attempt_2022-10-20-13-47-13_2010110128_GL#1.docx', 'Graded Lab1_av555_attempt_2022-10-20-13-14-24_2010110064_GL#1.docx', 'Graded Lab1_dr366_attempt_2022-10-20-13-28-47_2010110236_GL#1.docx', 'Graded Lab1_mc801_attempt_2022-10-20-13-46-38_2010110378_GL#1.docx', 'Graded Lab1_sb875_attempt_2022-10-20-13-20-14_2010110565_GL#1.docx', 'Graded Lab1_am795_attempt_2022-10-20-13-58-45_2010110072_GL#1.docx', 'Graded Lab1_dr134_attempt_2022-10-20-13-52-04_2010110235_GL#1.docx', 'Graded Lab1_vs269_attempt_2022-10-20-13-02-30_2010110943_GL#1.docx', 'Graded Lab1_mr867_attempt_2022-10-20-13-10-02_2010110393_GL#1.docx', 'Graded Lab1_sp155_attempt_2022-10-20-13-39-35_2010111108_GL#1.docx', 'Graded Lab1_yt734_attempt_2022-10-20-13-05-32_2010110725_GL#1.docx', 'Graded Lab1_an834_attempt_2022-10-20-14-01-40_2010110966_labquiz.docx', 'Graded Lab1_rb618_attempt_2022-10-20-13-02-28_2010110883_GL#1.docx', 'Graded Lab1_am730_attempt_2022-10-20-13-22-16_2010110003_GL#1.docx', 'Graded Lab1_vs883_attempt_2022-10-20-13-01-11_1910110440_GL#1.docx', 'Graded Lab1_gs462_attempt_2022-10-20-14-04-38_2010110256_GL#1.docx', 'Graded Lab1_sg302_attempt_2022-10-20-13-48-43_2010110622_GL#1.docx', 'Graded Lab1_ak970_attempt_2022-10-20-14-05-10_2010110012_GL#1.docx', 'Graded Lab1_rs327_attempt_2022-10-20-13-09-12_2010110526_GL#1.docx', 'Graded Lab1_ng702_attempt_2022-10-20-13-50-18_2010110421_GL#1.docx', 'Graded Lab1_as649_attempt_2022-10-20-13-30-03_1910110026_GL#1.docx', 'Graded Lab1_sk552_attempt_2022-10-20-13-02-06_2010110769_GL1.docx', 'Graded Lab1_sa930_attempt_2022-10-20-13-58-21_2010111246.docx', 'Graded Lab1_rg371_attempt_2022-10-20-13-59-31_Graded Lab 1.docx', 'Graded Lab1_ms790_attempt_2022-10-20-13-13-20_2010110383 GL-1.docx', 'Graded Lab1_is143_attempt_2022-10-20-13-55-16_2010110303_GL#1.docx', 'Graded Lab1_mp936_attempt_2022-10-20-13-55-21_2010111030_GL#1.docx', 'Graded Lab1_gs272_attempt_2022-10-20-13-45-07_Geetham_Surapaneni_LabExam1.docx', 'Graded Lab1_sa292_attempt_2022-10-20-13-43-33_2010110902_GL#1.docx', 'Graded Lab1_sk630_attempt_2022-10-20-13-43-34_2010110646_GL#1.docx', 'Graded Lab1_ks691_attempt_2022-10-20-13-20-53_2010110331_GL#1.docx', 'Graded Lab1_pa283_attempt_2022-10-20-13-36-35_2010110475_GL#1.docx', 'Graded Lab1_ac686_attempt_2022-10-20-13-27-12_2010110108_GL#1.docx', 'Graded Lab1_rs723_attempt_2022-10-20-14-01-51_2010110506_GL#1.docx', 'Graded Lab1_ak325_attempt_2022-10-20-13-40-22_2010110175_GL#1.docx', 'Graded Lab1_ag774_attempt_2022-10-20-13-36-30_2010111155_GL#1.docx', 'Graded Lab1_hs283_attempt_2022-10-20-13-45-06_2010110277_GL#1.docx', 'Graded Lab1_mk197_attempt_2022-10-20-13-50-26_2010110394_GL#1.docx', 'Graded Lab1_as547_attempt_2022-10-20-13-47-50_2010110089_GL#1.docx', 'Graded Lab1_mb631_attempt_2022-10-20-13-59-49_2010110377_gl.docx', 'Graded Lab1_ss115_attempt_2022-10-20-13-58-50_2010111003_GL#1.docx', 'Graded Lab1_as146_attempt_2022-10-20-13-59-12_2010110087_GL#1.docx', 'Graded Lab1_la118_attempt_2022-10-20-13-47-02_2010110364_GL#1.docx', 'Graded Lab1_ms616_attempt_2022-10-20-13-43-00_2010110380_GL#1.docx', 'Graded Lab1_cs100_attempt_2022-10-20-13-58-37_2010111021_GL#1.docx', 'Graded Lab1_ar794_attempt_2022-10-20-13-03-04_2010110111_GL#1.docx', 'Graded Lab1_fk736_attempt_2022-10-20-13-55-46_GL1_2010110245.docx', 'Graded Lab1_ps470_attempt_2022-10-20-13-45-37_Graded Lab.docx', 'Graded Lab1_ps617_attempt_2022-10-20-13-23-33_2010110488_GL#1.docx', 'Graded Lab1_mr644_attempt_2022-10-20-13-44-41_2010110382_GL#1.docx', 'Graded Lab1_jb584_attempt_2022-10-20-13-57-26_jennicab_2010110318_gl1.docx', 'Graded Lab1_kt945_attempt_2022-10-20-13-39-36_2010110835_GL#1.docx', 'Graded Lab1_pa749_attempt_2022-10-20-13-01-06_GLA1 Pratham Aggarwal.docx', 'Graded Lab1_tm217_attempt_2022-10-20-13-00-42_2010110688_GL#1.docx', 'Graded Lab1_km607_attempt_2022-10-20-13-53-32_2010110357_GL#1.docx', 'Graded Lab1_ms991_attempt_2022-10-20-13-49-15_1910110231_GL#1.docx', 'Graded Lab1_aa255_attempt_2022-10-20-14-02-59_2010110140_GL#1.docx', 'Graded Lab1_dg325_attempt_2022-10-20-13-11-53_2010110218_GL#1.docx', 'Graded Lab1_kc294_attempt_2022-10-20-13-23-18_2010110327_GL#1.docx', 'Graded Lab1_ph232_attempt_2022-10-20-13-31-55_2010111245_GL#1.docx', 'Graded Lab1_ak943_attempt_2022-10-20-14-01-11_2010110161_GL#1.docx', 'Graded Lab1_aa760_attempt_2022-10-20-13-48-18_2010110121_GL#1.docx', 'Graded Lab1_hb268_attempt_2022-10-20-13-57-34_2010110980_GL#1.docx', 'Graded Lab1_mc744_attempt_2022-10-20-13-52-31_2010110402_GL1.docx', 'Graded Lab1_ab575_attempt_2022-10-20-13-52-58_2010110798_GL#1.docx', 'Graded Lab1_pt992_attempt_2022-10-20-13-37-09_2010110482_GL#1.docx', 'Graded Lab1_am649_attempt_2022-10-20-13-52-48_GLA1_anoushka_mishra_2010110106.docx', 'Graded Lab1_st289_attempt_2022-10-20-13-06-31_2010111038_GL#1.docx', 'Graded Lab1_ss865_attempt_2022-10-20-13-41-17_2010110643_GL#1.docx', 'Graded Lab1_sn701_attempt_2022-10-20-13-38-08_2010110574_GL1.docx', 'Graded Lab1_vp433_attempt_2022-10-20-13-58-02_2010110710_GL#1.docx', 'Graded Lab1_kr268_attempt_2022-10-20-13-55-47_katakam saideep reddy_gla1.docx', 'Graded Lab1_pi467_attempt_2022-10-20-13-52-01_2010110472_GLA1.docx', 'Graded Lab1_jk577_attempt_2022-10-20-13-48-15_2010110308_GL#1.docx', 'Graded Lab1_ay636_attempt_2022-10-20-13-57-36_2010110174_GL#1.docx', 'Graded Lab1_sb355_attempt_2022-10-20-13-47-02_2010110640_GL#1.docx', 'Graded Lab1_pd597_attempt_2022-10-20-13-45-41_Paritosh_Dutta_2010110458_gla1.docx', 'Graded Lab1_ak707_attempt_2022-10-20-13-41-24_2010110020_GL#1.docx', 'Graded Lab1_ay795_attempt_2022-10-20-14-08-29_20101100047.docx', 'Graded Lab1_kr521_attempt_2022-10-20-13-48-19_2010110354_GL#1.docx', 'Graded Lab1_ss878_attempt_2022-10-20-13-00-44_2010110898_GL#1.docx', 'Graded Lab1_an229_attempt_2022-10-20-13-52-15_Aarush Narang_Graded Lab 1_2010110009.docx', 'Graded Lab1_ps738_attempt_2022-10-20-13-34-46_2010110478_GL#1.docx', 'Graded Lab1_sk132_attempt_2022-10-20-13-58-56_2010110649_GL#1.docx', 'Graded Lab1_sr576_attempt_2022-10-20-14-04-45_2010110638_GL1.docx', 'Graded Lab1_ji206_attempt_2022-10-20-13-50-47_2010110319_GL#1.docx', 'Graded Lab1_ab983_attempt_2022-10-20-13-47-20_GLA1_DBMS_2010110083_AnanyaBarakoti.docx', 'Graded Lab1_pc627_attempt_2022-10-20-13-53-08_2010110485_GL#1.docx', 'Graded Lab1_py448_attempt_2022-10-20-14-02-27_GL1_2010110466_POSAM YESWANTH REDDY.docx', 'Graded Lab1_ap315_attempt_2022-10-20-13-42-23_2010110074_GL#1.docx', 'Graded Lab1_nn667_attempt_2022-10-20-13-47-27_2010110861_GL#1.docx', 'Graded Lab1_ns322_attempt_2022-10-20-13-59-12_2010110443_GL#1.docx', 'Graded Lab1_vg293_attempt_2022-10-20-13-59-40_2010111043_GL#1.docx', 'Graded Lab1_cb283_attempt_2022-10-20-13-56-15_2010110204_GL#1.docx', 'Graded Lab1_js968_attempt_2022-10-20-14-00-07_2010110310_GL#1.docx', 'Graded Lab1_rc166_attempt_2022-10-20-13-56-20_2010110759_GL#1.docx', 'Graded Lab1_ag640_attempt_2022-10-20-13-01-14_2010110065_GL#1.docx', 'Graded Lab1_aj534_attempt_2022-10-20-13-57-28_1910110085_GL#1.docx', 'Graded Lab1_dm411_attempt_2022-10-20-13-13-14_2010110234_GL#1.docx', 'Graded Lab1_am492_attempt_2022-10-20-13-27-41_2010110042_GL#1.docx', 'Graded Lab1_ag213_attempt_2022-10-20-13-52-59_2010110126_GL#1.docx']\n"
     ]
    }
   ],
   "source": [
    "docx_file_list = glob.glob(\"submissions/*.docx\")\n",
    "\n",
    "docx_file_list = [i[12:] for i in docx_file_list]\n",
    "\n",
    "\n",
    "print(docx_file_list)\n"
   ],
   "metadata": {
    "collapsed": false,
    "pycharm": {
     "name": "#%%\n"
    }
   }
  },
  {
   "cell_type": "code",
   "execution_count": 8,
   "outputs": [
    {
     "name": "stdout",
     "output_type": "stream",
     "text": [
      "['pm470', 'pj542', 'st234', 'aa324', 'bs404', 'gv653', 'ag247', 'hd207', 'sg927', 'cb943', 'ay958', 'dr895', 'vg152', 'an828', 'ag960', 'gs617', 'rr556', 'ms139', 'as106', 'tn995', 'mt816', 'ma646', 'ms279', 'dg136', 'ia813', 'ss195', 'tg982', 'ps283', 'ag565', 'at250', 'ls927', 'mg107', 'am238', 'ss838', 'ps929', 'pg682', 'sj442', 'ss989', 'bj995', 'cp352', 'os583', 'bj810', 'pj579', 'tc589', 'ks165', 'aj232', 'ep710', 'cb567', 'kk345', 'da334', 'aj157', 'av555', 'dr366', 'mc801', 'sb875', 'am795', 'dr134', 'vs269', 'mr867', 'sp155', 'yt734', 'an834', 'rb618', 'am730', 'vs883', 'gs462', 'sg302', 'ak970', 'rs327', 'ng702', 'as649', 'sk552', 'sa930', 'rg371', 'ms790', 'is143', 'mp936', 'gs272', 'sa292', 'sk630', 'ks691', 'pa283', 'ac686', 'rs723', 'ak325', 'ag774', 'hs283', 'mk197', 'as547', 'mb631', 'ss115', 'as146', 'la118', 'ms616', 'cs100', 'ar794', 'fk736', 'ps470', 'ps617', 'mr644', 'jb584', 'kt945', 'pa749', 'tm217', 'km607', 'ms991', 'aa255', 'dg325', 'kc294', 'ph232', 'ak943', 'aa760', 'hb268', 'mc744', 'ab575', 'pt992', 'am649', 'st289', 'ss865', 'sn701', 'vp433', 'kr268', 'pi467', 'jk577', 'ay636', 'sb355', 'pd597', 'ak707', 'ay795', 'kr521', 'ss878', 'an229', 'ps738', 'sk132', 'sr576', 'ji206', 'ab983', 'pc627', 'py448', 'ap315', 'nn667', 'ns322', 'vg293', 'cb283', 'js968', 'rc166', 'ag640', 'aj534', 'dm411', 'am492', 'ag213']\n"
     ]
    }
   ],
   "source": [
    "#exctract all netIDS.\n",
    "\n",
    "net_ids = [i[12:17] for i in docx_file_list]\n",
    "print(net_ids)"
   ],
   "metadata": {
    "collapsed": false,
    "pycharm": {
     "name": "#%%\n"
    }
   }
  },
  {
   "cell_type": "code",
   "execution_count": 9,
   "outputs": [
    {
     "name": "stdout",
     "output_type": "stream",
     "text": [
      "          Last Name  First Name Username  Student ID\n",
      "0                 .       AMAAN    am795  2010110072\n",
      "1                 .       AYAAN    ay636  2010110174\n",
      "2                 A   ANIRUDHAN    aa324  2010110096\n",
      "3            AAKASH    LAKSHMAN    la118  2010110364\n",
      "4          ADITYAJA       MUDIT    ma646  2010110406\n",
      "..              ...         ...      ...         ...\n",
      "159   VENKATA AKASH    GOGINENI    gv653  2010110262\n",
      "160           VERMA    CHINMAYI    cv948  2010111244\n",
      "161               Y      ADITYA    ay795  2010110047\n",
      "162           YADAV  ADITYA RAJ    ay958  2010110048\n",
      "163  YESWANTH REDDY       POSAM    py448  2010110466\n",
      "\n",
      "[164 rows x 4 columns]\n"
     ]
    }
   ],
   "source": [
    "df = pd.read_csv(\"student_details/dbms students details copy.csv\")\n",
    "print(df)"
   ],
   "metadata": {
    "collapsed": false,
    "pycharm": {
     "name": "#%%\n"
    }
   }
  },
  {
   "cell_type": "markdown",
   "source": [],
   "metadata": {
    "collapsed": false
   }
  },
  {
   "cell_type": "code",
   "execution_count": 11,
   "outputs": [
    {
     "name": "stdout",
     "output_type": "stream",
     "text": [
      "A\n"
     ]
    }
   ],
   "source": [
    "df.insert(2, \"author_name\", [\"A\"]*164, True)\n",
    "print(df.at[1, 'author_name'])"
   ],
   "metadata": {
    "collapsed": false,
    "pycharm": {
     "name": "#%%\n"
    }
   }
  },
  {
   "cell_type": "code",
   "execution_count": 12,
   "outputs": [],
   "source": [
    "docx_file_list = glob.glob(\"submissions/*.docx\")"
   ],
   "metadata": {
    "collapsed": false,
    "pycharm": {
     "name": "#%%\n"
    }
   }
  },
  {
   "cell_type": "code",
   "execution_count": 14,
   "outputs": [
    {
     "name": "stdout",
     "output_type": "stream",
     "text": [
      "{'pm470': 'Preksha Maheshwari', 'pj542': 'Palak Jain1', 'st234': 'Srikant Tripathi', 'aa324': 'Anirudhan A', 'bs404': 'Bodduluri Saran', 'gv653': 'Gogineni Venkata akash', 'ag247': 'Ayush Goel', 'hd207': 'HARSHAL DHINGRA', 'sg927': 'Shweta Gupta', 'cb943': 'Carl Jason B', 'ay958': 'Aditya Raj Yadav', 'dr895': 'DEVASHISH RASTOGI', 'vg152': 'Vikas Gupta', 'an828': 'Abhishek Nerella', 'ag960': 'Aryan Gupta1', 'gs617': 'Gautam Sharma', 'rr556': 'RIYA RALHAN', 'ms139': 'Mitra Abhi Sura', 'as106': 'Aravindan S', 'tn995': 'Tushar Nayak', 'mt816': 'Mrinal Tiwari', 'ma646': 'Mudit Adityaja', 'ms279': 'MADHU SRIRAM S V', 'dg136': 'DEV GUPTA', 'ia813': 'Ila Ananta', 'ss195': 'SIDDHARTH SAHU', 'tg982': 'Tanmay Gautam', 'ps283': 'Pratham Sharma', 'ag565': 'Alankriti Gupta', 'at250': 'Anubhav Talus', 'ls927': 'Lakshya Saxena', 'mg107': 'Manan Gupta', 'am238': 'Ananya Malhotra', 'ss838': 'S Sharan', 'ps929': 'Prateek Sharma', 'pg682': 'PRERIT Gupta', 'sj442': 'Samyak Jain', 'ss989': 'Shrey Sharma', 'bj995': 'Bhaven Jain', 'cp352': 'CHANCHALA PANDA', 'os583': 'Ojas Srivastava1', 'bj810': 'BHAVIK JAIN', 'pj579': 'Prateek Jain', 'tc589': 'Tunir Chakraborty', 'ks165': 'K SAI SRINIVAS', 'aj232': 'Akshita Jakhar', 'ep710': 'EKANSH PANWAR', 'cb567': 'CHINTHA BHANUTEJA', 'kk345': 'Kollurujeshwanth Kolluru', 'da334': 'DEVANSSH AGARWAL', 'aj157': 'Arjav Jain', 'av555': 'Akshath Vadapalli Guru', 'dr366': 'Duvvuru Reddy', 'mc801': 'MAHAMMAD SIRAJ CHERUVU', 'sb875': 'Santhosh B', 'am795': 'Amaan .', 'dr134': 'DUREDDY REDDY', 'vs269': 'VIBHA S', 'mr867': 'Megh Rathod', 'sp155': 'SHASHWAT PRAKASH', 'yt734': 'Yash Tambi', 'an834': 'ANJANI NUKALA', 'rb618': 'RISHI BALAMURUGAN', 'am730': 'Aakash Malik', 'vs883': 'Vernika Samadhiya', 'gs462': 'Gautham Sreeramozu', 'sg302': 'Siddharth Gupta', 'ak970': 'Aaryan Kedia', 'rs327': 'Riya Srivastava', 'ng702': 'Natanya Gupta', 'as649': 'Adhyan Suri', 'sk552': 'Siva Kokkirapati', 'sa930': 'Sonaansh Aneja', 'rg371': 'Riya Gupta', 'ms790': 'MAITREYI SINGH', 'is143': 'Ishita Sharma1', 'mp936': 'PRAVAL MADDALA', 'gs272': 'Geetham Surapaneni', 'sa292': 'Shikhar Ajmera', 'sk630': 'Sree Komarneni', 'ks691': 'Karan Samyal', 'pa283': 'PRANSHU AGARWAL', 'ac686': 'ANSH CHAWLA', 'rs723': 'REDDI SHARAT', 'ak325': 'Ayaan Khan', 'ag774': 'Aryan Gupta1', 'hs283': 'Harsh Srivastava', 'mk197': 'Megha K B', 'as547': 'Anika Sharma', 'mb631': 'Mahak Bafna', 'ss115': 'SHREYA SINHA', 'as146': 'Ananya Singhal', 'la118': 'Lakshman Aakash', 'ms616': 'Mahtab Sandhu', 'cs100': 'Mohana Siddhartha Chivukula', 'ar794': 'Anshul Rustogi', 'fk736': 'Fateh Klair', 'ps470': 'PRANATI SHARMA', 'ps617': 'Prithviraj S.', 'mr644': 'Maitreyee Rai', 'jb584': 'Jennica B', 'kt945': 'KANISHK TAXALI', 'pa749': 'Pratham Aggarwal', 'tm217': 'TUSHAR MISHRA', 'km607': 'Kumar Makkapati', 'ms991': 'Mayank Sharma', 'aa255': 'ARUSHI AGARWAL1', 'dg325': 'Devanshi Goel', 'kc294': 'Kanishk Chathley', 'ph232': 'Parv Haria', 'ak943': 'Asheesh Kaushik', 'aa760': 'Appala Avinash', 'hb268': 'Hemanth Boyapati', 'mc744': 'Moksha Chawla', 'ab575': 'Anubha Bhardwaj', 'pt992': 'Prem Thakkar', 'am649': 'Anoushka Mishra', 'st289': 'SHASHWAT TIWARI', 'ss865': 'Soumya Singh', 'sn701': 'SEERAM NARASIMHA', 'vp433': 'Vedanta Patil', 'kr268': 'KATAKAM REDDY', 'pi467': 'Pranav Rao Inturi', 'jk577': 'JAGANNATH VARMA KALIDINDI', 'ay636': 'AYAAN .', 'sb355': 'SOHINI BHATTACHARYA', 'pd597': 'PARITOSH DUTTA', 'ak707': 'ABHIJITH K', 'ay795': 'Aditya Raj Yadav', 'kr521': 'KOVVURI REDDY', 'ss878': 'Sarthak Singhania', 'an229': 'AARUSH NARANG', 'ps738': 'Prateek Shakya', 'sk132': 'SRI HARSHA KANDURI VENKATA SESHA', 'sr576': 'Snehasri Ravishankar', 'ji206': 'Jigar Italiya', 'ab983': 'Ananya Barakoti', 'pc627': 'Prerna Chakraborty', 'py448': 'Posam Yeswanth reddy', 'ap315': 'Aman Pendyala', 'nn667': 'NIVEDITHA NARENDRANATH', 'ns322': 'admin', 'vg293': 'VUMMITI GOWTHAM', 'cb283': 'CHARUHAS BALAM', 'js968': 'Jalagam Sanketh', 'rc166': 'Raghav Chaturvedy', 'ag640': 'Akshit Garg', 'aj534': 'Rahul Madan', 'dm411': 'Diya Malik', 'am492': 'Aditya Mahendru', 'ag213': 'Archit Gupta'}\n"
     ]
    }
   ],
   "source": [
    "owner = {}\n",
    "for path in docx_file_list:\n",
    "    # print(path[24:29])\n",
    "    document = docx.Document(docx = path)\n",
    "    core_properties = document.core_properties\n",
    "    owner[path[24:29]] = core_properties.author\n",
    "\n",
    "print(owner)"
   ],
   "metadata": {
    "collapsed": false,
    "pycharm": {
     "name": "#%%\n"
    }
   }
  },
  {
   "cell_type": "code",
   "execution_count": null,
   "outputs": [],
   "source": [],
   "metadata": {
    "collapsed": false,
    "pycharm": {
     "name": "#%%\n"
    }
   }
  }
 ],
 "metadata": {
  "kernelspec": {
   "display_name": "Python 3",
   "language": "python",
   "name": "python3"
  },
  "language_info": {
   "codemirror_mode": {
    "name": "ipython",
    "version": 2
   },
   "file_extension": ".py",
   "mimetype": "text/x-python",
   "name": "python",
   "nbconvert_exporter": "python",
   "pygments_lexer": "ipython2",
   "version": "2.7.6"
  }
 },
 "nbformat": 4,
 "nbformat_minor": 0
}